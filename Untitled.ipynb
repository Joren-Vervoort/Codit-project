{
 "cells": [
  {
   "cell_type": "code",
   "execution_count": 1,
   "id": "multiple-alias",
   "metadata": {},
   "outputs": [],
   "source": [
    "import librosa\n",
    "from librosa import feature\n",
    "import numpy as np\n",
    "import pandas as pd"
   ]
  },
  {
   "cell_type": "code",
   "execution_count": null,
   "id": "worst-marking",
   "metadata": {},
   "outputs": [],
   "source": []
  },
  {
   "cell_type": "code",
   "execution_count": 10,
   "id": "medium-mistress",
   "metadata": {},
   "outputs": [],
   "source": [
    "def Extract_Features(wav_file):\n",
    "\n",
    "    # loading the file, getting y and sr (sample rate)\n",
    "\n",
    "    y, sr = librosa.load('normal6.wav')\n",
    "\n",
    "    # Getting S and phase\n",
    "\n",
    "    S, phase = librosa.magphase(librosa.stft(y=y))\n",
    "\n",
    "    # Features for the DataFrame\n",
    "\n",
    "    chroma_stft = np.mean(librosa.feature.chroma_stft(y=y, sr=sr))\n",
    "\n",
    "    chroma_cqt = np.mean(librosa.feature.chroma_cqt(y=y, sr=sr))\n",
    "\n",
    "    chroma_cens = np.mean(librosa.feature.chroma_cens(y=y, sr=sr))\n",
    "\n",
    "    melspectrogram = np.mean(librosa.feature.melspectrogram(y=y, sr=sr, S=S))\n",
    "\n",
    "    mfcc = np.mean(librosa.feature.mfcc(y=y, sr=sr))\n",
    "\n",
    "    rms = np.mean(librosa.feature.rms(y=y, S=S))\n",
    "\n",
    "    spectral_centroid = np.mean(librosa.feature.spectral_centroid(y=y, sr=sr, S=S))\n",
    "\n",
    "    spectral_bandwidth = np.mean(librosa.feature.spectral_bandwidth(y=y, sr=sr, S=S))\n",
    "\n",
    "    spectral_contrast = np.mean(librosa.feature.spectral_contrast(y=y, sr=sr, S=S))\n",
    "\n",
    "    spectral_flatness = np.mean(librosa.feature.spectral_flatness(y=y, S=S))\n",
    "\n",
    "    spectral_rolloff = np.mean(librosa.feature.spectral_rolloff(y=y, sr=sr, S=S))\n",
    "    \n",
    "    poly_features = np.mean(librosa.feature.poly_features(y=y, sr=sr, S=S))\n",
    "\n",
    "    tonnetz = np.mean(librosa.feature.tonnetz(y=y, sr=sr))\n",
    "\n",
    "    zero_crossing_rate = np.mean(librosa.feature.zero_crossing_rate(y=y))\n",
    "    \n",
    "    # putting them into a dataframe\n",
    "\n",
    "    df = pd.DataFrame({'chroma_stft': [chroma_stft], 'chroma_cqt': [chroma_cqt], 'chroma_cens' : [chroma_cens], \n",
    "                             'melspectrogram' : [melspectrogram], 'mfcc' : [mfcc], 'rms' : [rms],\n",
    "                        'spectral_centroid' : [spectral_centroid], 'spectral_bandwidth' : [spectral_bandwidth],\n",
    "                        'spectral_contrast' : [spectral_contrast], 'spectral_flatness ' : [spectral_flatness],\n",
    "                        'spectral_rolloff' : [spectral_rolloff], 'poly_features' : [poly_features], \n",
    "                             'tonnetz' : [tonnetz], 'zero_crossing_rate' : [zero_crossing_rate]})\n",
    "    \n",
    "    return df"
   ]
  },
  {
   "cell_type": "code",
   "execution_count": 5,
   "id": "operating-hughes",
   "metadata": {},
   "outputs": [
    {
     "name": "stdout",
     "output_type": "stream",
     "text": [
      "0.51952004 0.64968586 0.2768664578820685 0.0063003963 -15.342528 0.0029672773 1399.372424976763 1635.5262562424498 21.795883927971023 0.0008519296 2847.1041296584976 0.04339182995610907 -0.012394375426828448 0.06072474079176334\n"
     ]
    }
   ],
   "source": [
    "print(chroma_stft, chroma_cqt,chroma_cens,melspectrogram,mfcc,rms,spectral_centroid ,spectral_bandwidth ,spectral_contrast,spectral_flatness,spectral_rolloff,poly_features,tonnetz,zero_crossing_rate)"
   ]
  },
  {
   "cell_type": "code",
   "execution_count": 19,
   "id": "least-diagram",
   "metadata": {},
   "outputs": [
    {
     "ename": "FileNotFoundError",
     "evalue": "[WinError 3] The system cannot find the path specified: 'C://Users/vervo/Documents/Codit Project/DataSet/Valves/6_dB_valve.zip/valve/id_00/normal/'",
     "output_type": "error",
     "traceback": [
      "\u001b[1;31m---------------------------------------------------------------------------\u001b[0m",
      "\u001b[1;31mFileNotFoundError\u001b[0m                         Traceback (most recent call last)",
      "\u001b[1;32m<ipython-input-19-472bfece825e>\u001b[0m in \u001b[0;36m<module>\u001b[1;34m\u001b[0m\n\u001b[0;32m      6\u001b[0m \u001b[0mdirectory_normal_6\u001b[0m \u001b[1;33m=\u001b[0m \u001b[1;34m\"C://Users/vervo/Documents/Codit Project/DataSet/Valves/6_dB_valve.zip/valve/id_00/normal/\"\u001b[0m\u001b[1;33m\u001b[0m\u001b[1;33m\u001b[0m\u001b[0m\n\u001b[0;32m      7\u001b[0m \u001b[1;33m\u001b[0m\u001b[0m\n\u001b[1;32m----> 8\u001b[1;33m \u001b[1;32mfor\u001b[0m \u001b[0mfilename\u001b[0m \u001b[1;32min\u001b[0m \u001b[0mos\u001b[0m\u001b[1;33m.\u001b[0m\u001b[0mlistdir\u001b[0m\u001b[1;33m(\u001b[0m\u001b[0mdirectory_normal_6\u001b[0m\u001b[1;33m)\u001b[0m\u001b[1;33m:\u001b[0m\u001b[1;33m\u001b[0m\u001b[1;33m\u001b[0m\u001b[0m\n\u001b[0m\u001b[0;32m      9\u001b[0m     \u001b[0mfile\u001b[0m \u001b[1;33m=\u001b[0m \u001b[1;34mf\"{directory_normal_6}{filename}\"\u001b[0m\u001b[1;33m\u001b[0m\u001b[1;33m\u001b[0m\u001b[0m\n\u001b[0;32m     10\u001b[0m     \u001b[0mlist_normal_6\u001b[0m\u001b[1;33m.\u001b[0m\u001b[0mappend\u001b[0m\u001b[1;33m(\u001b[0m\u001b[0mfile\u001b[0m\u001b[1;33m)\u001b[0m\u001b[1;33m\u001b[0m\u001b[1;33m\u001b[0m\u001b[0m\n",
      "\u001b[1;31mFileNotFoundError\u001b[0m: [WinError 3] The system cannot find the path specified: 'C://Users/vervo/Documents/Codit Project/DataSet/Valves/6_dB_valve.zip/valve/id_00/normal/'"
     ]
    }
   ],
   "source": [
    "import os\n",
    "import sys\n",
    "\n",
    "list_normal_6 = []\n",
    "\n",
    "directory_normal_6 = \"C:/Users/vervo/Documents/Codit Project/DataSet/Valves/6_dB_valve.zip/valve/id_00/normal/\"\n",
    "\n",
    "for filename in os.listdir(directory_normal_6):\n",
    "    file = f\"{directory_normal_6}{filename}\"\n",
    "    list_normal_6.append(file)\n",
    "\n",
    "directory_abnormal_6 = \"C:/Users/vervo/Documents/Codit Project/DataSet/Valves/6_dB_valve.zip/valve/id_00/abnormal/\"\n",
    "\n",
    "for filename in os.listdir(directory_abnormal_6):\n",
    "    file = f\"{directory_abnormal_6}{filename}\"\n",
    "    list_abnormal_6.append(file)"
   ]
  },
  {
   "cell_type": "code",
   "execution_count": 23,
   "id": "timely-title",
   "metadata": {},
   "outputs": [
    {
     "data": {
      "text/plain": [
       "'C:\\\\Users\\\\vervo\\\\Documents\\\\Codit Project\\\\DataSet\\\\Valves\\\\6_dB_valve.zip\\\\valve\\\\id_00\\\\normal'"
      ]
     },
     "execution_count": 23,
     "metadata": {},
     "output_type": "execute_result"
    }
   ],
   "source": [
    "import os\n",
    "import sys\n",
    "\n",
    "list_normal_6 = []\n",
    "\n",
    "directory_normal_6 = os.path.abspath(\"DataSet/Valves/6_dB_valve.zip/valve/id_00/normal\")\n",
    "\n",
    "#for filename in os.listdir(directory_normal_6):\n",
    "#    print(filename)\n",
    "directory_normal_6"
   ]
  },
  {
   "cell_type": "code",
   "execution_count": 9,
   "id": "appropriate-proportion",
   "metadata": {},
   "outputs": [],
   "source": [
    "for wav_file in list_normal_6:\n",
    "    df = Extract_Features(wav_file)\n",
    "    if url == urls[0]:\n",
    "        df.to_csv('Librosa_features.csv', index=False)\n",
    "    else:\n",
    "        df.to_csv('Librosa_features.csv', mode='a', header=False, index=False)\n",
    "\n",
    "for wav_file in list_abnormal_6:\n",
    "    df = Extract_Features(wav_file)\n",
    "    if url == urls[0]:\n",
    "        df.to_csv('Librosa_features.csv', index=False)\n",
    "    else:\n",
    "        df.to_csv('Librosa_features.csv', mode='a', header=False, index=False)"
   ]
  },
  {
   "cell_type": "code",
   "execution_count": null,
   "id": "drawn-cheat",
   "metadata": {},
   "outputs": [],
   "source": []
  }
 ],
 "metadata": {
  "kernelspec": {
   "display_name": "Python 3",
   "language": "python",
   "name": "python3"
  },
  "language_info": {
   "codemirror_mode": {
    "name": "ipython",
    "version": 3
   },
   "file_extension": ".py",
   "mimetype": "text/x-python",
   "name": "python",
   "nbconvert_exporter": "python",
   "pygments_lexer": "ipython3",
   "version": "3.7.10"
  }
 },
 "nbformat": 4,
 "nbformat_minor": 5
}
