{
 "cells": [
  {
   "cell_type": "code",
   "execution_count": 1,
   "id": "closing-fraction",
   "metadata": {},
   "outputs": [],
   "source": [
    "import librosa\n",
    "from librosa import feature\n",
    "import numpy as np\n",
    "import pandas as pd\n",
    "import matplotlib.pyplot as plt\n",
    "from sklearn import tree\n",
    "#import graphviz \n",
    "from sklearn.ensemble import RandomForestClassifier\n",
    "from sklearn.model_selection import train_test_split\n",
    "import os\n",
    "import sys\n",
    "import time\n",
    "from functools import reduce\n",
    "from sklearn.model_selection import KFold, StratifiedKFold, cross_val_score\n",
    "from sklearn import linear_model, tree, ensemble"
   ]
  },
  {
   "cell_type": "markdown",
   "id": "tutorial-company",
   "metadata": {},
   "source": [
    "## Valve merging of 6,0,-6"
   ]
  },
  {
   "cell_type": "code",
   "execution_count": 2,
   "id": "altered-liberty",
   "metadata": {},
   "outputs": [],
   "source": [
    "def merge_pd(machine):\n",
    "    df_6dB=pd.read_csv(f'/home/regis/Desktop/machines/Codit-project/Librosa_features_{machine}_6dB.csv')\n",
    "    df_0dB=pd.read_csv(f'/home/regis/Desktop/machines/Codit-project/Librosa_features_{machine}_0dB.csv')\n",
    "    df_min6dB=pd.read_csv(f'/home/regis/Desktop/machines/Codit-project/Librosa_features_{machine}_-6dB.csv')\n",
    "    df_6dB.drop(columns = ['Unnamed: 0'], axis=1, inplace=True)\n",
    "    df_0dB.drop(columns = ['Unnamed: 0'], axis=1, inplace=True)\n",
    "    df_min6dB.drop(columns = ['Unnamed: 0'], axis=1, inplace=True)\n",
    "\n",
    "    df_6dB.columns = [str(col) + '_6dB' for col in df_6dB.columns]\n",
    "    df_0dB.columns = [str(col) + '_0dB' for col in df_0dB.columns]\n",
    "    df_min6dB.columns = [str(col) + '_-6dB' for col in df_min6dB.columns]\n",
    "    data_frames = [df_6dB, df_0dB, df_min6dB]\n",
    "    df_merged = reduce(lambda  left,right: pd.merge(left,right,left_index=True, right_index=True,how='outer'), data_frames)\n",
    "    return df_merged"
   ]
  },
  {
   "cell_type": "code",
   "execution_count": 3,
   "id": "fresh-charter",
   "metadata": {},
   "outputs": [],
   "source": [
    "valve=merge_pd('fan')"
   ]
  },
  {
   "cell_type": "code",
   "execution_count": 21,
   "id": "agricultural-business",
   "metadata": {},
   "outputs": [
    {
     "data": {
      "text/plain": [
       "(5550, 61)"
      ]
     },
     "execution_count": 21,
     "metadata": {},
     "output_type": "execute_result"
    }
   ],
   "source": [
    "valve.shape"
   ]
  },
  {
   "cell_type": "code",
   "execution_count": 4,
   "id": "quick-selling",
   "metadata": {},
   "outputs": [
    {
     "data": {
      "text/plain": [
       "Index(['melspectrogram_6dB', 'melspectrogram_min_6dB',\n",
       "       'melspectrogram_max_6dB', 'melspectrogram_sum_6dB',\n",
       "       'melspectrogram_corr_6dB', 'melspectrogram_std_6dB', 'mfcc_6dB',\n",
       "       'rms_6dB', 'spectral_centroid_6dB', 'spectral_bandwidth_6dB',\n",
       "       'spectral_contrast_6dB', 'spectral_flatness _6dB',\n",
       "       'spectral_rolloff_6dB', 'zero_crossing_rate_6dB', 'mean harm_6dB',\n",
       "       'mean perc_6dB', 'max harm_6dB', 'max perc_6dB', 'min harm_6dB',\n",
       "       'min perc_6dB', 'normal(0)/abnormal(1)_6dB', 'melspectrogram_0dB',\n",
       "       'melspectrogram_min_0dB', 'melspectrogram_max_0dB',\n",
       "       'melspectrogram_sum_0dB', 'melspectrogram_corr_0dB',\n",
       "       'melspectrogram_std_0dB', 'mfcc_0dB', 'rms_0dB',\n",
       "       'spectral_centroid_0dB', 'spectral_bandwidth_0dB',\n",
       "       'spectral_contrast_0dB', 'spectral_flatness _0dB',\n",
       "       'spectral_rolloff_0dB', 'zero_crossing_rate_0dB', 'mean harm_0dB',\n",
       "       'mean perc_0dB', 'max harm_0dB', 'max perc_0dB', 'min harm_0dB',\n",
       "       'min perc_0dB', 'normal(0)/abnormal(1)_0dB', 'melspectrogram_-6dB',\n",
       "       'melspectrogram_min_-6dB', 'melspectrogram_max_-6dB',\n",
       "       'melspectrogram_sum_-6dB', 'melspectrogram_corr_-6dB',\n",
       "       'melspectrogram_std_-6dB', 'mfcc_-6dB', 'rms_-6dB',\n",
       "       'spectral_centroid_-6dB', 'spectral_bandwidth_-6dB',\n",
       "       'spectral_contrast_-6dB', 'spectral_flatness _-6dB',\n",
       "       'spectral_rolloff_-6dB', 'zero_crossing_rate_-6dB', 'mean harm_-6dB',\n",
       "       'mean perc_-6dB', 'max harm_-6dB', 'max perc_-6dB', 'min harm_-6dB',\n",
       "       'min perc_-6dB', 'normal(0)/abnormal(1)_-6dB'],\n",
       "      dtype='object')"
      ]
     },
     "execution_count": 4,
     "metadata": {},
     "output_type": "execute_result"
    }
   ],
   "source": [
    "valve.columns"
   ]
  },
  {
   "cell_type": "code",
   "execution_count": 5,
   "id": "parallel-enlargement",
   "metadata": {},
   "outputs": [],
   "source": [
    "valve.drop(columns=['normal(0)/abnormal(1)_6dB','normal(0)/abnormal(1)_0dB'],axis=1,inplace=True)"
   ]
  },
  {
   "cell_type": "code",
   "execution_count": 6,
   "id": "alien-happening",
   "metadata": {},
   "outputs": [
    {
     "data": {
      "text/html": [
       "<div>\n",
       "<style scoped>\n",
       "    .dataframe tbody tr th:only-of-type {\n",
       "        vertical-align: middle;\n",
       "    }\n",
       "\n",
       "    .dataframe tbody tr th {\n",
       "        vertical-align: top;\n",
       "    }\n",
       "\n",
       "    .dataframe thead th {\n",
       "        text-align: right;\n",
       "    }\n",
       "</style>\n",
       "<table border=\"1\" class=\"dataframe\">\n",
       "  <thead>\n",
       "    <tr style=\"text-align: right;\">\n",
       "      <th></th>\n",
       "      <th>melspectrogram_6dB</th>\n",
       "      <th>melspectrogram_min_6dB</th>\n",
       "      <th>melspectrogram_max_6dB</th>\n",
       "      <th>melspectrogram_sum_6dB</th>\n",
       "      <th>melspectrogram_corr_6dB</th>\n",
       "      <th>melspectrogram_std_6dB</th>\n",
       "      <th>mfcc_6dB</th>\n",
       "      <th>rms_6dB</th>\n",
       "      <th>spectral_centroid_6dB</th>\n",
       "      <th>spectral_bandwidth_6dB</th>\n",
       "      <th>...</th>\n",
       "      <th>spectral_flatness _-6dB</th>\n",
       "      <th>spectral_rolloff_-6dB</th>\n",
       "      <th>zero_crossing_rate_-6dB</th>\n",
       "      <th>mean harm_-6dB</th>\n",
       "      <th>mean perc_-6dB</th>\n",
       "      <th>max harm_-6dB</th>\n",
       "      <th>max perc_-6dB</th>\n",
       "      <th>min harm_-6dB</th>\n",
       "      <th>min perc_-6dB</th>\n",
       "      <th>normal(0)/abnormal(1)_-6dB</th>\n",
       "    </tr>\n",
       "  </thead>\n",
       "  <tbody>\n",
       "    <tr>\n",
       "      <th>0</th>\n",
       "      <td>0.008870</td>\n",
       "      <td>1.207413e-09</td>\n",
       "      <td>0.217286</td>\n",
       "      <td>489.342621</td>\n",
       "      <td>0.036707</td>\n",
       "      <td>0.015815</td>\n",
       "      <td>-12.846735</td>\n",
       "      <td>0.004381</td>\n",
       "      <td>1178.821555</td>\n",
       "      <td>1561.366942</td>\n",
       "      <td>...</td>\n",
       "      <td>0.000128</td>\n",
       "      <td>2032.814313</td>\n",
       "      <td>0.041871</td>\n",
       "      <td>7.015354e-07</td>\n",
       "      <td>-5.880125e-07</td>\n",
       "      <td>0.030565</td>\n",
       "      <td>0.017350</td>\n",
       "      <td>-0.028219</td>\n",
       "      <td>-0.018909</td>\n",
       "      <td>0</td>\n",
       "    </tr>\n",
       "    <tr>\n",
       "      <th>1</th>\n",
       "      <td>0.008814</td>\n",
       "      <td>1.201971e-09</td>\n",
       "      <td>0.185242</td>\n",
       "      <td>486.255402</td>\n",
       "      <td>0.031088</td>\n",
       "      <td>0.015326</td>\n",
       "      <td>-12.400963</td>\n",
       "      <td>0.004300</td>\n",
       "      <td>1121.206650</td>\n",
       "      <td>1476.771313</td>\n",
       "      <td>...</td>\n",
       "      <td>0.000306</td>\n",
       "      <td>3174.149020</td>\n",
       "      <td>0.068203</td>\n",
       "      <td>-8.513377e-07</td>\n",
       "      <td>-1.200635e-08</td>\n",
       "      <td>0.030325</td>\n",
       "      <td>0.012385</td>\n",
       "      <td>-0.031419</td>\n",
       "      <td>-0.011299</td>\n",
       "      <td>0</td>\n",
       "    </tr>\n",
       "    <tr>\n",
       "      <th>2</th>\n",
       "      <td>0.009081</td>\n",
       "      <td>1.190875e-09</td>\n",
       "      <td>0.243309</td>\n",
       "      <td>500.994965</td>\n",
       "      <td>0.056441</td>\n",
       "      <td>0.016951</td>\n",
       "      <td>-11.675858</td>\n",
       "      <td>0.004623</td>\n",
       "      <td>1075.123813</td>\n",
       "      <td>1412.927905</td>\n",
       "      <td>...</td>\n",
       "      <td>0.000169</td>\n",
       "      <td>2457.433091</td>\n",
       "      <td>0.049392</td>\n",
       "      <td>-1.888008e-06</td>\n",
       "      <td>-1.850616e-06</td>\n",
       "      <td>0.027346</td>\n",
       "      <td>0.021098</td>\n",
       "      <td>-0.025741</td>\n",
       "      <td>-0.018760</td>\n",
       "      <td>0</td>\n",
       "    </tr>\n",
       "    <tr>\n",
       "      <th>3</th>\n",
       "      <td>0.008999</td>\n",
       "      <td>1.170776e-09</td>\n",
       "      <td>0.184777</td>\n",
       "      <td>496.479675</td>\n",
       "      <td>0.031641</td>\n",
       "      <td>0.015704</td>\n",
       "      <td>-12.594336</td>\n",
       "      <td>0.004298</td>\n",
       "      <td>1208.611399</td>\n",
       "      <td>1627.753890</td>\n",
       "      <td>...</td>\n",
       "      <td>0.000320</td>\n",
       "      <td>3398.074348</td>\n",
       "      <td>0.074555</td>\n",
       "      <td>-7.017891e-07</td>\n",
       "      <td>-1.468647e-06</td>\n",
       "      <td>0.030402</td>\n",
       "      <td>0.011645</td>\n",
       "      <td>-0.029092</td>\n",
       "      <td>-0.013221</td>\n",
       "      <td>0</td>\n",
       "    </tr>\n",
       "    <tr>\n",
       "      <th>4</th>\n",
       "      <td>0.008867</td>\n",
       "      <td>1.094482e-09</td>\n",
       "      <td>0.211936</td>\n",
       "      <td>489.166473</td>\n",
       "      <td>0.071156</td>\n",
       "      <td>0.016454</td>\n",
       "      <td>-11.836786</td>\n",
       "      <td>0.004419</td>\n",
       "      <td>1009.561703</td>\n",
       "      <td>1369.566582</td>\n",
       "      <td>...</td>\n",
       "      <td>0.000116</td>\n",
       "      <td>2204.255581</td>\n",
       "      <td>0.036080</td>\n",
       "      <td>3.498635e-06</td>\n",
       "      <td>2.163719e-06</td>\n",
       "      <td>0.030506</td>\n",
       "      <td>0.024835</td>\n",
       "      <td>-0.033787</td>\n",
       "      <td>-0.024464</td>\n",
       "      <td>0</td>\n",
       "    </tr>\n",
       "  </tbody>\n",
       "</table>\n",
       "<p>5 rows × 61 columns</p>\n",
       "</div>"
      ],
      "text/plain": [
       "   melspectrogram_6dB  melspectrogram_min_6dB  melspectrogram_max_6dB  \\\n",
       "0            0.008870            1.207413e-09                0.217286   \n",
       "1            0.008814            1.201971e-09                0.185242   \n",
       "2            0.009081            1.190875e-09                0.243309   \n",
       "3            0.008999            1.170776e-09                0.184777   \n",
       "4            0.008867            1.094482e-09                0.211936   \n",
       "\n",
       "   melspectrogram_sum_6dB  melspectrogram_corr_6dB  melspectrogram_std_6dB  \\\n",
       "0              489.342621                 0.036707                0.015815   \n",
       "1              486.255402                 0.031088                0.015326   \n",
       "2              500.994965                 0.056441                0.016951   \n",
       "3              496.479675                 0.031641                0.015704   \n",
       "4              489.166473                 0.071156                0.016454   \n",
       "\n",
       "    mfcc_6dB   rms_6dB  spectral_centroid_6dB  spectral_bandwidth_6dB  ...  \\\n",
       "0 -12.846735  0.004381            1178.821555             1561.366942  ...   \n",
       "1 -12.400963  0.004300            1121.206650             1476.771313  ...   \n",
       "2 -11.675858  0.004623            1075.123813             1412.927905  ...   \n",
       "3 -12.594336  0.004298            1208.611399             1627.753890  ...   \n",
       "4 -11.836786  0.004419            1009.561703             1369.566582  ...   \n",
       "\n",
       "   spectral_flatness _-6dB  spectral_rolloff_-6dB  zero_crossing_rate_-6dB  \\\n",
       "0                 0.000128            2032.814313                 0.041871   \n",
       "1                 0.000306            3174.149020                 0.068203   \n",
       "2                 0.000169            2457.433091                 0.049392   \n",
       "3                 0.000320            3398.074348                 0.074555   \n",
       "4                 0.000116            2204.255581                 0.036080   \n",
       "\n",
       "   mean harm_-6dB  mean perc_-6dB  max harm_-6dB  max perc_-6dB  \\\n",
       "0    7.015354e-07   -5.880125e-07       0.030565       0.017350   \n",
       "1   -8.513377e-07   -1.200635e-08       0.030325       0.012385   \n",
       "2   -1.888008e-06   -1.850616e-06       0.027346       0.021098   \n",
       "3   -7.017891e-07   -1.468647e-06       0.030402       0.011645   \n",
       "4    3.498635e-06    2.163719e-06       0.030506       0.024835   \n",
       "\n",
       "   min harm_-6dB  min perc_-6dB  normal(0)/abnormal(1)_-6dB  \n",
       "0      -0.028219      -0.018909                           0  \n",
       "1      -0.031419      -0.011299                           0  \n",
       "2      -0.025741      -0.018760                           0  \n",
       "3      -0.029092      -0.013221                           0  \n",
       "4      -0.033787      -0.024464                           0  \n",
       "\n",
       "[5 rows x 61 columns]"
      ]
     },
     "execution_count": 6,
     "metadata": {},
     "output_type": "execute_result"
    }
   ],
   "source": [
    "valve.head()"
   ]
  },
  {
   "cell_type": "code",
   "execution_count": 7,
   "id": "found-sitting",
   "metadata": {},
   "outputs": [],
   "source": [
    "valve.rename(columns={'normal(0)/abnormal(1)_-6dB': 'normal(0)/abnormal(1)'}, inplace=True)"
   ]
  },
  {
   "cell_type": "code",
   "execution_count": 8,
   "id": "radio-canyon",
   "metadata": {},
   "outputs": [
    {
     "data": {
      "text/plain": [
       "Index(['melspectrogram_6dB', 'melspectrogram_min_6dB',\n",
       "       'melspectrogram_max_6dB', 'melspectrogram_sum_6dB',\n",
       "       'melspectrogram_corr_6dB', 'melspectrogram_std_6dB', 'mfcc_6dB',\n",
       "       'rms_6dB', 'spectral_centroid_6dB', 'spectral_bandwidth_6dB',\n",
       "       'spectral_contrast_6dB', 'spectral_flatness _6dB',\n",
       "       'spectral_rolloff_6dB', 'zero_crossing_rate_6dB', 'mean harm_6dB',\n",
       "       'mean perc_6dB', 'max harm_6dB', 'max perc_6dB', 'min harm_6dB',\n",
       "       'min perc_6dB', 'melspectrogram_0dB', 'melspectrogram_min_0dB',\n",
       "       'melspectrogram_max_0dB', 'melspectrogram_sum_0dB',\n",
       "       'melspectrogram_corr_0dB', 'melspectrogram_std_0dB', 'mfcc_0dB',\n",
       "       'rms_0dB', 'spectral_centroid_0dB', 'spectral_bandwidth_0dB',\n",
       "       'spectral_contrast_0dB', 'spectral_flatness _0dB',\n",
       "       'spectral_rolloff_0dB', 'zero_crossing_rate_0dB', 'mean harm_0dB',\n",
       "       'mean perc_0dB', 'max harm_0dB', 'max perc_0dB', 'min harm_0dB',\n",
       "       'min perc_0dB', 'melspectrogram_-6dB', 'melspectrogram_min_-6dB',\n",
       "       'melspectrogram_max_-6dB', 'melspectrogram_sum_-6dB',\n",
       "       'melspectrogram_corr_-6dB', 'melspectrogram_std_-6dB', 'mfcc_-6dB',\n",
       "       'rms_-6dB', 'spectral_centroid_-6dB', 'spectral_bandwidth_-6dB',\n",
       "       'spectral_contrast_-6dB', 'spectral_flatness _-6dB',\n",
       "       'spectral_rolloff_-6dB', 'zero_crossing_rate_-6dB', 'mean harm_-6dB',\n",
       "       'mean perc_-6dB', 'max harm_-6dB', 'max perc_-6dB', 'min harm_-6dB',\n",
       "       'min perc_-6dB', 'normal(0)/abnormal(1)'],\n",
       "      dtype='object')"
      ]
     },
     "execution_count": 8,
     "metadata": {},
     "output_type": "execute_result"
    }
   ],
   "source": [
    "valve.columns"
   ]
  },
  {
   "cell_type": "code",
   "execution_count": 9,
   "id": "voluntary-treatment",
   "metadata": {},
   "outputs": [],
   "source": [
    "y=valve['normal(0)/abnormal(1)'].values\n",
    "X=valve.drop(columns=['normal(0)/abnormal(1)'], axis=1)"
   ]
  },
  {
   "cell_type": "code",
   "execution_count": 10,
   "id": "roman-dayton",
   "metadata": {},
   "outputs": [],
   "source": [
    "#Choosing 80% as training data.\n",
    "X_train, X_test, y_train, y_test = train_test_split(X, y, test_size = 0.2, random_state = 42)"
   ]
  },
  {
   "cell_type": "code",
   "execution_count": 22,
   "id": "tribal-mozambique",
   "metadata": {},
   "outputs": [
    {
     "data": {
      "text/plain": [
       "melspectrogram_6dB         5545\n",
       "melspectrogram_min_6dB     5545\n",
       "melspectrogram_max_6dB     5545\n",
       "melspectrogram_sum_6dB     5545\n",
       "melspectrogram_corr_6dB    5545\n",
       "                           ... \n",
       "max harm_-6dB                 0\n",
       "max perc_-6dB                 0\n",
       "min harm_-6dB                 0\n",
       "min perc_-6dB                 0\n",
       "normal(0)/abnormal(1)         0\n",
       "Length: 61, dtype: int64"
      ]
     },
     "execution_count": 22,
     "metadata": {},
     "output_type": "execute_result"
    }
   ],
   "source": [
    "valve.isnull().sum()"
   ]
  },
  {
   "cell_type": "code",
   "execution_count": 18,
   "id": "roman-sauce",
   "metadata": {},
   "outputs": [],
   "source": [
    "nan=list(valve.isnull().sum())"
   ]
  },
  {
   "cell_type": "code",
   "execution_count": 19,
   "id": "superb-parker",
   "metadata": {},
   "outputs": [
    {
     "data": {
      "text/plain": [
       "[5545,\n",
       " 5545,\n",
       " 5545,\n",
       " 5545,\n",
       " 5545,\n",
       " 5545,\n",
       " 5545,\n",
       " 5545,\n",
       " 5545,\n",
       " 5545,\n",
       " 5545,\n",
       " 5545,\n",
       " 5545,\n",
       " 5545,\n",
       " 5545,\n",
       " 5545,\n",
       " 5545,\n",
       " 5545,\n",
       " 5545,\n",
       " 5545,\n",
       " 0,\n",
       " 0,\n",
       " 0,\n",
       " 0,\n",
       " 0,\n",
       " 0,\n",
       " 0,\n",
       " 0,\n",
       " 0,\n",
       " 0,\n",
       " 0,\n",
       " 0,\n",
       " 0,\n",
       " 0,\n",
       " 0,\n",
       " 0,\n",
       " 0,\n",
       " 0,\n",
       " 0,\n",
       " 0,\n",
       " 0,\n",
       " 0,\n",
       " 0,\n",
       " 0,\n",
       " 0,\n",
       " 0,\n",
       " 0,\n",
       " 0,\n",
       " 0,\n",
       " 0,\n",
       " 0,\n",
       " 0,\n",
       " 0,\n",
       " 0,\n",
       " 0,\n",
       " 0,\n",
       " 0,\n",
       " 0,\n",
       " 0,\n",
       " 0,\n",
       " 0]"
      ]
     },
     "execution_count": 19,
     "metadata": {},
     "output_type": "execute_result"
    }
   ],
   "source": [
    "nan"
   ]
  },
  {
   "cell_type": "code",
   "execution_count": 11,
   "id": "informative-daniel",
   "metadata": {},
   "outputs": [
    {
     "ename": "ValueError",
     "evalue": "Input contains NaN, infinity or a value too large for dtype('float32').",
     "output_type": "error",
     "traceback": [
      "\u001b[0;31m---------------------------------------------------------------------------\u001b[0m",
      "\u001b[0;31mValueError\u001b[0m                                Traceback (most recent call last)",
      "\u001b[0;32m<ipython-input-11-f9274288fe5b>\u001b[0m in \u001b[0;36m<module>\u001b[0;34m\u001b[0m\n\u001b[1;32m      1\u001b[0m \u001b[0;32mfrom\u001b[0m \u001b[0msklearn\u001b[0m\u001b[0;34m.\u001b[0m\u001b[0mensemble\u001b[0m \u001b[0;32mimport\u001b[0m \u001b[0mRandomForestClassifier\u001b[0m\u001b[0;34m\u001b[0m\u001b[0;34m\u001b[0m\u001b[0m\n\u001b[1;32m      2\u001b[0m \u001b[0mclassifier\u001b[0m \u001b[0;34m=\u001b[0m \u001b[0mRandomForestClassifier\u001b[0m\u001b[0;34m(\u001b[0m\u001b[0mn_estimators\u001b[0m \u001b[0;34m=\u001b[0m \u001b[0;36m100\u001b[0m\u001b[0;34m,\u001b[0m \u001b[0mrandom_state\u001b[0m \u001b[0;34m=\u001b[0m \u001b[0;36m0\u001b[0m\u001b[0;34m)\u001b[0m\u001b[0;34m\u001b[0m\u001b[0;34m\u001b[0m\u001b[0m\n\u001b[0;32m----> 3\u001b[0;31m \u001b[0mclassifier\u001b[0m\u001b[0;34m.\u001b[0m\u001b[0mfit\u001b[0m\u001b[0;34m(\u001b[0m\u001b[0mX_train\u001b[0m\u001b[0;34m,\u001b[0m \u001b[0my_train\u001b[0m\u001b[0;34m)\u001b[0m\u001b[0;34m\u001b[0m\u001b[0;34m\u001b[0m\u001b[0m\n\u001b[0m\u001b[1;32m      4\u001b[0m \u001b[0my_pred\u001b[0m \u001b[0;34m=\u001b[0m \u001b[0mclassifier\u001b[0m\u001b[0;34m.\u001b[0m\u001b[0mpredict\u001b[0m\u001b[0;34m(\u001b[0m\u001b[0mX_test\u001b[0m\u001b[0;34m)\u001b[0m\u001b[0;34m\u001b[0m\u001b[0;34m\u001b[0m\u001b[0m\n",
      "\u001b[0;32m~/anaconda3/lib/python3.7/site-packages/sklearn/ensemble/_forest.py\u001b[0m in \u001b[0;36mfit\u001b[0;34m(self, X, y, sample_weight)\u001b[0m\n\u001b[1;32m    302\u001b[0m             )\n\u001b[1;32m    303\u001b[0m         X, y = self._validate_data(X, y, multi_output=True,\n\u001b[0;32m--> 304\u001b[0;31m                                    accept_sparse=\"csc\", dtype=DTYPE)\n\u001b[0m\u001b[1;32m    305\u001b[0m         \u001b[0;32mif\u001b[0m \u001b[0msample_weight\u001b[0m \u001b[0;32mis\u001b[0m \u001b[0;32mnot\u001b[0m \u001b[0;32mNone\u001b[0m\u001b[0;34m:\u001b[0m\u001b[0;34m\u001b[0m\u001b[0;34m\u001b[0m\u001b[0m\n\u001b[1;32m    306\u001b[0m             \u001b[0msample_weight\u001b[0m \u001b[0;34m=\u001b[0m \u001b[0m_check_sample_weight\u001b[0m\u001b[0;34m(\u001b[0m\u001b[0msample_weight\u001b[0m\u001b[0;34m,\u001b[0m \u001b[0mX\u001b[0m\u001b[0;34m)\u001b[0m\u001b[0;34m\u001b[0m\u001b[0;34m\u001b[0m\u001b[0m\n",
      "\u001b[0;32m~/anaconda3/lib/python3.7/site-packages/sklearn/base.py\u001b[0m in \u001b[0;36m_validate_data\u001b[0;34m(self, X, y, reset, validate_separately, **check_params)\u001b[0m\n\u001b[1;32m    430\u001b[0m                 \u001b[0my\u001b[0m \u001b[0;34m=\u001b[0m \u001b[0mcheck_array\u001b[0m\u001b[0;34m(\u001b[0m\u001b[0my\u001b[0m\u001b[0;34m,\u001b[0m \u001b[0;34m**\u001b[0m\u001b[0mcheck_y_params\u001b[0m\u001b[0;34m)\u001b[0m\u001b[0;34m\u001b[0m\u001b[0;34m\u001b[0m\u001b[0m\n\u001b[1;32m    431\u001b[0m             \u001b[0;32melse\u001b[0m\u001b[0;34m:\u001b[0m\u001b[0;34m\u001b[0m\u001b[0;34m\u001b[0m\u001b[0m\n\u001b[0;32m--> 432\u001b[0;31m                 \u001b[0mX\u001b[0m\u001b[0;34m,\u001b[0m \u001b[0my\u001b[0m \u001b[0;34m=\u001b[0m \u001b[0mcheck_X_y\u001b[0m\u001b[0;34m(\u001b[0m\u001b[0mX\u001b[0m\u001b[0;34m,\u001b[0m \u001b[0my\u001b[0m\u001b[0;34m,\u001b[0m \u001b[0;34m**\u001b[0m\u001b[0mcheck_params\u001b[0m\u001b[0;34m)\u001b[0m\u001b[0;34m\u001b[0m\u001b[0;34m\u001b[0m\u001b[0m\n\u001b[0m\u001b[1;32m    433\u001b[0m             \u001b[0mout\u001b[0m \u001b[0;34m=\u001b[0m \u001b[0mX\u001b[0m\u001b[0;34m,\u001b[0m \u001b[0my\u001b[0m\u001b[0;34m\u001b[0m\u001b[0;34m\u001b[0m\u001b[0m\n\u001b[1;32m    434\u001b[0m \u001b[0;34m\u001b[0m\u001b[0m\n",
      "\u001b[0;32m~/anaconda3/lib/python3.7/site-packages/sklearn/utils/validation.py\u001b[0m in \u001b[0;36minner_f\u001b[0;34m(*args, **kwargs)\u001b[0m\n\u001b[1;32m     70\u001b[0m                           FutureWarning)\n\u001b[1;32m     71\u001b[0m         \u001b[0mkwargs\u001b[0m\u001b[0;34m.\u001b[0m\u001b[0mupdate\u001b[0m\u001b[0;34m(\u001b[0m\u001b[0;34m{\u001b[0m\u001b[0mk\u001b[0m\u001b[0;34m:\u001b[0m \u001b[0marg\u001b[0m \u001b[0;32mfor\u001b[0m \u001b[0mk\u001b[0m\u001b[0;34m,\u001b[0m \u001b[0marg\u001b[0m \u001b[0;32min\u001b[0m \u001b[0mzip\u001b[0m\u001b[0;34m(\u001b[0m\u001b[0msig\u001b[0m\u001b[0;34m.\u001b[0m\u001b[0mparameters\u001b[0m\u001b[0;34m,\u001b[0m \u001b[0margs\u001b[0m\u001b[0;34m)\u001b[0m\u001b[0;34m}\u001b[0m\u001b[0;34m)\u001b[0m\u001b[0;34m\u001b[0m\u001b[0;34m\u001b[0m\u001b[0m\n\u001b[0;32m---> 72\u001b[0;31m         \u001b[0;32mreturn\u001b[0m \u001b[0mf\u001b[0m\u001b[0;34m(\u001b[0m\u001b[0;34m**\u001b[0m\u001b[0mkwargs\u001b[0m\u001b[0;34m)\u001b[0m\u001b[0;34m\u001b[0m\u001b[0;34m\u001b[0m\u001b[0m\n\u001b[0m\u001b[1;32m     73\u001b[0m     \u001b[0;32mreturn\u001b[0m \u001b[0minner_f\u001b[0m\u001b[0;34m\u001b[0m\u001b[0;34m\u001b[0m\u001b[0m\n\u001b[1;32m     74\u001b[0m \u001b[0;34m\u001b[0m\u001b[0m\n",
      "\u001b[0;32m~/anaconda3/lib/python3.7/site-packages/sklearn/utils/validation.py\u001b[0m in \u001b[0;36mcheck_X_y\u001b[0;34m(X, y, accept_sparse, accept_large_sparse, dtype, order, copy, force_all_finite, ensure_2d, allow_nd, multi_output, ensure_min_samples, ensure_min_features, y_numeric, estimator)\u001b[0m\n\u001b[1;32m    800\u001b[0m                     \u001b[0mensure_min_samples\u001b[0m\u001b[0;34m=\u001b[0m\u001b[0mensure_min_samples\u001b[0m\u001b[0;34m,\u001b[0m\u001b[0;34m\u001b[0m\u001b[0;34m\u001b[0m\u001b[0m\n\u001b[1;32m    801\u001b[0m                     \u001b[0mensure_min_features\u001b[0m\u001b[0;34m=\u001b[0m\u001b[0mensure_min_features\u001b[0m\u001b[0;34m,\u001b[0m\u001b[0;34m\u001b[0m\u001b[0;34m\u001b[0m\u001b[0m\n\u001b[0;32m--> 802\u001b[0;31m                     estimator=estimator)\n\u001b[0m\u001b[1;32m    803\u001b[0m     \u001b[0;32mif\u001b[0m \u001b[0mmulti_output\u001b[0m\u001b[0;34m:\u001b[0m\u001b[0;34m\u001b[0m\u001b[0;34m\u001b[0m\u001b[0m\n\u001b[1;32m    804\u001b[0m         y = check_array(y, accept_sparse='csr', force_all_finite=True,\n",
      "\u001b[0;32m~/anaconda3/lib/python3.7/site-packages/sklearn/utils/validation.py\u001b[0m in \u001b[0;36minner_f\u001b[0;34m(*args, **kwargs)\u001b[0m\n\u001b[1;32m     70\u001b[0m                           FutureWarning)\n\u001b[1;32m     71\u001b[0m         \u001b[0mkwargs\u001b[0m\u001b[0;34m.\u001b[0m\u001b[0mupdate\u001b[0m\u001b[0;34m(\u001b[0m\u001b[0;34m{\u001b[0m\u001b[0mk\u001b[0m\u001b[0;34m:\u001b[0m \u001b[0marg\u001b[0m \u001b[0;32mfor\u001b[0m \u001b[0mk\u001b[0m\u001b[0;34m,\u001b[0m \u001b[0marg\u001b[0m \u001b[0;32min\u001b[0m \u001b[0mzip\u001b[0m\u001b[0;34m(\u001b[0m\u001b[0msig\u001b[0m\u001b[0;34m.\u001b[0m\u001b[0mparameters\u001b[0m\u001b[0;34m,\u001b[0m \u001b[0margs\u001b[0m\u001b[0;34m)\u001b[0m\u001b[0;34m}\u001b[0m\u001b[0;34m)\u001b[0m\u001b[0;34m\u001b[0m\u001b[0;34m\u001b[0m\u001b[0m\n\u001b[0;32m---> 72\u001b[0;31m         \u001b[0;32mreturn\u001b[0m \u001b[0mf\u001b[0m\u001b[0;34m(\u001b[0m\u001b[0;34m**\u001b[0m\u001b[0mkwargs\u001b[0m\u001b[0;34m)\u001b[0m\u001b[0;34m\u001b[0m\u001b[0;34m\u001b[0m\u001b[0m\n\u001b[0m\u001b[1;32m     73\u001b[0m     \u001b[0;32mreturn\u001b[0m \u001b[0minner_f\u001b[0m\u001b[0;34m\u001b[0m\u001b[0;34m\u001b[0m\u001b[0m\n\u001b[1;32m     74\u001b[0m \u001b[0;34m\u001b[0m\u001b[0m\n",
      "\u001b[0;32m~/anaconda3/lib/python3.7/site-packages/sklearn/utils/validation.py\u001b[0m in \u001b[0;36mcheck_array\u001b[0;34m(array, accept_sparse, accept_large_sparse, dtype, order, copy, force_all_finite, ensure_2d, allow_nd, ensure_min_samples, ensure_min_features, estimator)\u001b[0m\n\u001b[1;32m    643\u001b[0m         \u001b[0;32mif\u001b[0m \u001b[0mforce_all_finite\u001b[0m\u001b[0;34m:\u001b[0m\u001b[0;34m\u001b[0m\u001b[0;34m\u001b[0m\u001b[0m\n\u001b[1;32m    644\u001b[0m             _assert_all_finite(array,\n\u001b[0;32m--> 645\u001b[0;31m                                allow_nan=force_all_finite == 'allow-nan')\n\u001b[0m\u001b[1;32m    646\u001b[0m \u001b[0;34m\u001b[0m\u001b[0m\n\u001b[1;32m    647\u001b[0m     \u001b[0;32mif\u001b[0m \u001b[0mensure_min_samples\u001b[0m \u001b[0;34m>\u001b[0m \u001b[0;36m0\u001b[0m\u001b[0;34m:\u001b[0m\u001b[0;34m\u001b[0m\u001b[0;34m\u001b[0m\u001b[0m\n",
      "\u001b[0;32m~/anaconda3/lib/python3.7/site-packages/sklearn/utils/validation.py\u001b[0m in \u001b[0;36m_assert_all_finite\u001b[0;34m(X, allow_nan, msg_dtype)\u001b[0m\n\u001b[1;32m     97\u001b[0m                     \u001b[0mmsg_err\u001b[0m\u001b[0;34m.\u001b[0m\u001b[0mformat\u001b[0m\u001b[0;34m\u001b[0m\u001b[0;34m\u001b[0m\u001b[0m\n\u001b[1;32m     98\u001b[0m                     (type_err,\n\u001b[0;32m---> 99\u001b[0;31m                      msg_dtype if msg_dtype is not None else X.dtype)\n\u001b[0m\u001b[1;32m    100\u001b[0m             )\n\u001b[1;32m    101\u001b[0m     \u001b[0;31m# for object dtype data, we only check for NaNs (GH-13254)\u001b[0m\u001b[0;34m\u001b[0m\u001b[0;34m\u001b[0m\u001b[0;34m\u001b[0m\u001b[0m\n",
      "\u001b[0;31mValueError\u001b[0m: Input contains NaN, infinity or a value too large for dtype('float32')."
     ]
    }
   ],
   "source": [
    "from sklearn.ensemble import RandomForestClassifier\n",
    "classifier = RandomForestClassifier(n_estimators = 100, random_state = 0)\n",
    "classifier.fit(X_train, y_train)\n",
    "y_pred = classifier.predict(X_test)"
   ]
  },
  {
   "cell_type": "code",
   "execution_count": 12,
   "id": "exempt-copying",
   "metadata": {},
   "outputs": [
    {
     "name": "stdout",
     "output_type": "stream",
     "text": [
      "confusion matrix\n"
     ]
    },
    {
     "ename": "NameError",
     "evalue": "name 'y_pred' is not defined",
     "output_type": "error",
     "traceback": [
      "\u001b[0;31m---------------------------------------------------------------------------\u001b[0m",
      "\u001b[0;31mNameError\u001b[0m                                 Traceback (most recent call last)",
      "\u001b[0;32m<ipython-input-12-6b267561993b>\u001b[0m in \u001b[0;36m<module>\u001b[0;34m\u001b[0m\n\u001b[1;32m      1\u001b[0m \u001b[0;32mfrom\u001b[0m \u001b[0msklearn\u001b[0m\u001b[0;34m.\u001b[0m\u001b[0mmetrics\u001b[0m \u001b[0;32mimport\u001b[0m \u001b[0mclassification_report\u001b[0m\u001b[0;34m,\u001b[0m \u001b[0mconfusion_matrix\u001b[0m\u001b[0;34m,\u001b[0m \u001b[0maccuracy_score\u001b[0m\u001b[0;34m\u001b[0m\u001b[0;34m\u001b[0m\u001b[0m\n\u001b[1;32m      2\u001b[0m \u001b[0mprint\u001b[0m\u001b[0;34m(\u001b[0m\u001b[0;34m'confusion matrix'\u001b[0m\u001b[0;34m)\u001b[0m\u001b[0;34m\u001b[0m\u001b[0;34m\u001b[0m\u001b[0m\n\u001b[0;32m----> 3\u001b[0;31m \u001b[0mprint\u001b[0m\u001b[0;34m(\u001b[0m\u001b[0mconfusion_matrix\u001b[0m\u001b[0;34m(\u001b[0m\u001b[0my_test\u001b[0m\u001b[0;34m,\u001b[0m \u001b[0my_pred\u001b[0m\u001b[0;34m)\u001b[0m\u001b[0;34m)\u001b[0m\u001b[0;34m\u001b[0m\u001b[0;34m\u001b[0m\u001b[0m\n\u001b[0m\u001b[1;32m      4\u001b[0m \u001b[0mprint\u001b[0m\u001b[0;34m(\u001b[0m\u001b[0;34m'classification report'\u001b[0m\u001b[0;34m)\u001b[0m\u001b[0;34m\u001b[0m\u001b[0;34m\u001b[0m\u001b[0m\n\u001b[1;32m      5\u001b[0m \u001b[0mprint\u001b[0m\u001b[0;34m(\u001b[0m\u001b[0mclassification_report\u001b[0m\u001b[0;34m(\u001b[0m\u001b[0my_test\u001b[0m\u001b[0;34m,\u001b[0m \u001b[0my_pred\u001b[0m\u001b[0;34m)\u001b[0m\u001b[0;34m)\u001b[0m\u001b[0;34m\u001b[0m\u001b[0;34m\u001b[0m\u001b[0m\n",
      "\u001b[0;31mNameError\u001b[0m: name 'y_pred' is not defined"
     ]
    }
   ],
   "source": [
    "from sklearn.metrics import classification_report, confusion_matrix, accuracy_score\n",
    "print('confusion matrix')\n",
    "print(confusion_matrix(y_test, y_pred))\n",
    "print('classification report')\n",
    "print(classification_report(y_test, y_pred))\n",
    "print('accuracy score')\n",
    "print(accuracy_score(y_test, y_pred))"
   ]
  },
  {
   "cell_type": "code",
   "execution_count": 13,
   "id": "rubber-hebrew",
   "metadata": {},
   "outputs": [],
   "source": [
    "x_columns=list(X.columns)"
   ]
  },
  {
   "cell_type": "code",
   "execution_count": 14,
   "id": "multiple-floating",
   "metadata": {},
   "outputs": [
    {
     "ename": "NotFittedError",
     "evalue": "This RandomForestClassifier instance is not fitted yet. Call 'fit' with appropriate arguments before using this estimator.",
     "output_type": "error",
     "traceback": [
      "\u001b[0;31m---------------------------------------------------------------------------\u001b[0m",
      "\u001b[0;31mNotFittedError\u001b[0m                            Traceback (most recent call last)",
      "\u001b[0;32m<ipython-input-14-8ce66761e961>\u001b[0m in \u001b[0;36m<module>\u001b[0;34m\u001b[0m\n\u001b[1;32m      2\u001b[0m \u001b[0munimportant_columns\u001b[0m \u001b[0;34m=\u001b[0m\u001b[0;34m[\u001b[0m\u001b[0;34m]\u001b[0m\u001b[0;34m\u001b[0m\u001b[0;34m\u001b[0m\u001b[0m\n\u001b[1;32m      3\u001b[0m \u001b[0;34m\u001b[0m\u001b[0m\n\u001b[0;32m----> 4\u001b[0;31m \u001b[0mimportance\u001b[0m \u001b[0;34m=\u001b[0m \u001b[0mclassifier\u001b[0m\u001b[0;34m.\u001b[0m\u001b[0mfeature_importances_\u001b[0m\u001b[0;34m\u001b[0m\u001b[0;34m\u001b[0m\u001b[0m\n\u001b[0m\u001b[1;32m      5\u001b[0m \u001b[0;31m# summarize feature importance\u001b[0m\u001b[0;34m\u001b[0m\u001b[0;34m\u001b[0m\u001b[0;34m\u001b[0m\u001b[0m\n\u001b[1;32m      6\u001b[0m \u001b[0;32mfor\u001b[0m \u001b[0mi\u001b[0m\u001b[0;34m,\u001b[0m\u001b[0mv\u001b[0m \u001b[0;32min\u001b[0m \u001b[0menumerate\u001b[0m\u001b[0;34m(\u001b[0m\u001b[0mimportance\u001b[0m\u001b[0;34m)\u001b[0m\u001b[0;34m:\u001b[0m\u001b[0;34m\u001b[0m\u001b[0;34m\u001b[0m\u001b[0m\n",
      "\u001b[0;32m~/anaconda3/lib/python3.7/site-packages/sklearn/ensemble/_forest.py\u001b[0m in \u001b[0;36mfeature_importances_\u001b[0;34m(self)\u001b[0m\n\u001b[1;32m    442\u001b[0m             \u001b[0marray\u001b[0m \u001b[0mof\u001b[0m \u001b[0mzeros\u001b[0m\u001b[0;34m.\u001b[0m\u001b[0;34m\u001b[0m\u001b[0;34m\u001b[0m\u001b[0m\n\u001b[1;32m    443\u001b[0m         \"\"\"\n\u001b[0;32m--> 444\u001b[0;31m         \u001b[0mcheck_is_fitted\u001b[0m\u001b[0;34m(\u001b[0m\u001b[0mself\u001b[0m\u001b[0;34m)\u001b[0m\u001b[0;34m\u001b[0m\u001b[0;34m\u001b[0m\u001b[0m\n\u001b[0m\u001b[1;32m    445\u001b[0m \u001b[0;34m\u001b[0m\u001b[0m\n\u001b[1;32m    446\u001b[0m         all_importances = Parallel(n_jobs=self.n_jobs,\n",
      "\u001b[0;32m~/anaconda3/lib/python3.7/site-packages/sklearn/utils/validation.py\u001b[0m in \u001b[0;36minner_f\u001b[0;34m(*args, **kwargs)\u001b[0m\n\u001b[1;32m     70\u001b[0m                           FutureWarning)\n\u001b[1;32m     71\u001b[0m         \u001b[0mkwargs\u001b[0m\u001b[0;34m.\u001b[0m\u001b[0mupdate\u001b[0m\u001b[0;34m(\u001b[0m\u001b[0;34m{\u001b[0m\u001b[0mk\u001b[0m\u001b[0;34m:\u001b[0m \u001b[0marg\u001b[0m \u001b[0;32mfor\u001b[0m \u001b[0mk\u001b[0m\u001b[0;34m,\u001b[0m \u001b[0marg\u001b[0m \u001b[0;32min\u001b[0m \u001b[0mzip\u001b[0m\u001b[0;34m(\u001b[0m\u001b[0msig\u001b[0m\u001b[0;34m.\u001b[0m\u001b[0mparameters\u001b[0m\u001b[0;34m,\u001b[0m \u001b[0margs\u001b[0m\u001b[0;34m)\u001b[0m\u001b[0;34m}\u001b[0m\u001b[0;34m)\u001b[0m\u001b[0;34m\u001b[0m\u001b[0;34m\u001b[0m\u001b[0m\n\u001b[0;32m---> 72\u001b[0;31m         \u001b[0;32mreturn\u001b[0m \u001b[0mf\u001b[0m\u001b[0;34m(\u001b[0m\u001b[0;34m**\u001b[0m\u001b[0mkwargs\u001b[0m\u001b[0;34m)\u001b[0m\u001b[0;34m\u001b[0m\u001b[0;34m\u001b[0m\u001b[0m\n\u001b[0m\u001b[1;32m     73\u001b[0m     \u001b[0;32mreturn\u001b[0m \u001b[0minner_f\u001b[0m\u001b[0;34m\u001b[0m\u001b[0;34m\u001b[0m\u001b[0m\n\u001b[1;32m     74\u001b[0m \u001b[0;34m\u001b[0m\u001b[0m\n",
      "\u001b[0;32m~/anaconda3/lib/python3.7/site-packages/sklearn/utils/validation.py\u001b[0m in \u001b[0;36mcheck_is_fitted\u001b[0;34m(estimator, attributes, msg, all_or_any)\u001b[0m\n\u001b[1;32m   1017\u001b[0m \u001b[0;34m\u001b[0m\u001b[0m\n\u001b[1;32m   1018\u001b[0m     \u001b[0;32mif\u001b[0m \u001b[0;32mnot\u001b[0m \u001b[0mattrs\u001b[0m\u001b[0;34m:\u001b[0m\u001b[0;34m\u001b[0m\u001b[0;34m\u001b[0m\u001b[0m\n\u001b[0;32m-> 1019\u001b[0;31m         \u001b[0;32mraise\u001b[0m \u001b[0mNotFittedError\u001b[0m\u001b[0;34m(\u001b[0m\u001b[0mmsg\u001b[0m \u001b[0;34m%\u001b[0m \u001b[0;34m{\u001b[0m\u001b[0;34m'name'\u001b[0m\u001b[0;34m:\u001b[0m \u001b[0mtype\u001b[0m\u001b[0;34m(\u001b[0m\u001b[0mestimator\u001b[0m\u001b[0;34m)\u001b[0m\u001b[0;34m.\u001b[0m\u001b[0m__name__\u001b[0m\u001b[0;34m}\u001b[0m\u001b[0;34m)\u001b[0m\u001b[0;34m\u001b[0m\u001b[0;34m\u001b[0m\u001b[0m\n\u001b[0m\u001b[1;32m   1020\u001b[0m \u001b[0;34m\u001b[0m\u001b[0m\n\u001b[1;32m   1021\u001b[0m \u001b[0;34m\u001b[0m\u001b[0m\n",
      "\u001b[0;31mNotFittedError\u001b[0m: This RandomForestClassifier instance is not fitted yet. Call 'fit' with appropriate arguments before using this estimator."
     ]
    }
   ],
   "source": [
    "# get importance\n",
    "unimportant_columns =[]\n",
    "\n",
    "importance = classifier.feature_importances_\n",
    "# summarize feature importance\n",
    "for i,v in enumerate(importance):\n",
    "    print(f'Feature: %0d,\\t Name: {x_columns[i]}, \\t Score: %.5f' % (i,v*100))\n",
    "# plot feature importance\n",
    "plt.bar([x for x in range(len(importance))], importance)\n",
    "plt.show()"
   ]
  },
  {
   "cell_type": "markdown",
   "id": "together-stick",
   "metadata": {},
   "source": [
    "## Random Forest with removal of features"
   ]
  },
  {
   "cell_type": "code",
   "execution_count": 15,
   "id": "alive-stock",
   "metadata": {},
   "outputs": [
    {
     "data": {
      "text/plain": [
       "Index(['melspectrogram_6dB', 'melspectrogram_min_6dB',\n",
       "       'melspectrogram_max_6dB', 'melspectrogram_sum_6dB',\n",
       "       'melspectrogram_corr_6dB', 'melspectrogram_std_6dB', 'mfcc_6dB',\n",
       "       'rms_6dB', 'spectral_centroid_6dB', 'spectral_bandwidth_6dB',\n",
       "       'spectral_contrast_6dB', 'spectral_flatness _6dB',\n",
       "       'spectral_rolloff_6dB', 'zero_crossing_rate_6dB', 'mean harm_6dB',\n",
       "       'mean perc_6dB', 'max harm_6dB', 'max perc_6dB', 'min harm_6dB',\n",
       "       'min perc_6dB', 'melspectrogram_0dB', 'melspectrogram_min_0dB',\n",
       "       'melspectrogram_max_0dB', 'melspectrogram_sum_0dB',\n",
       "       'melspectrogram_corr_0dB', 'melspectrogram_std_0dB', 'mfcc_0dB',\n",
       "       'rms_0dB', 'spectral_centroid_0dB', 'spectral_bandwidth_0dB',\n",
       "       'spectral_contrast_0dB', 'spectral_flatness _0dB',\n",
       "       'spectral_rolloff_0dB', 'zero_crossing_rate_0dB', 'mean harm_0dB',\n",
       "       'mean perc_0dB', 'max harm_0dB', 'max perc_0dB', 'min harm_0dB',\n",
       "       'min perc_0dB', 'melspectrogram_-6dB', 'melspectrogram_min_-6dB',\n",
       "       'melspectrogram_max_-6dB', 'melspectrogram_sum_-6dB',\n",
       "       'melspectrogram_corr_-6dB', 'melspectrogram_std_-6dB', 'mfcc_-6dB',\n",
       "       'rms_-6dB', 'spectral_centroid_-6dB', 'spectral_bandwidth_-6dB',\n",
       "       'spectral_contrast_-6dB', 'spectral_flatness _-6dB',\n",
       "       'spectral_rolloff_-6dB', 'zero_crossing_rate_-6dB', 'mean harm_-6dB',\n",
       "       'mean perc_-6dB', 'max harm_-6dB', 'max perc_-6dB', 'min harm_-6dB',\n",
       "       'min perc_-6dB'],\n",
       "      dtype='object')"
      ]
     },
     "execution_count": 15,
     "metadata": {},
     "output_type": "execute_result"
    }
   ],
   "source": [
    "X.columns"
   ]
  },
  {
   "cell_type": "code",
   "execution_count": 17,
   "id": "referenced-raising",
   "metadata": {},
   "outputs": [
    {
     "name": "stdout",
     "output_type": "stream",
     "text": [
      "Feature: 2,\t Name: melspectrogram_max_6dB, \t Score: 4.97833\n",
      "Feature: 4,\t Name: melspectrogram_corr_6dB, \t Score: 4.55280\n",
      "Feature: 5,\t Name: melspectrogram_std_6dB, \t Score: 2.18550\n",
      "Feature: 7,\t Name: rms_6dB, \t Score: 2.06653\n",
      "Feature: 17,\t Name: max perc_6dB, \t Score: 12.66975\n",
      "Feature: 19,\t Name: min perc_6dB, \t Score: 6.14789\n",
      "Feature: 24,\t Name: melspectrogram_corr_0dB, \t Score: 3.73448\n",
      "Feature: 37,\t Name: max perc_0dB, \t Score: 10.73631\n",
      "Feature: 39,\t Name: min perc_0dB, \t Score: 6.31211\n",
      "Feature: 44,\t Name: melspectrogram_corr_-6dB, \t Score: 3.14127\n",
      "Feature: 57,\t Name: max perc_-6dB, \t Score: 6.61771\n",
      "Feature: 59,\t Name: min perc_-6dB, \t Score: 4.57862\n"
     ]
    },
    {
     "data": {
      "image/png": "[encoded data removed]",
      "text/plain": [
       "<Figure size 432x288 with 1 Axes>"
      ]
     },
     "metadata": {
      "needs_background": "light"
     },
     "output_type": "display_data"
    }
   ],
   "source": [
    "# get importance\n",
    "unimportant_columns =[]\n",
    "\n",
    "importance = classifier.feature_importances_\n",
    "# summarize feature importance\n",
    "for i,v in enumerate(importance):\n",
    "    if v*100 > 2:\n",
    "        print(f'Feature: %0d,\\t Name: {x_columns[i]}, \\t Score: %.5f' % (i,v*100))\n",
    "    else:\n",
    "        unimportant_columns.append(x_columns[i])\n",
    "# plot feature importance\n",
    "plt.bar([x for x in range(len(importance))], importance)\n",
    "plt.show()\n",
    "y=valve['normal(0)/abnormal(1)'].values\n",
    "x=valve.drop(columns=unimportant_columns, axis=1)"
   ]
  },
  {
   "cell_type": "code",
   "execution_count": 18,
   "id": "attractive-hungary",
   "metadata": {},
   "outputs": [
    {
     "data": {
      "text/plain": [
       "Index(['melspectrogram_max_6dB', 'melspectrogram_corr_6dB',\n",
       "       'melspectrogram_std_6dB', 'rms_6dB', 'max perc_6dB', 'min perc_6dB',\n",
       "       'melspectrogram_corr_0dB', 'max perc_0dB', 'min perc_0dB',\n",
       "       'melspectrogram_corr_-6dB', 'max perc_-6dB', 'min perc_-6dB',\n",
       "       'normal(0)/abnormal(1)'],\n",
       "      dtype='object')"
      ]
     },
     "execution_count": 18,
     "metadata": {},
     "output_type": "execute_result"
    }
   ],
   "source": [
    "x.columns"
   ]
  },
  {
   "cell_type": "code",
   "execution_count": 19,
   "id": "played-american",
   "metadata": {},
   "outputs": [],
   "source": [
    "#Choosing 80% as training data.\n",
    "X_train, X_test, y_train, y_test = train_test_split(x, y, test_size = 0.2, random_state = 42)"
   ]
  },
  {
   "cell_type": "code",
   "execution_count": 20,
   "id": "broke-paris",
   "metadata": {},
   "outputs": [],
   "source": [
    "from sklearn.ensemble import RandomForestClassifier\n",
    "classifier = RandomForestClassifier(n_estimators = 100, random_state = 0)\n",
    "classifier.fit(X_train, y_train)\n",
    "y_pred = classifier.predict(X_test)"
   ]
  },
  {
   "cell_type": "code",
   "execution_count": 21,
   "id": "verified-sussex",
   "metadata": {
    "scrolled": true
   },
   "outputs": [
    {
     "name": "stdout",
     "output_type": "stream",
     "text": [
      "confusion matrix\n",
      "[[745   0]\n",
      " [  0  89]]\n",
      "classification report\n",
      "              precision    recall  f1-score   support\n",
      "\n",
      "           0       1.00      1.00      1.00       745\n",
      "           1       1.00      1.00      1.00        89\n",
      "\n",
      "    accuracy                           1.00       834\n",
      "   macro avg       1.00      1.00      1.00       834\n",
      "weighted avg       1.00      1.00      1.00       834\n",
      "\n",
      "accuracy score\n",
      "1.0\n"
     ]
    }
   ],
   "source": [
    "from sklearn.metrics import classification_report, confusion_matrix, accuracy_score\n",
    "print('confusion matrix')\n",
    "print(confusion_matrix(y_test, y_pred))\n",
    "print('classification report')\n",
    "print(classification_report(y_test, y_pred))\n",
    "print('accuracy score')\n",
    "print(accuracy_score(y_test, y_pred))"
   ]
  },
  {
   "cell_type": "code",
   "execution_count": null,
   "id": "dying-smooth",
   "metadata": {},
   "outputs": [],
   "source": []
  }
 ],
 "metadata": {
  "kernelspec": {
   "display_name": "Python 3",
   "language": "python",
   "name": "python3"
  },
  "language_info": {
   "codemirror_mode": {
    "name": "ipython",
    "version": 3
   },
   "file_extension": ".py",
   "mimetype": "text/x-python",
   "name": "python",
   "nbconvert_exporter": "python",
   "pygments_lexer": "ipython3",
   "version": "3.7.7"
  }
 },
 "nbformat": 4,
 "nbformat_minor": 5
}
