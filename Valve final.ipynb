{
 "cells": [
  {
   "cell_type": "code",
   "execution_count": 430,
   "id": "closing-fraction",
   "metadata": {},
   "outputs": [],
   "source": [
    "import librosa\n",
    "from librosa import feature\n",
    "import numpy as np\n",
    "import pandas as pd\n",
    "import matplotlib.pyplot as plt\n",
    "from sklearn import tree\n",
    "#import graphviz \n",
    "from sklearn.ensemble import RandomForestClassifier\n",
    "from sklearn.model_selection import train_test_split\n",
    "import os\n",
    "import sys\n",
    "import time\n",
    "from functools import reduce\n",
    "from sklearn.model_selection import KFold, StratifiedKFold, cross_val_score\n",
    "from sklearn import linear_model, tree, ensemble"
   ]
  },
  {
   "cell_type": "markdown",
   "id": "tutorial-company",
   "metadata": {},
   "source": [
    "## Valve merging of 6,0,-6"
   ]
  },
  {
   "cell_type": "code",
   "execution_count": 431,
   "id": "altered-liberty",
   "metadata": {},
   "outputs": [],
   "source": [
    "def merge_pd(machine):\n",
    "    df_6dB=pd.read_csv(f'/home/regis/Desktop/machines/Codit-project/Librosa_features_{machine}_6dB.csv')\n",
    "    df_0dB=pd.read_csv(f'/home/regis/Desktop/machines/Codit-project/Librosa_features_{machine}_0dB.csv')\n",
    "    df_min6dB=pd.read_csv(f'/home/regis/Desktop/machines/Codit-project/Librosa_features_{machine}_-6dB.csv')\n",
    "    df_6dB.drop(columns = ['Unnamed: 0'], axis=1, inplace=True)\n",
    "    df_0dB.drop(columns = ['Unnamed: 0'], axis=1, inplace=True)\n",
    "    df_min6dB.drop(columns = ['Unnamed: 0'], axis=1, inplace=True)\n",
    "\n",
    "    df_6dB.columns = [str(col) + '_6dB' for col in df_6dB.columns]\n",
    "    df_0dB.columns = [str(col) + '_0dB' for col in df_0dB.columns]\n",
    "    df_min6dB.columns = [str(col) + '_-6dB' for col in df_min6dB.columns]\n",
    "    data_frames = [df_6dB, df_0dB, df_min6dB]\n",
    "    df_merged = reduce(lambda  left,right: pd.merge(left,right,left_index=True, right_index=True,how='outer'), data_frames)\n",
    "    return df_merged"
   ]
  },
  {
   "cell_type": "code",
   "execution_count": 432,
   "id": "fresh-charter",
   "metadata": {},
   "outputs": [],
   "source": [
    "valve=merge_pd('valve')"
   ]
  },
  {
   "cell_type": "code",
   "execution_count": 433,
   "id": "quick-selling",
   "metadata": {},
   "outputs": [
    {
     "data": {
      "text/plain": [
       "Index(['melspectrogram_6dB', 'melspectrogram_min_6dB',\n",
       "       'melspectrogram_max_6dB', 'melspectrogram_sum_6dB',\n",
       "       'melspectrogram_corr_6dB', 'melspectrogram_std_6dB', 'mfcc_6dB',\n",
       "       'rms_6dB', 'spectral_centroid_6dB', 'spectral_bandwidth_6dB',\n",
       "       'spectral_contrast_6dB', 'spectral_flatness _6dB',\n",
       "       'spectral_rolloff_6dB', 'zero_crossing_rate_6dB', 'mean harm_6dB',\n",
       "       'mean perc_6dB', 'max harm_6dB', 'max perc_6dB', 'min harm_6dB',\n",
       "       'min perc_6dB', 'normal(0)/abnormal(1)_6dB', 'melspectrogram_0dB',\n",
       "       'melspectrogram_min_0dB', 'melspectrogram_max_0dB',\n",
       "       'melspectrogram_sum_0dB', 'melspectrogram_corr_0dB',\n",
       "       'melspectrogram_std_0dB', 'mfcc_0dB', 'rms_0dB',\n",
       "       'spectral_centroid_0dB', 'spectral_bandwidth_0dB',\n",
       "       'spectral_contrast_0dB', 'spectral_flatness _0dB',\n",
       "       'spectral_rolloff_0dB', 'zero_crossing_rate_0dB', 'mean harm_0dB',\n",
       "       'mean perc_0dB', 'max harm_0dB', 'max perc_0dB', 'min harm_0dB',\n",
       "       'min perc_0dB', 'normal(0)/abnormal(1)_0dB', 'melspectrogram_-6dB',\n",
       "       'melspectrogram_min_-6dB', 'melspectrogram_max_-6dB',\n",
       "       'melspectrogram_sum_-6dB', 'melspectrogram_corr_-6dB',\n",
       "       'melspectrogram_std_-6dB', 'mfcc_-6dB', 'rms_-6dB',\n",
       "       'spectral_centroid_-6dB', 'spectral_bandwidth_-6dB',\n",
       "       'spectral_contrast_-6dB', 'spectral_flatness _-6dB',\n",
       "       'spectral_rolloff_-6dB', 'zero_crossing_rate_-6dB', 'mean harm_-6dB',\n",
       "       'mean perc_-6dB', 'max harm_-6dB', 'max perc_-6dB', 'min harm_-6dB',\n",
       "       'min perc_-6dB', 'normal(0)/abnormal(1)_-6dB'],\n",
       "      dtype='object')"
      ]
     },
     "execution_count": 433,
     "metadata": {},
     "output_type": "execute_result"
    }
   ],
   "source": [
    "valve.columns"
   ]
  },
  {
   "cell_type": "code",
   "execution_count": 434,
   "id": "parallel-enlargement",
   "metadata": {},
   "outputs": [],
   "source": [
    "valve.drop(columns=['normal(0)/abnormal(1)_6dB','normal(0)/abnormal(1)_0dB'],axis=1,inplace=True)"
   ]
  },
  {
   "cell_type": "code",
   "execution_count": 435,
   "id": "alien-happening",
   "metadata": {},
   "outputs": [
    {
     "data": {
      "text/html": [
       "<div>\n",
       "<style scoped>\n",
       "    .dataframe tbody tr th:only-of-type {\n",
       "        vertical-align: middle;\n",
       "    }\n",
       "\n",
       "    .dataframe tbody tr th {\n",
       "        vertical-align: top;\n",
       "    }\n",
       "\n",
       "    .dataframe thead th {\n",
       "        text-align: right;\n",
       "    }\n",
       "</style>\n",
       "<table border=\"1\" class=\"dataframe\">\n",
       "  <thead>\n",
       "    <tr style=\"text-align: right;\">\n",
       "      <th></th>\n",
       "      <th>melspectrogram_6dB</th>\n",
       "      <th>melspectrogram_min_6dB</th>\n",
       "      <th>melspectrogram_max_6dB</th>\n",
       "      <th>melspectrogram_sum_6dB</th>\n",
       "      <th>melspectrogram_corr_6dB</th>\n",
       "      <th>melspectrogram_std_6dB</th>\n",
       "      <th>mfcc_6dB</th>\n",
       "      <th>rms_6dB</th>\n",
       "      <th>spectral_centroid_6dB</th>\n",
       "      <th>spectral_bandwidth_6dB</th>\n",
       "      <th>...</th>\n",
       "      <th>spectral_flatness _-6dB</th>\n",
       "      <th>spectral_rolloff_-6dB</th>\n",
       "      <th>zero_crossing_rate_-6dB</th>\n",
       "      <th>mean harm_-6dB</th>\n",
       "      <th>mean perc_-6dB</th>\n",
       "      <th>max harm_-6dB</th>\n",
       "      <th>max perc_-6dB</th>\n",
       "      <th>min harm_-6dB</th>\n",
       "      <th>min perc_-6dB</th>\n",
       "      <th>normal(0)/abnormal(1)_-6dB</th>\n",
       "    </tr>\n",
       "  </thead>\n",
       "  <tbody>\n",
       "    <tr>\n",
       "      <th>0</th>\n",
       "      <td>0.006300</td>\n",
       "      <td>6.218734e-10</td>\n",
       "      <td>0.090277</td>\n",
       "      <td>347.580261</td>\n",
       "      <td>0.523183</td>\n",
       "      <td>0.010437</td>\n",
       "      <td>-15.342528</td>\n",
       "      <td>0.002967</td>\n",
       "      <td>1399.372425</td>\n",
       "      <td>1635.526256</td>\n",
       "      <td>...</td>\n",
       "      <td>0.000629</td>\n",
       "      <td>3566.218188</td>\n",
       "      <td>0.098873</td>\n",
       "      <td>-2.914727e-07</td>\n",
       "      <td>-1.149451e-06</td>\n",
       "      <td>0.024765</td>\n",
       "      <td>0.104119</td>\n",
       "      <td>-0.025627</td>\n",
       "      <td>-0.085298</td>\n",
       "      <td>0</td>\n",
       "    </tr>\n",
       "    <tr>\n",
       "      <th>1</th>\n",
       "      <td>0.007236</td>\n",
       "      <td>7.803309e-10</td>\n",
       "      <td>0.087623</td>\n",
       "      <td>399.178070</td>\n",
       "      <td>0.461858</td>\n",
       "      <td>0.009354</td>\n",
       "      <td>-14.877153</td>\n",
       "      <td>0.002920</td>\n",
       "      <td>1765.622412</td>\n",
       "      <td>1767.165689</td>\n",
       "      <td>...</td>\n",
       "      <td>0.000419</td>\n",
       "      <td>2937.083941</td>\n",
       "      <td>0.053674</td>\n",
       "      <td>1.012487e-06</td>\n",
       "      <td>2.031724e-06</td>\n",
       "      <td>0.030395</td>\n",
       "      <td>0.076841</td>\n",
       "      <td>-0.030091</td>\n",
       "      <td>-0.060521</td>\n",
       "      <td>0</td>\n",
       "    </tr>\n",
       "    <tr>\n",
       "      <th>2</th>\n",
       "      <td>0.006186</td>\n",
       "      <td>6.056689e-10</td>\n",
       "      <td>0.092516</td>\n",
       "      <td>341.284851</td>\n",
       "      <td>0.494020</td>\n",
       "      <td>0.008715</td>\n",
       "      <td>-16.809891</td>\n",
       "      <td>0.002680</td>\n",
       "      <td>1716.821280</td>\n",
       "      <td>1784.159467</td>\n",
       "      <td>...</td>\n",
       "      <td>0.000424</td>\n",
       "      <td>3644.831866</td>\n",
       "      <td>0.084243</td>\n",
       "      <td>-7.028235e-08</td>\n",
       "      <td>-1.127828e-06</td>\n",
       "      <td>0.028087</td>\n",
       "      <td>0.073661</td>\n",
       "      <td>-0.029678</td>\n",
       "      <td>-0.070317</td>\n",
       "      <td>0</td>\n",
       "    </tr>\n",
       "    <tr>\n",
       "      <th>3</th>\n",
       "      <td>0.006994</td>\n",
       "      <td>6.636679e-10</td>\n",
       "      <td>0.097133</td>\n",
       "      <td>385.858826</td>\n",
       "      <td>0.489502</td>\n",
       "      <td>0.009895</td>\n",
       "      <td>-15.353941</td>\n",
       "      <td>0.002953</td>\n",
       "      <td>1466.548926</td>\n",
       "      <td>1585.731245</td>\n",
       "      <td>...</td>\n",
       "      <td>0.000294</td>\n",
       "      <td>2854.123654</td>\n",
       "      <td>0.057706</td>\n",
       "      <td>9.979737e-08</td>\n",
       "      <td>7.113005e-07</td>\n",
       "      <td>0.023710</td>\n",
       "      <td>0.068743</td>\n",
       "      <td>-0.026346</td>\n",
       "      <td>-0.062864</td>\n",
       "      <td>0</td>\n",
       "    </tr>\n",
       "    <tr>\n",
       "      <th>4</th>\n",
       "      <td>0.005965</td>\n",
       "      <td>5.532336e-10</td>\n",
       "      <td>0.119931</td>\n",
       "      <td>329.072296</td>\n",
       "      <td>0.520290</td>\n",
       "      <td>0.010416</td>\n",
       "      <td>-15.100811</td>\n",
       "      <td>0.002925</td>\n",
       "      <td>1267.393978</td>\n",
       "      <td>1510.835471</td>\n",
       "      <td>...</td>\n",
       "      <td>0.000318</td>\n",
       "      <td>3178.745434</td>\n",
       "      <td>0.074161</td>\n",
       "      <td>-1.004464e-06</td>\n",
       "      <td>-1.443682e-06</td>\n",
       "      <td>0.029470</td>\n",
       "      <td>0.086958</td>\n",
       "      <td>-0.028582</td>\n",
       "      <td>-0.074641</td>\n",
       "      <td>0</td>\n",
       "    </tr>\n",
       "  </tbody>\n",
       "</table>\n",
       "<p>5 rows × 61 columns</p>\n",
       "</div>"
      ],
      "text/plain": [
       "   melspectrogram_6dB  melspectrogram_min_6dB  melspectrogram_max_6dB  \\\n",
       "0            0.006300            6.218734e-10                0.090277   \n",
       "1            0.007236            7.803309e-10                0.087623   \n",
       "2            0.006186            6.056689e-10                0.092516   \n",
       "3            0.006994            6.636679e-10                0.097133   \n",
       "4            0.005965            5.532336e-10                0.119931   \n",
       "\n",
       "   melspectrogram_sum_6dB  melspectrogram_corr_6dB  melspectrogram_std_6dB  \\\n",
       "0              347.580261                 0.523183                0.010437   \n",
       "1              399.178070                 0.461858                0.009354   \n",
       "2              341.284851                 0.494020                0.008715   \n",
       "3              385.858826                 0.489502                0.009895   \n",
       "4              329.072296                 0.520290                0.010416   \n",
       "\n",
       "    mfcc_6dB   rms_6dB  spectral_centroid_6dB  spectral_bandwidth_6dB  ...  \\\n",
       "0 -15.342528  0.002967            1399.372425             1635.526256  ...   \n",
       "1 -14.877153  0.002920            1765.622412             1767.165689  ...   \n",
       "2 -16.809891  0.002680            1716.821280             1784.159467  ...   \n",
       "3 -15.353941  0.002953            1466.548926             1585.731245  ...   \n",
       "4 -15.100811  0.002925            1267.393978             1510.835471  ...   \n",
       "\n",
       "   spectral_flatness _-6dB  spectral_rolloff_-6dB  zero_crossing_rate_-6dB  \\\n",
       "0                 0.000629            3566.218188                 0.098873   \n",
       "1                 0.000419            2937.083941                 0.053674   \n",
       "2                 0.000424            3644.831866                 0.084243   \n",
       "3                 0.000294            2854.123654                 0.057706   \n",
       "4                 0.000318            3178.745434                 0.074161   \n",
       "\n",
       "   mean harm_-6dB  mean perc_-6dB  max harm_-6dB  max perc_-6dB  \\\n",
       "0   -2.914727e-07   -1.149451e-06       0.024765       0.104119   \n",
       "1    1.012487e-06    2.031724e-06       0.030395       0.076841   \n",
       "2   -7.028235e-08   -1.127828e-06       0.028087       0.073661   \n",
       "3    9.979737e-08    7.113005e-07       0.023710       0.068743   \n",
       "4   -1.004464e-06   -1.443682e-06       0.029470       0.086958   \n",
       "\n",
       "   min harm_-6dB  min perc_-6dB  normal(0)/abnormal(1)_-6dB  \n",
       "0      -0.025627      -0.085298                           0  \n",
       "1      -0.030091      -0.060521                           0  \n",
       "2      -0.029678      -0.070317                           0  \n",
       "3      -0.026346      -0.062864                           0  \n",
       "4      -0.028582      -0.074641                           0  \n",
       "\n",
       "[5 rows x 61 columns]"
      ]
     },
     "execution_count": 435,
     "metadata": {},
     "output_type": "execute_result"
    }
   ],
   "source": [
    "valve.head()"
   ]
  },
  {
   "cell_type": "code",
   "execution_count": 436,
   "id": "found-sitting",
   "metadata": {},
   "outputs": [],
   "source": [
    "valve.rename(columns={'normal(0)/abnormal(1)_-6dB': 'normal(0)/abnormal(1)'}, inplace=True)"
   ]
  },
  {
   "cell_type": "code",
   "execution_count": 437,
   "id": "radio-canyon",
   "metadata": {},
   "outputs": [
    {
     "data": {
      "text/plain": [
       "Index(['melspectrogram_6dB', 'melspectrogram_min_6dB',\n",
       "       'melspectrogram_max_6dB', 'melspectrogram_sum_6dB',\n",
       "       'melspectrogram_corr_6dB', 'melspectrogram_std_6dB', 'mfcc_6dB',\n",
       "       'rms_6dB', 'spectral_centroid_6dB', 'spectral_bandwidth_6dB',\n",
       "       'spectral_contrast_6dB', 'spectral_flatness _6dB',\n",
       "       'spectral_rolloff_6dB', 'zero_crossing_rate_6dB', 'mean harm_6dB',\n",
       "       'mean perc_6dB', 'max harm_6dB', 'max perc_6dB', 'min harm_6dB',\n",
       "       'min perc_6dB', 'melspectrogram_0dB', 'melspectrogram_min_0dB',\n",
       "       'melspectrogram_max_0dB', 'melspectrogram_sum_0dB',\n",
       "       'melspectrogram_corr_0dB', 'melspectrogram_std_0dB', 'mfcc_0dB',\n",
       "       'rms_0dB', 'spectral_centroid_0dB', 'spectral_bandwidth_0dB',\n",
       "       'spectral_contrast_0dB', 'spectral_flatness _0dB',\n",
       "       'spectral_rolloff_0dB', 'zero_crossing_rate_0dB', 'mean harm_0dB',\n",
       "       'mean perc_0dB', 'max harm_0dB', 'max perc_0dB', 'min harm_0dB',\n",
       "       'min perc_0dB', 'melspectrogram_-6dB', 'melspectrogram_min_-6dB',\n",
       "       'melspectrogram_max_-6dB', 'melspectrogram_sum_-6dB',\n",
       "       'melspectrogram_corr_-6dB', 'melspectrogram_std_-6dB', 'mfcc_-6dB',\n",
       "       'rms_-6dB', 'spectral_centroid_-6dB', 'spectral_bandwidth_-6dB',\n",
       "       'spectral_contrast_-6dB', 'spectral_flatness _-6dB',\n",
       "       'spectral_rolloff_-6dB', 'zero_crossing_rate_-6dB', 'mean harm_-6dB',\n",
       "       'mean perc_-6dB', 'max harm_-6dB', 'max perc_-6dB', 'min harm_-6dB',\n",
       "       'min perc_-6dB', 'normal(0)/abnormal(1)'],\n",
       "      dtype='object')"
      ]
     },
     "execution_count": 437,
     "metadata": {},
     "output_type": "execute_result"
    }
   ],
   "source": [
    "valve.columns"
   ]
  },
  {
   "cell_type": "code",
   "execution_count": 438,
   "id": "voluntary-treatment",
   "metadata": {},
   "outputs": [],
   "source": [
    "y=valve['normal(0)/abnormal(1)'].values\n",
    "X=valve.drop(columns=['normal(0)/abnormal(1)'], axis=1)"
   ]
  },
  {
   "cell_type": "code",
   "execution_count": 439,
   "id": "roman-dayton",
   "metadata": {},
   "outputs": [],
   "source": [
    "#Choosing 80% as training data.\n",
    "X_train, X_test, y_train, y_test = train_test_split(X, y, test_size = 0.2, random_state = 42)"
   ]
  },
  {
   "cell_type": "code",
   "execution_count": 440,
   "id": "informative-daniel",
   "metadata": {},
   "outputs": [],
   "source": [
    "from sklearn.ensemble import RandomForestClassifier\n",
    "classifier = RandomForestClassifier(n_estimators = 100, random_state = 42)\n",
    "classifier.fit(X_train, y_train)\n",
    "y_pred = classifier.predict(X_test)"
   ]
  },
  {
   "cell_type": "code",
   "execution_count": 441,
   "id": "exempt-copying",
   "metadata": {},
   "outputs": [
    {
     "name": "stdout",
     "output_type": "stream",
     "text": [
      "confusion matrix\n",
      "[[743   2]\n",
      " [ 34  55]]\n",
      "classification report\n",
      "              precision    recall  f1-score   support\n",
      "\n",
      "           0       0.96      1.00      0.98       745\n",
      "           1       0.96      0.62      0.75        89\n",
      "\n",
      "    accuracy                           0.96       834\n",
      "   macro avg       0.96      0.81      0.86       834\n",
      "weighted avg       0.96      0.96      0.95       834\n",
      "\n",
      "accuracy score\n",
      "0.9568345323741008\n"
     ]
    }
   ],
   "source": [
    "from sklearn.metrics import classification_report, confusion_matrix, accuracy_score\n",
    "print('confusion matrix')\n",
    "print(confusion_matrix(y_test, y_pred))\n",
    "print('classification report')\n",
    "print(classification_report(y_test, y_pred))\n",
    "print('accuracy score')\n",
    "print(accuracy_score(y_test, y_pred))"
   ]
  },
  {
   "cell_type": "code",
   "execution_count": 442,
   "id": "rubber-hebrew",
   "metadata": {},
   "outputs": [],
   "source": [
    "x_columns=list(X.columns)"
   ]
  },
  {
   "cell_type": "code",
   "execution_count": 443,
   "id": "multiple-floating",
   "metadata": {},
   "outputs": [
    {
     "name": "stdout",
     "output_type": "stream",
     "text": [
      "Feature: 2,\t Name: melspectrogram_max_6dB, \t Score: 5.74702\n",
      "Feature: 4,\t Name: melspectrogram_corr_6dB, \t Score: 5.59555\n",
      "Feature: 17,\t Name: max perc_6dB, \t Score: 12.76676\n",
      "Feature: 19,\t Name: min perc_6dB, \t Score: 6.01514\n",
      "Feature: 24,\t Name: melspectrogram_corr_0dB, \t Score: 3.44088\n",
      "Feature: 37,\t Name: max perc_0dB, \t Score: 9.62512\n",
      "Feature: 39,\t Name: min perc_0dB, \t Score: 6.15593\n",
      "Feature: 57,\t Name: max perc_-6dB, \t Score: 7.20244\n",
      "Feature: 59,\t Name: min perc_-6dB, \t Score: 4.96249\n"
     ]
    },
    {
     "data": {
      "image/png": "[encoded data removed]",
      "text/plain": [
       "<Figure size 432x288 with 1 Axes>"
      ]
     },
     "metadata": {
      "needs_background": "light"
     },
     "output_type": "display_data"
    }
   ],
   "source": [
    "# get importance\n",
    "unimportant_columns =[]\n",
    "\n",
    "importance = classifier.feature_importances_\n",
    "# summarize feature importance\n",
    "for i,v in enumerate(importance):\n",
    "    if v*100 > 3:\n",
    "        print(f'Feature: %0d,\\t Name: {x_columns[i]}, \\t Score: %.5f' % (i,v*100))\n",
    "# plot feature importance\n",
    "plt.bar([x for x in range(len(importance))], importance)\n",
    "plt.show()"
   ]
  },
  {
   "cell_type": "markdown",
   "id": "together-stick",
   "metadata": {},
   "source": [
    "## Random Forest with removal of features"
   ]
  },
  {
   "cell_type": "code",
   "execution_count": 444,
   "id": "alive-stock",
   "metadata": {
    "scrolled": true
   },
   "outputs": [
    {
     "data": {
      "text/plain": [
       "Index(['melspectrogram_6dB', 'melspectrogram_min_6dB',\n",
       "       'melspectrogram_max_6dB', 'melspectrogram_sum_6dB',\n",
       "       'melspectrogram_corr_6dB', 'melspectrogram_std_6dB', 'mfcc_6dB',\n",
       "       'rms_6dB', 'spectral_centroid_6dB', 'spectral_bandwidth_6dB',\n",
       "       'spectral_contrast_6dB', 'spectral_flatness _6dB',\n",
       "       'spectral_rolloff_6dB', 'zero_crossing_rate_6dB', 'mean harm_6dB',\n",
       "       'mean perc_6dB', 'max harm_6dB', 'max perc_6dB', 'min harm_6dB',\n",
       "       'min perc_6dB', 'melspectrogram_0dB', 'melspectrogram_min_0dB',\n",
       "       'melspectrogram_max_0dB', 'melspectrogram_sum_0dB',\n",
       "       'melspectrogram_corr_0dB', 'melspectrogram_std_0dB', 'mfcc_0dB',\n",
       "       'rms_0dB', 'spectral_centroid_0dB', 'spectral_bandwidth_0dB',\n",
       "       'spectral_contrast_0dB', 'spectral_flatness _0dB',\n",
       "       'spectral_rolloff_0dB', 'zero_crossing_rate_0dB', 'mean harm_0dB',\n",
       "       'mean perc_0dB', 'max harm_0dB', 'max perc_0dB', 'min harm_0dB',\n",
       "       'min perc_0dB', 'melspectrogram_-6dB', 'melspectrogram_min_-6dB',\n",
       "       'melspectrogram_max_-6dB', 'melspectrogram_sum_-6dB',\n",
       "       'melspectrogram_corr_-6dB', 'melspectrogram_std_-6dB', 'mfcc_-6dB',\n",
       "       'rms_-6dB', 'spectral_centroid_-6dB', 'spectral_bandwidth_-6dB',\n",
       "       'spectral_contrast_-6dB', 'spectral_flatness _-6dB',\n",
       "       'spectral_rolloff_-6dB', 'zero_crossing_rate_-6dB', 'mean harm_-6dB',\n",
       "       'mean perc_-6dB', 'max harm_-6dB', 'max perc_-6dB', 'min harm_-6dB',\n",
       "       'min perc_-6dB'],\n",
       "      dtype='object')"
      ]
     },
     "execution_count": 444,
     "metadata": {},
     "output_type": "execute_result"
    }
   ],
   "source": [
    "X.columns"
   ]
  },
  {
   "cell_type": "code",
   "execution_count": 445,
   "id": "referenced-raising",
   "metadata": {},
   "outputs": [
    {
     "name": "stdout",
     "output_type": "stream",
     "text": [
      "Feature: 2,\t Name: melspectrogram_max_6dB, \t Score: 5.74702\n",
      "Feature: 4,\t Name: melspectrogram_corr_6dB, \t Score: 5.59555\n",
      "Feature: 5,\t Name: melspectrogram_std_6dB, \t Score: 2.36287\n",
      "Feature: 17,\t Name: max perc_6dB, \t Score: 12.76676\n",
      "Feature: 19,\t Name: min perc_6dB, \t Score: 6.01514\n",
      "Feature: 24,\t Name: melspectrogram_corr_0dB, \t Score: 3.44088\n",
      "Feature: 37,\t Name: max perc_0dB, \t Score: 9.62512\n",
      "Feature: 39,\t Name: min perc_0dB, \t Score: 6.15593\n",
      "Feature: 44,\t Name: melspectrogram_corr_-6dB, \t Score: 2.93648\n",
      "Feature: 57,\t Name: max perc_-6dB, \t Score: 7.20244\n",
      "Feature: 59,\t Name: min perc_-6dB, \t Score: 4.96249\n"
     ]
    },
    {
     "data": {
      "image/png": "[encoded data removed]",
      "text/plain": [
       "<Figure size 432x288 with 1 Axes>"
      ]
     },
     "metadata": {
      "needs_background": "light"
     },
     "output_type": "display_data"
    }
   ],
   "source": [
    "# get importance\n",
    "unimportant_columns =[]\n",
    "\n",
    "importance = classifier.feature_importances_\n",
    "# summarize feature importance\n",
    "for i,v in enumerate(importance):\n",
    "    if v*100 > 2:\n",
    "        print(f'Feature: %0d,\\t Name: {x_columns[i]}, \\t Score: %.5f' % (i,v*100))\n",
    "    else:\n",
    "        unimportant_columns.append(x_columns[i])\n",
    "# plot feature importance\n",
    "plt.bar([x for x in range(len(importance))], importance)\n",
    "plt.show()\n",
    "y=valve['normal(0)/abnormal(1)'].values\n",
    "X=valve.drop(columns=unimportant_columns, axis=1)"
   ]
  },
  {
   "cell_type": "code",
   "execution_count": 446,
   "id": "attractive-hungary",
   "metadata": {
    "scrolled": true
   },
   "outputs": [
    {
     "data": {
      "text/plain": [
       "Index(['melspectrogram_max_6dB', 'melspectrogram_corr_6dB',\n",
       "       'melspectrogram_std_6dB', 'max perc_6dB', 'min perc_6dB',\n",
       "       'melspectrogram_corr_0dB', 'max perc_0dB', 'min perc_0dB',\n",
       "       'melspectrogram_corr_-6dB', 'max perc_-6dB', 'min perc_-6dB',\n",
       "       'normal(0)/abnormal(1)'],\n",
       "      dtype='object')"
      ]
     },
     "execution_count": 446,
     "metadata": {},
     "output_type": "execute_result"
    }
   ],
   "source": [
    "X.columns"
   ]
  },
  {
   "cell_type": "code",
   "execution_count": 447,
   "id": "played-american",
   "metadata": {},
   "outputs": [],
   "source": [
    "#Choosing 80% as training data.\n",
    "X_train, X_test, y_train, y_test = train_test_split(X, y, test_size = 0.2, random_state = 42)"
   ]
  },
  {
   "cell_type": "code",
   "execution_count": 448,
   "id": "broke-paris",
   "metadata": {},
   "outputs": [],
   "source": [
    "from sklearn.ensemble import RandomForestClassifier\n",
    "classifier = RandomForestClassifier(n_estimators = 100, random_state = 0)\n",
    "classifier.fit(X_train, y_train)\n",
    "y_pred = classifier.predict(X_test)"
   ]
  },
  {
   "cell_type": "code",
   "execution_count": 449,
   "id": "fabulous-general",
   "metadata": {},
   "outputs": [
    {
     "name": "stdout",
     "output_type": "stream",
     "text": [
      "Feature: 0,\t Name: melspectrogram_6dB, \t Score: 2.86639\n",
      "Feature: 1,\t Name: melspectrogram_min_6dB, \t Score: 3.01179\n",
      "Feature: 2,\t Name: melspectrogram_max_6dB, \t Score: 1.20750\n",
      "Feature: 3,\t Name: melspectrogram_sum_6dB, \t Score: 8.57314\n",
      "Feature: 4,\t Name: melspectrogram_corr_6dB, \t Score: 3.54904\n",
      "Feature: 5,\t Name: melspectrogram_std_6dB, \t Score: 1.74446\n",
      "Feature: 6,\t Name: mfcc_6dB, \t Score: 5.48702\n",
      "Feature: 7,\t Name: rms_6dB, \t Score: 2.32885\n",
      "Feature: 8,\t Name: spectral_centroid_6dB, \t Score: 0.70952\n",
      "Feature: 9,\t Name: spectral_bandwidth_6dB, \t Score: 2.52218\n",
      "Feature: 10,\t Name: spectral_contrast_6dB, \t Score: 1.33329\n",
      "Feature: 11,\t Name: spectral_flatness _6dB, \t Score: 66.66682\n"
     ]
    },
    {
     "data": {
      "image/png": "[encoded data removed]",
      "text/plain": [
       "<Figure size 432x288 with 1 Axes>"
      ]
     },
     "metadata": {
      "needs_background": "light"
     },
     "output_type": "display_data"
    }
   ],
   "source": [
    "# get importance\n",
    "unimportant_columns =[]\n",
    "\n",
    "importance = classifier.feature_importances_\n",
    "# summarize feature importance\n",
    "for i,v in enumerate(importance):\n",
    "    print(f'Feature: %0d,\\t Name: {x_columns[i]}, \\t Score: %.5f' % (i,v*100))\n",
    "# plot feature importance\n",
    "plt.bar([x for x in range(len(importance))], importance)\n",
    "plt.show()"
   ]
  },
  {
   "cell_type": "code",
   "execution_count": 429,
   "id": "verified-sussex",
   "metadata": {
    "scrolled": false
   },
   "outputs": [
    {
     "name": "stdout",
     "output_type": "stream",
     "text": [
      "confusion matrix\n",
      "[[745   0]\n",
      " [  0  89]]\n",
      "classification report\n",
      "              precision    recall  f1-score   support\n",
      "\n",
      "           0       1.00      1.00      1.00       745\n",
      "           1       1.00      1.00      1.00        89\n",
      "\n",
      "    accuracy                           1.00       834\n",
      "   macro avg       1.00      1.00      1.00       834\n",
      "weighted avg       1.00      1.00      1.00       834\n",
      "\n",
      "accuracy score\n",
      "1.0\n"
     ]
    }
   ],
   "source": [
    "from sklearn.metrics import classification_report, confusion_matrix, accuracy_score\n",
    "print('confusion matrix')\n",
    "print(confusion_matrix(y_test, y_pred))\n",
    "print('classification report')\n",
    "print(classification_report(y_test, y_pred))\n",
    "print('accuracy score')\n",
    "print(accuracy_score(y_test, y_pred))"
   ]
  },
  {
   "cell_type": "code",
   "execution_count": null,
   "id": "excessive-thousand",
   "metadata": {},
   "outputs": [],
   "source": []
  },
  {
   "cell_type": "code",
   "execution_count": null,
   "id": "given-comparative",
   "metadata": {},
   "outputs": [],
   "source": []
  },
  {
   "cell_type": "code",
   "execution_count": null,
   "id": "speaking-pressure",
   "metadata": {},
   "outputs": [],
   "source": []
  },
  {
   "cell_type": "code",
   "execution_count": null,
   "id": "racial-belfast",
   "metadata": {},
   "outputs": [],
   "source": []
  },
  {
   "cell_type": "code",
   "execution_count": null,
   "id": "pressed-momentum",
   "metadata": {},
   "outputs": [],
   "source": []
  },
  {
   "cell_type": "code",
   "execution_count": null,
   "id": "caroline-provincial",
   "metadata": {},
   "outputs": [],
   "source": []
  },
  {
   "cell_type": "code",
   "execution_count": null,
   "id": "historic-living",
   "metadata": {},
   "outputs": [],
   "source": []
  },
  {
   "cell_type": "code",
   "execution_count": null,
   "id": "caring-kitchen",
   "metadata": {},
   "outputs": [],
   "source": []
  },
  {
   "cell_type": "code",
   "execution_count": null,
   "id": "advanced-portsmouth",
   "metadata": {},
   "outputs": [],
   "source": []
  },
  {
   "cell_type": "code",
   "execution_count": null,
   "id": "expired-shell",
   "metadata": {},
   "outputs": [],
   "source": []
  },
  {
   "cell_type": "code",
   "execution_count": null,
   "id": "behind-typing",
   "metadata": {},
   "outputs": [],
   "source": []
  },
  {
   "cell_type": "code",
   "execution_count": null,
   "id": "eight-missile",
   "metadata": {},
   "outputs": [],
   "source": []
  },
  {
   "cell_type": "markdown",
   "id": "altered-effect",
   "metadata": {},
   "source": [
    "## KFold"
   ]
  },
  {
   "cell_type": "code",
   "execution_count": 291,
   "id": "current-authorization",
   "metadata": {},
   "outputs": [],
   "source": [
    "valve=merge_pd('valve')"
   ]
  },
  {
   "cell_type": "code",
   "execution_count": 292,
   "id": "numerical-hollow",
   "metadata": {},
   "outputs": [
    {
     "data": {
      "text/plain": [
       "Index(['melspectrogram_6dB', 'melspectrogram_min_6dB',\n",
       "       'melspectrogram_max_6dB', 'melspectrogram_sum_6dB',\n",
       "       'melspectrogram_corr_6dB', 'melspectrogram_std_6dB', 'mfcc_6dB',\n",
       "       'rms_6dB', 'spectral_centroid_6dB', 'spectral_bandwidth_6dB',\n",
       "       'spectral_contrast_6dB', 'spectral_flatness _6dB',\n",
       "       'spectral_rolloff_6dB', 'zero_crossing_rate_6dB', 'mean harm_6dB',\n",
       "       'mean perc_6dB', 'max harm_6dB', 'max perc_6dB', 'min harm_6dB',\n",
       "       'min perc_6dB', 'normal(0)/abnormal(1)_6dB', 'melspectrogram_0dB',\n",
       "       'melspectrogram_min_0dB', 'melspectrogram_max_0dB',\n",
       "       'melspectrogram_sum_0dB', 'melspectrogram_corr_0dB',\n",
       "       'melspectrogram_std_0dB', 'mfcc_0dB', 'rms_0dB',\n",
       "       'spectral_centroid_0dB', 'spectral_bandwidth_0dB',\n",
       "       'spectral_contrast_0dB', 'spectral_flatness _0dB',\n",
       "       'spectral_rolloff_0dB', 'zero_crossing_rate_0dB', 'mean harm_0dB',\n",
       "       'mean perc_0dB', 'max harm_0dB', 'max perc_0dB', 'min harm_0dB',\n",
       "       'min perc_0dB', 'normal(0)/abnormal(1)_0dB', 'melspectrogram_-6dB',\n",
       "       'melspectrogram_min_-6dB', 'melspectrogram_max_-6dB',\n",
       "       'melspectrogram_sum_-6dB', 'melspectrogram_corr_-6dB',\n",
       "       'melspectrogram_std_-6dB', 'mfcc_-6dB', 'rms_-6dB',\n",
       "       'spectral_centroid_-6dB', 'spectral_bandwidth_-6dB',\n",
       "       'spectral_contrast_-6dB', 'spectral_flatness _-6dB',\n",
       "       'spectral_rolloff_-6dB', 'zero_crossing_rate_-6dB', 'mean harm_-6dB',\n",
       "       'mean perc_-6dB', 'max harm_-6dB', 'max perc_-6dB', 'min harm_-6dB',\n",
       "       'min perc_-6dB', 'normal(0)/abnormal(1)_-6dB'],\n",
       "      dtype='object')"
      ]
     },
     "execution_count": 292,
     "metadata": {},
     "output_type": "execute_result"
    }
   ],
   "source": [
    "valve.columns"
   ]
  },
  {
   "cell_type": "code",
   "execution_count": 293,
   "id": "motivated-hardware",
   "metadata": {},
   "outputs": [],
   "source": [
    "valve.drop(columns=['normal(0)/abnormal(1)_6dB','normal(0)/abnormal(1)_0dB'],axis=1,inplace=True)"
   ]
  },
  {
   "cell_type": "code",
   "execution_count": 148,
   "id": "suburban-funeral",
   "metadata": {},
   "outputs": [
    {
     "data": {
      "text/html": [
       "<div>\n",
       "<style scoped>\n",
       "    .dataframe tbody tr th:only-of-type {\n",
       "        vertical-align: middle;\n",
       "    }\n",
       "\n",
       "    .dataframe tbody tr th {\n",
       "        vertical-align: top;\n",
       "    }\n",
       "\n",
       "    .dataframe thead th {\n",
       "        text-align: right;\n",
       "    }\n",
       "</style>\n",
       "<table border=\"1\" class=\"dataframe\">\n",
       "  <thead>\n",
       "    <tr style=\"text-align: right;\">\n",
       "      <th></th>\n",
       "      <th>melspectrogram_6dB</th>\n",
       "      <th>melspectrogram_min_6dB</th>\n",
       "      <th>melspectrogram_max_6dB</th>\n",
       "      <th>melspectrogram_sum_6dB</th>\n",
       "      <th>melspectrogram_corr_6dB</th>\n",
       "      <th>melspectrogram_std_6dB</th>\n",
       "      <th>mfcc_6dB</th>\n",
       "      <th>rms_6dB</th>\n",
       "      <th>spectral_centroid_6dB</th>\n",
       "      <th>spectral_bandwidth_6dB</th>\n",
       "      <th>...</th>\n",
       "      <th>spectral_flatness _-6dB</th>\n",
       "      <th>spectral_rolloff_-6dB</th>\n",
       "      <th>zero_crossing_rate_-6dB</th>\n",
       "      <th>mean harm_-6dB</th>\n",
       "      <th>mean perc_-6dB</th>\n",
       "      <th>max harm_-6dB</th>\n",
       "      <th>max perc_-6dB</th>\n",
       "      <th>min harm_-6dB</th>\n",
       "      <th>min perc_-6dB</th>\n",
       "      <th>normal(0)/abnormal(1)_-6dB</th>\n",
       "    </tr>\n",
       "  </thead>\n",
       "  <tbody>\n",
       "    <tr>\n",
       "      <th>0</th>\n",
       "      <td>0.006300</td>\n",
       "      <td>6.218734e-10</td>\n",
       "      <td>0.090277</td>\n",
       "      <td>347.580261</td>\n",
       "      <td>0.523183</td>\n",
       "      <td>0.010437</td>\n",
       "      <td>-15.342528</td>\n",
       "      <td>0.002967</td>\n",
       "      <td>1399.372425</td>\n",
       "      <td>1635.526256</td>\n",
       "      <td>...</td>\n",
       "      <td>0.000629</td>\n",
       "      <td>3566.218188</td>\n",
       "      <td>0.098873</td>\n",
       "      <td>-2.914727e-07</td>\n",
       "      <td>-1.149451e-06</td>\n",
       "      <td>0.024765</td>\n",
       "      <td>0.104119</td>\n",
       "      <td>-0.025627</td>\n",
       "      <td>-0.085298</td>\n",
       "      <td>0</td>\n",
       "    </tr>\n",
       "    <tr>\n",
       "      <th>1</th>\n",
       "      <td>0.007236</td>\n",
       "      <td>7.803309e-10</td>\n",
       "      <td>0.087623</td>\n",
       "      <td>399.178070</td>\n",
       "      <td>0.461858</td>\n",
       "      <td>0.009354</td>\n",
       "      <td>-14.877153</td>\n",
       "      <td>0.002920</td>\n",
       "      <td>1765.622412</td>\n",
       "      <td>1767.165689</td>\n",
       "      <td>...</td>\n",
       "      <td>0.000419</td>\n",
       "      <td>2937.083941</td>\n",
       "      <td>0.053674</td>\n",
       "      <td>1.012487e-06</td>\n",
       "      <td>2.031724e-06</td>\n",
       "      <td>0.030395</td>\n",
       "      <td>0.076841</td>\n",
       "      <td>-0.030091</td>\n",
       "      <td>-0.060521</td>\n",
       "      <td>0</td>\n",
       "    </tr>\n",
       "    <tr>\n",
       "      <th>2</th>\n",
       "      <td>0.006186</td>\n",
       "      <td>6.056689e-10</td>\n",
       "      <td>0.092516</td>\n",
       "      <td>341.284851</td>\n",
       "      <td>0.494020</td>\n",
       "      <td>0.008715</td>\n",
       "      <td>-16.809891</td>\n",
       "      <td>0.002680</td>\n",
       "      <td>1716.821280</td>\n",
       "      <td>1784.159467</td>\n",
       "      <td>...</td>\n",
       "      <td>0.000424</td>\n",
       "      <td>3644.831866</td>\n",
       "      <td>0.084243</td>\n",
       "      <td>-7.028235e-08</td>\n",
       "      <td>-1.127828e-06</td>\n",
       "      <td>0.028087</td>\n",
       "      <td>0.073661</td>\n",
       "      <td>-0.029678</td>\n",
       "      <td>-0.070317</td>\n",
       "      <td>0</td>\n",
       "    </tr>\n",
       "    <tr>\n",
       "      <th>3</th>\n",
       "      <td>0.006994</td>\n",
       "      <td>6.636679e-10</td>\n",
       "      <td>0.097133</td>\n",
       "      <td>385.858826</td>\n",
       "      <td>0.489502</td>\n",
       "      <td>0.009895</td>\n",
       "      <td>-15.353941</td>\n",
       "      <td>0.002953</td>\n",
       "      <td>1466.548926</td>\n",
       "      <td>1585.731245</td>\n",
       "      <td>...</td>\n",
       "      <td>0.000294</td>\n",
       "      <td>2854.123654</td>\n",
       "      <td>0.057706</td>\n",
       "      <td>9.979737e-08</td>\n",
       "      <td>7.113005e-07</td>\n",
       "      <td>0.023710</td>\n",
       "      <td>0.068743</td>\n",
       "      <td>-0.026346</td>\n",
       "      <td>-0.062864</td>\n",
       "      <td>0</td>\n",
       "    </tr>\n",
       "    <tr>\n",
       "      <th>4</th>\n",
       "      <td>0.005965</td>\n",
       "      <td>5.532336e-10</td>\n",
       "      <td>0.119931</td>\n",
       "      <td>329.072296</td>\n",
       "      <td>0.520290</td>\n",
       "      <td>0.010416</td>\n",
       "      <td>-15.100811</td>\n",
       "      <td>0.002925</td>\n",
       "      <td>1267.393978</td>\n",
       "      <td>1510.835471</td>\n",
       "      <td>...</td>\n",
       "      <td>0.000318</td>\n",
       "      <td>3178.745434</td>\n",
       "      <td>0.074161</td>\n",
       "      <td>-1.004464e-06</td>\n",
       "      <td>-1.443682e-06</td>\n",
       "      <td>0.029470</td>\n",
       "      <td>0.086958</td>\n",
       "      <td>-0.028582</td>\n",
       "      <td>-0.074641</td>\n",
       "      <td>0</td>\n",
       "    </tr>\n",
       "  </tbody>\n",
       "</table>\n",
       "<p>5 rows × 61 columns</p>\n",
       "</div>"
      ],
      "text/plain": [
       "   melspectrogram_6dB  melspectrogram_min_6dB  melspectrogram_max_6dB  \\\n",
       "0            0.006300            6.218734e-10                0.090277   \n",
       "1            0.007236            7.803309e-10                0.087623   \n",
       "2            0.006186            6.056689e-10                0.092516   \n",
       "3            0.006994            6.636679e-10                0.097133   \n",
       "4            0.005965            5.532336e-10                0.119931   \n",
       "\n",
       "   melspectrogram_sum_6dB  melspectrogram_corr_6dB  melspectrogram_std_6dB  \\\n",
       "0              347.580261                 0.523183                0.010437   \n",
       "1              399.178070                 0.461858                0.009354   \n",
       "2              341.284851                 0.494020                0.008715   \n",
       "3              385.858826                 0.489502                0.009895   \n",
       "4              329.072296                 0.520290                0.010416   \n",
       "\n",
       "    mfcc_6dB   rms_6dB  spectral_centroid_6dB  spectral_bandwidth_6dB  ...  \\\n",
       "0 -15.342528  0.002967            1399.372425             1635.526256  ...   \n",
       "1 -14.877153  0.002920            1765.622412             1767.165689  ...   \n",
       "2 -16.809891  0.002680            1716.821280             1784.159467  ...   \n",
       "3 -15.353941  0.002953            1466.548926             1585.731245  ...   \n",
       "4 -15.100811  0.002925            1267.393978             1510.835471  ...   \n",
       "\n",
       "   spectral_flatness _-6dB  spectral_rolloff_-6dB  zero_crossing_rate_-6dB  \\\n",
       "0                 0.000629            3566.218188                 0.098873   \n",
       "1                 0.000419            2937.083941                 0.053674   \n",
       "2                 0.000424            3644.831866                 0.084243   \n",
       "3                 0.000294            2854.123654                 0.057706   \n",
       "4                 0.000318            3178.745434                 0.074161   \n",
       "\n",
       "   mean harm_-6dB  mean perc_-6dB  max harm_-6dB  max perc_-6dB  \\\n",
       "0   -2.914727e-07   -1.149451e-06       0.024765       0.104119   \n",
       "1    1.012487e-06    2.031724e-06       0.030395       0.076841   \n",
       "2   -7.028235e-08   -1.127828e-06       0.028087       0.073661   \n",
       "3    9.979737e-08    7.113005e-07       0.023710       0.068743   \n",
       "4   -1.004464e-06   -1.443682e-06       0.029470       0.086958   \n",
       "\n",
       "   min harm_-6dB  min perc_-6dB  normal(0)/abnormal(1)_-6dB  \n",
       "0      -0.025627      -0.085298                           0  \n",
       "1      -0.030091      -0.060521                           0  \n",
       "2      -0.029678      -0.070317                           0  \n",
       "3      -0.026346      -0.062864                           0  \n",
       "4      -0.028582      -0.074641                           0  \n",
       "\n",
       "[5 rows x 61 columns]"
      ]
     },
     "execution_count": 148,
     "metadata": {},
     "output_type": "execute_result"
    }
   ],
   "source": [
    "valve.head()"
   ]
  },
  {
   "cell_type": "code",
   "execution_count": 149,
   "id": "attractive-witness",
   "metadata": {},
   "outputs": [],
   "source": [
    "valve.rename(columns={'normal(0)/abnormal(1)_-6dB': 'normal(0)/abnormal(1)'}, inplace=True)"
   ]
  },
  {
   "cell_type": "code",
   "execution_count": 36,
   "id": "structural-swaziland",
   "metadata": {},
   "outputs": [
    {
     "data": {
      "text/plain": [
       "Index(['melspectrogram_6dB', 'melspectrogram_min_6dB',\n",
       "       'melspectrogram_max_6dB', 'melspectrogram_sum_6dB',\n",
       "       'melspectrogram_corr_6dB', 'melspectrogram_std_6dB', 'mfcc_6dB',\n",
       "       'rms_6dB', 'spectral_centroid_6dB', 'spectral_bandwidth_6dB',\n",
       "       'spectral_contrast_6dB', 'spectral_flatness _6dB',\n",
       "       'spectral_rolloff_6dB', 'zero_crossing_rate_6dB', 'mean harm_6dB',\n",
       "       'mean perc_6dB', 'max harm_6dB', 'max perc_6dB', 'min harm_6dB',\n",
       "       'min perc_6dB', 'melspectrogram_0dB', 'melspectrogram_min_0dB',\n",
       "       'melspectrogram_max_0dB', 'melspectrogram_sum_0dB',\n",
       "       'melspectrogram_corr_0dB', 'melspectrogram_std_0dB', 'mfcc_0dB',\n",
       "       'rms_0dB', 'spectral_centroid_0dB', 'spectral_bandwidth_0dB',\n",
       "       'spectral_contrast_0dB', 'spectral_flatness _0dB',\n",
       "       'spectral_rolloff_0dB', 'zero_crossing_rate_0dB', 'mean harm_0dB',\n",
       "       'mean perc_0dB', 'max harm_0dB', 'max perc_0dB', 'min harm_0dB',\n",
       "       'min perc_0dB', 'melspectrogram_-6dB', 'melspectrogram_min_-6dB',\n",
       "       'melspectrogram_max_-6dB', 'melspectrogram_sum_-6dB',\n",
       "       'melspectrogram_corr_-6dB', 'melspectrogram_std_-6dB', 'mfcc_-6dB',\n",
       "       'rms_-6dB', 'spectral_centroid_-6dB', 'spectral_bandwidth_-6dB',\n",
       "       'spectral_contrast_-6dB', 'spectral_flatness _-6dB',\n",
       "       'spectral_rolloff_-6dB', 'zero_crossing_rate_-6dB', 'mean harm_-6dB',\n",
       "       'mean perc_-6dB', 'max harm_-6dB', 'max perc_-6dB', 'min harm_-6dB',\n",
       "       'min perc_-6dB', 'normal(0)/abnormal(1)'],\n",
       "      dtype='object')"
      ]
     },
     "execution_count": 36,
     "metadata": {},
     "output_type": "execute_result"
    }
   ],
   "source": [
    "valve.columns"
   ]
  },
  {
   "cell_type": "code",
   "execution_count": 37,
   "id": "devoted-spyware",
   "metadata": {},
   "outputs": [],
   "source": [
    "y=valve['normal(0)/abnormal(1)'].values\n",
    "X=valve.drop(columns=['normal(0)/abnormal(1)'], axis=1)"
   ]
  },
  {
   "cell_type": "code",
   "execution_count": null,
   "id": "wooden-democrat",
   "metadata": {},
   "outputs": [],
   "source": []
  },
  {
   "cell_type": "code",
   "execution_count": null,
   "id": "beautiful-israeli",
   "metadata": {},
   "outputs": [],
   "source": []
  },
  {
   "cell_type": "code",
   "execution_count": null,
   "id": "committed-qualification",
   "metadata": {},
   "outputs": [],
   "source": []
  },
  {
   "cell_type": "code",
   "execution_count": null,
   "id": "massive-enhancement",
   "metadata": {},
   "outputs": [],
   "source": []
  },
  {
   "cell_type": "code",
   "execution_count": null,
   "id": "fitted-constant",
   "metadata": {},
   "outputs": [],
   "source": []
  },
  {
   "cell_type": "code",
   "execution_count": null,
   "id": "sunrise-association",
   "metadata": {},
   "outputs": [],
   "source": []
  },
  {
   "cell_type": "code",
   "execution_count": null,
   "id": "coral-kitty",
   "metadata": {},
   "outputs": [],
   "source": []
  },
  {
   "cell_type": "code",
   "execution_count": null,
   "id": "treated-reconstruction",
   "metadata": {},
   "outputs": [],
   "source": []
  },
  {
   "cell_type": "code",
   "execution_count": null,
   "id": "textile-worcester",
   "metadata": {},
   "outputs": [],
   "source": []
  },
  {
   "cell_type": "code",
   "execution_count": null,
   "id": "ignored-welsh",
   "metadata": {},
   "outputs": [],
   "source": []
  },
  {
   "cell_type": "code",
   "execution_count": null,
   "id": "permanent-baseline",
   "metadata": {},
   "outputs": [],
   "source": []
  },
  {
   "cell_type": "code",
   "execution_count": null,
   "id": "geological-front",
   "metadata": {},
   "outputs": [],
   "source": []
  },
  {
   "cell_type": "code",
   "execution_count": null,
   "id": "accompanied-mount",
   "metadata": {},
   "outputs": [],
   "source": []
  },
  {
   "cell_type": "code",
   "execution_count": null,
   "id": "strategic-comment",
   "metadata": {},
   "outputs": [],
   "source": []
  },
  {
   "cell_type": "code",
   "execution_count": null,
   "id": "royal-table",
   "metadata": {},
   "outputs": [],
   "source": []
  },
  {
   "cell_type": "code",
   "execution_count": null,
   "id": "mechanical-rings",
   "metadata": {},
   "outputs": [],
   "source": []
  },
  {
   "cell_type": "code",
   "execution_count": null,
   "id": "dress-library",
   "metadata": {},
   "outputs": [],
   "source": []
  },
  {
   "cell_type": "code",
   "execution_count": 38,
   "id": "therapeutic-setting",
   "metadata": {},
   "outputs": [],
   "source": [
    "kf = KFold(n_splits=5)"
   ]
  },
  {
   "cell_type": "code",
   "execution_count": 39,
   "id": "indian-finder",
   "metadata": {},
   "outputs": [
    {
     "data": {
      "text/plain": [
       "5"
      ]
     },
     "execution_count": 39,
     "metadata": {},
     "output_type": "execute_result"
    }
   ],
   "source": [
    "kf.get_n_splits(X)"
   ]
  },
  {
   "cell_type": "code",
   "execution_count": 40,
   "id": "beneficial-appendix",
   "metadata": {},
   "outputs": [
    {
     "name": "stdout",
     "output_type": "stream",
     "text": [
      "KFold(n_splits=5, random_state=None, shuffle=False)\n"
     ]
    }
   ],
   "source": [
    "print(kf)"
   ]
  },
  {
   "cell_type": "code",
   "execution_count": 41,
   "id": "surface-delhi",
   "metadata": {},
   "outputs": [
    {
     "name": "stdout",
     "output_type": "stream",
     "text": [
      "TRAIN: [ 834  835  836 ... 4167 4168 4169] TEST: [  0   1   2   3   4   5   6   7   8   9  10  11  12  13  14  15  16  17\n",
      "  18  19  20  21  22  23  24  25  26  27  28  29  30  31  32  33  34  35\n",
      "  36  37  38  39  40  41  42  43  44  45  46  47  48  49  50  51  52  53\n",
      "  54  55  56  57  58  59  60  61  62  63  64  65  66  67  68  69  70  71\n",
      "  72  73  74  75  76  77  78  79  80  81  82  83  84  85  86  87  88  89\n",
      "  90  91  92  93  94  95  96  97  98  99 100 101 102 103 104 105 106 107\n",
      " 108 109 110 111 112 113 114 115 116 117 118 119 120 121 122 123 124 125\n",
      " 126 127 128 129 130 131 132 133 134 135 136 137 138 139 140 141 142 143\n",
      " 144 145 146 147 148 149 150 151 152 153 154 155 156 157 158 159 160 161\n",
      " 162 163 164 165 166 167 168 169 170 171 172 173 174 175 176 177 178 179\n",
      " 180 181 182 183 184 185 186 187 188 189 190 191 192 193 194 195 196 197\n",
      " 198 199 200 201 202 203 204 205 206 207 208 209 210 211 212 213 214 215\n",
      " 216 217 218 219 220 221 222 223 224 225 226 227 228 229 230 231 232 233\n",
      " 234 235 236 237 238 239 240 241 242 243 244 245 246 247 248 249 250 251\n",
      " 252 253 254 255 256 257 258 259 260 261 262 263 264 265 266 267 268 269\n",
      " 270 271 272 273 274 275 276 277 278 279 280 281 282 283 284 285 286 287\n",
      " 288 289 290 291 292 293 294 295 296 297 298 299 300 301 302 303 304 305\n",
      " 306 307 308 309 310 311 312 313 314 315 316 317 318 319 320 321 322 323\n",
      " 324 325 326 327 328 329 330 331 332 333 334 335 336 337 338 339 340 341\n",
      " 342 343 344 345 346 347 348 349 350 351 352 353 354 355 356 357 358 359\n",
      " 360 361 362 363 364 365 366 367 368 369 370 371 372 373 374 375 376 377\n",
      " 378 379 380 381 382 383 384 385 386 387 388 389 390 391 392 393 394 395\n",
      " 396 397 398 399 400 401 402 403 404 405 406 407 408 409 410 411 412 413\n",
      " 414 415 416 417 418 419 420 421 422 423 424 425 426 427 428 429 430 431\n",
      " 432 433 434 435 436 437 438 439 440 441 442 443 444 445 446 447 448 449\n",
      " 450 451 452 453 454 455 456 457 458 459 460 461 462 463 464 465 466 467\n",
      " 468 469 470 471 472 473 474 475 476 477 478 479 480 481 482 483 484 485\n",
      " 486 487 488 489 490 491 492 493 494 495 496 497 498 499 500 501 502 503\n",
      " 504 505 506 507 508 509 510 511 512 513 514 515 516 517 518 519 520 521\n",
      " 522 523 524 525 526 527 528 529 530 531 532 533 534 535 536 537 538 539\n",
      " 540 541 542 543 544 545 546 547 548 549 550 551 552 553 554 555 556 557\n",
      " 558 559 560 561 562 563 564 565 566 567 568 569 570 571 572 573 574 575\n",
      " 576 577 578 579 580 581 582 583 584 585 586 587 588 589 590 591 592 593\n",
      " 594 595 596 597 598 599 600 601 602 603 604 605 606 607 608 609 610 611\n",
      " 612 613 614 615 616 617 618 619 620 621 622 623 624 625 626 627 628 629\n",
      " 630 631 632 633 634 635 636 637 638 639 640 641 642 643 644 645 646 647\n",
      " 648 649 650 651 652 653 654 655 656 657 658 659 660 661 662 663 664 665\n",
      " 666 667 668 669 670 671 672 673 674 675 676 677 678 679 680 681 682 683\n",
      " 684 685 686 687 688 689 690 691 692 693 694 695 696 697 698 699 700 701\n",
      " 702 703 704 705 706 707 708 709 710 711 712 713 714 715 716 717 718 719\n",
      " 720 721 722 723 724 725 726 727 728 729 730 731 732 733 734 735 736 737\n",
      " 738 739 740 741 742 743 744 745 746 747 748 749 750 751 752 753 754 755\n",
      " 756 757 758 759 760 761 762 763 764 765 766 767 768 769 770 771 772 773\n",
      " 774 775 776 777 778 779 780 781 782 783 784 785 786 787 788 789 790 791\n",
      " 792 793 794 795 796 797 798 799 800 801 802 803 804 805 806 807 808 809\n",
      " 810 811 812 813 814 815 816 817 818 819 820 821 822 823 824 825 826 827\n",
      " 828 829 830 831 832 833]\n"
     ]
    },
    {
     "ename": "KeyError",
     "evalue": "\"None of [Int64Index([ 834,  835,  836,  837,  838,  839,  840,  841,  842,  843,\\n            ...\\n            4160, 4161, 4162, 4163, 4164, 4165, 4166, 4167, 4168, 4169],\\n           dtype='int64', length=3336)] are in the [columns]\"",
     "output_type": "error",
     "traceback": [
      "\u001b[0;31m---------------------------------------------------------------------------\u001b[0m",
      "\u001b[0;31mKeyError\u001b[0m                                  Traceback (most recent call last)",
      "\u001b[0;32m<ipython-input-41-afc3b2328ba0>\u001b[0m in \u001b[0;36m<module>\u001b[0;34m\u001b[0m\n\u001b[1;32m      1\u001b[0m \u001b[0;32mfor\u001b[0m \u001b[0mtrain_index\u001b[0m\u001b[0;34m,\u001b[0m \u001b[0mtest_index\u001b[0m \u001b[0;32min\u001b[0m \u001b[0mkf\u001b[0m\u001b[0;34m.\u001b[0m\u001b[0msplit\u001b[0m\u001b[0;34m(\u001b[0m\u001b[0mX\u001b[0m\u001b[0;34m)\u001b[0m\u001b[0;34m:\u001b[0m\u001b[0;34m\u001b[0m\u001b[0;34m\u001b[0m\u001b[0m\n\u001b[1;32m      2\u001b[0m     \u001b[0mprint\u001b[0m\u001b[0;34m(\u001b[0m\u001b[0;34m\"TRAIN:\"\u001b[0m\u001b[0;34m,\u001b[0m \u001b[0mtrain_index\u001b[0m\u001b[0;34m,\u001b[0m \u001b[0;34m\"TEST:\"\u001b[0m\u001b[0;34m,\u001b[0m \u001b[0mtest_index\u001b[0m\u001b[0;34m)\u001b[0m\u001b[0;34m\u001b[0m\u001b[0;34m\u001b[0m\u001b[0m\n\u001b[0;32m----> 3\u001b[0;31m     \u001b[0mX_train\u001b[0m\u001b[0;34m,\u001b[0m \u001b[0mX_test\u001b[0m \u001b[0;34m=\u001b[0m \u001b[0mX\u001b[0m\u001b[0;34m[\u001b[0m\u001b[0mtrain_index\u001b[0m\u001b[0;34m]\u001b[0m\u001b[0;34m,\u001b[0m \u001b[0mX\u001b[0m\u001b[0;34m[\u001b[0m\u001b[0mtest_index\u001b[0m\u001b[0;34m]\u001b[0m\u001b[0;34m\u001b[0m\u001b[0;34m\u001b[0m\u001b[0m\n\u001b[0m\u001b[1;32m      4\u001b[0m     \u001b[0my_train\u001b[0m\u001b[0;34m,\u001b[0m \u001b[0my_test\u001b[0m \u001b[0;34m=\u001b[0m \u001b[0my\u001b[0m\u001b[0;34m[\u001b[0m\u001b[0mtrain_index\u001b[0m\u001b[0;34m]\u001b[0m\u001b[0;34m,\u001b[0m \u001b[0my\u001b[0m\u001b[0;34m[\u001b[0m\u001b[0mtest_index\u001b[0m\u001b[0;34m]\u001b[0m\u001b[0;34m\u001b[0m\u001b[0;34m\u001b[0m\u001b[0m\n",
      "\u001b[0;32m~/anaconda3/lib/python3.7/site-packages/pandas/core/frame.py\u001b[0m in \u001b[0;36m__getitem__\u001b[0;34m(self, key)\u001b[0m\n\u001b[1;32m   3028\u001b[0m             \u001b[0;32mif\u001b[0m \u001b[0mis_iterator\u001b[0m\u001b[0;34m(\u001b[0m\u001b[0mkey\u001b[0m\u001b[0;34m)\u001b[0m\u001b[0;34m:\u001b[0m\u001b[0;34m\u001b[0m\u001b[0;34m\u001b[0m\u001b[0m\n\u001b[1;32m   3029\u001b[0m                 \u001b[0mkey\u001b[0m \u001b[0;34m=\u001b[0m \u001b[0mlist\u001b[0m\u001b[0;34m(\u001b[0m\u001b[0mkey\u001b[0m\u001b[0;34m)\u001b[0m\u001b[0;34m\u001b[0m\u001b[0;34m\u001b[0m\u001b[0m\n\u001b[0;32m-> 3030\u001b[0;31m             \u001b[0mindexer\u001b[0m \u001b[0;34m=\u001b[0m \u001b[0mself\u001b[0m\u001b[0;34m.\u001b[0m\u001b[0mloc\u001b[0m\u001b[0;34m.\u001b[0m\u001b[0m_get_listlike_indexer\u001b[0m\u001b[0;34m(\u001b[0m\u001b[0mkey\u001b[0m\u001b[0;34m,\u001b[0m \u001b[0maxis\u001b[0m\u001b[0;34m=\u001b[0m\u001b[0;36m1\u001b[0m\u001b[0;34m,\u001b[0m \u001b[0mraise_missing\u001b[0m\u001b[0;34m=\u001b[0m\u001b[0;32mTrue\u001b[0m\u001b[0;34m)\u001b[0m\u001b[0;34m[\u001b[0m\u001b[0;36m1\u001b[0m\u001b[0;34m]\u001b[0m\u001b[0;34m\u001b[0m\u001b[0;34m\u001b[0m\u001b[0m\n\u001b[0m\u001b[1;32m   3031\u001b[0m \u001b[0;34m\u001b[0m\u001b[0m\n\u001b[1;32m   3032\u001b[0m         \u001b[0;31m# take() does not accept boolean indexers\u001b[0m\u001b[0;34m\u001b[0m\u001b[0;34m\u001b[0m\u001b[0;34m\u001b[0m\u001b[0m\n",
      "\u001b[0;32m~/anaconda3/lib/python3.7/site-packages/pandas/core/indexing.py\u001b[0m in \u001b[0;36m_get_listlike_indexer\u001b[0;34m(self, key, axis, raise_missing)\u001b[0m\n\u001b[1;32m   1264\u001b[0m             \u001b[0mkeyarr\u001b[0m\u001b[0;34m,\u001b[0m \u001b[0mindexer\u001b[0m\u001b[0;34m,\u001b[0m \u001b[0mnew_indexer\u001b[0m \u001b[0;34m=\u001b[0m \u001b[0max\u001b[0m\u001b[0;34m.\u001b[0m\u001b[0m_reindex_non_unique\u001b[0m\u001b[0;34m(\u001b[0m\u001b[0mkeyarr\u001b[0m\u001b[0;34m)\u001b[0m\u001b[0;34m\u001b[0m\u001b[0;34m\u001b[0m\u001b[0m\n\u001b[1;32m   1265\u001b[0m \u001b[0;34m\u001b[0m\u001b[0m\n\u001b[0;32m-> 1266\u001b[0;31m         \u001b[0mself\u001b[0m\u001b[0;34m.\u001b[0m\u001b[0m_validate_read_indexer\u001b[0m\u001b[0;34m(\u001b[0m\u001b[0mkeyarr\u001b[0m\u001b[0;34m,\u001b[0m \u001b[0mindexer\u001b[0m\u001b[0;34m,\u001b[0m \u001b[0maxis\u001b[0m\u001b[0;34m,\u001b[0m \u001b[0mraise_missing\u001b[0m\u001b[0;34m=\u001b[0m\u001b[0mraise_missing\u001b[0m\u001b[0;34m)\u001b[0m\u001b[0;34m\u001b[0m\u001b[0;34m\u001b[0m\u001b[0m\n\u001b[0m\u001b[1;32m   1267\u001b[0m         \u001b[0;32mreturn\u001b[0m \u001b[0mkeyarr\u001b[0m\u001b[0;34m,\u001b[0m \u001b[0mindexer\u001b[0m\u001b[0;34m\u001b[0m\u001b[0;34m\u001b[0m\u001b[0m\n\u001b[1;32m   1268\u001b[0m \u001b[0;34m\u001b[0m\u001b[0m\n",
      "\u001b[0;32m~/anaconda3/lib/python3.7/site-packages/pandas/core/indexing.py\u001b[0m in \u001b[0;36m_validate_read_indexer\u001b[0;34m(self, key, indexer, axis, raise_missing)\u001b[0m\n\u001b[1;32m   1306\u001b[0m             \u001b[0;32mif\u001b[0m \u001b[0mmissing\u001b[0m \u001b[0;34m==\u001b[0m \u001b[0mlen\u001b[0m\u001b[0;34m(\u001b[0m\u001b[0mindexer\u001b[0m\u001b[0;34m)\u001b[0m\u001b[0;34m:\u001b[0m\u001b[0;34m\u001b[0m\u001b[0;34m\u001b[0m\u001b[0m\n\u001b[1;32m   1307\u001b[0m                 \u001b[0maxis_name\u001b[0m \u001b[0;34m=\u001b[0m \u001b[0mself\u001b[0m\u001b[0;34m.\u001b[0m\u001b[0mobj\u001b[0m\u001b[0;34m.\u001b[0m\u001b[0m_get_axis_name\u001b[0m\u001b[0;34m(\u001b[0m\u001b[0maxis\u001b[0m\u001b[0;34m)\u001b[0m\u001b[0;34m\u001b[0m\u001b[0;34m\u001b[0m\u001b[0m\n\u001b[0;32m-> 1308\u001b[0;31m                 \u001b[0;32mraise\u001b[0m \u001b[0mKeyError\u001b[0m\u001b[0;34m(\u001b[0m\u001b[0;34mf\"None of [{key}] are in the [{axis_name}]\"\u001b[0m\u001b[0;34m)\u001b[0m\u001b[0;34m\u001b[0m\u001b[0;34m\u001b[0m\u001b[0m\n\u001b[0m\u001b[1;32m   1309\u001b[0m \u001b[0;34m\u001b[0m\u001b[0m\n\u001b[1;32m   1310\u001b[0m             \u001b[0max\u001b[0m \u001b[0;34m=\u001b[0m \u001b[0mself\u001b[0m\u001b[0;34m.\u001b[0m\u001b[0mobj\u001b[0m\u001b[0;34m.\u001b[0m\u001b[0m_get_axis\u001b[0m\u001b[0;34m(\u001b[0m\u001b[0maxis\u001b[0m\u001b[0;34m)\u001b[0m\u001b[0;34m\u001b[0m\u001b[0;34m\u001b[0m\u001b[0m\n",
      "\u001b[0;31mKeyError\u001b[0m: \"None of [Int64Index([ 834,  835,  836,  837,  838,  839,  840,  841,  842,  843,\\n            ...\\n            4160, 4161, 4162, 4163, 4164, 4165, 4166, 4167, 4168, 4169],\\n           dtype='int64', length=3336)] are in the [columns]\""
     ]
    }
   ],
   "source": [
    "for train_index, test_index in kf.split(X):\n",
    "    print(\"TRAIN:\", train_index, \"TEST:\", test_index)\n",
    "    X_train, X_test = X[train_index], X[test_index]\n",
    "    y_train, y_test = y[train_index], y[test_index]"
   ]
  },
  {
   "cell_type": "code",
   "execution_count": null,
   "id": "buried-tuesday",
   "metadata": {},
   "outputs": [],
   "source": []
  },
  {
   "cell_type": "code",
   "execution_count": null,
   "id": "durable-industry",
   "metadata": {},
   "outputs": [],
   "source": []
  },
  {
   "cell_type": "code",
   "execution_count": null,
   "id": "sudden-father",
   "metadata": {},
   "outputs": [],
   "source": []
  },
  {
   "cell_type": "code",
   "execution_count": 29,
   "id": "beginning-sport",
   "metadata": {
    "scrolled": true
   },
   "outputs": [
    {
     "name": "stdout",
     "output_type": "stream",
     "text": [
      "Fold:1, Train set: 3336, Test set:834\n",
      "Fold:2, Train set: 3336, Test set:834\n",
      "Fold:3, Train set: 3336, Test set:834\n",
      "Fold:4, Train set: 3336, Test set:834\n",
      "Fold:5, Train set: 3336, Test set:834\n"
     ]
    }
   ],
   "source": [
    "# Lets split the data into 5 folds. \n",
    "# We will use this 'kf'(StratiFiedKFold splitting stratergy) object as input to cross_val_score() method\n",
    "# The folds are made by preserving the percentage of samples for each class.\n",
    "kf = StratifiedKFold(n_splits=5, shuffle=True, random_state=42)\n",
    "\n",
    "cnt = 1\n",
    "# split()  method generate indices to split data into training and test set.\n",
    "for train_index, test_index in kf.split(X, y):\n",
    "    print(f'Fold:{cnt}, Train set: {len(train_index)}, Test set:{len(test_index)}')\n",
    "    cnt+=1\n",
    "    \n",
    "# Note that: \n",
    "# cross_val_score() parameter 'cv' will by default use StratifiedKFold spliting startergy if we just specify value of number of folds. \n",
    "# So you can bypass above step and just specify cv= 5 in cross_val_score() function"
   ]
  },
  {
   "cell_type": "code",
   "execution_count": 30,
   "id": "operational-darwin",
   "metadata": {},
   "outputs": [
    {
     "name": "stdout",
     "output_type": "stream",
     "text": [
      "Scores for each fold are: [0.96642686 0.95323741 0.96043165 0.94964029 0.94964029]\n",
      "Average score: 0.96\n"
     ]
    }
   ],
   "source": [
    "score = cross_val_score(ensemble.RandomForestClassifier(random_state= 42), X, y, cv= kf, scoring=\"accuracy\")\n",
    "print(f'Scores for each fold are: {score}')\n",
    "print(f'Average score: {\"{:.2f}\".format(score.mean())}')"
   ]
  },
  {
   "cell_type": "code",
   "execution_count": null,
   "id": "antique-society",
   "metadata": {},
   "outputs": [],
   "source": []
  }
 ],
 "metadata": {
  "kernelspec": {
   "display_name": "Python 3",
   "language": "python",
   "name": "python3"
  },
  "language_info": {
   "codemirror_mode": {
    "name": "ipython",
    "version": 3
   },
   "file_extension": ".py",
   "mimetype": "text/x-python",
   "name": "python",
   "nbconvert_exporter": "python",
   "pygments_lexer": "ipython3",
   "version": "3.7.7"
  }
 },
 "nbformat": 4,
 "nbformat_minor": 5
}
