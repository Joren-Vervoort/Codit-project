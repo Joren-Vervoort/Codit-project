{
 "cells": [
  {
   "cell_type": "code",
   "execution_count": 58,
   "metadata": {},
   "outputs": [],
   "source": [
    "import librosa\n",
    "from librosa import feature\n",
    "import numpy as np\n",
    "import pandas as pd\n",
    "import matplotlib.pyplot as plt\n",
    "from sklearn import tree\n",
    "#import graphviz \n",
    "from sklearn.ensemble import RandomForestClassifier\n",
    "from sklearn.model_selection import train_test_split\n",
    "import os\n",
    "import sys\n",
    "import time\n",
    "from functools import reduce\n",
    "from sklearn.model_selection import KFold, StratifiedKFold, cross_val_score\n",
    "from sklearn import linear_model, tree, ensemble"
   ]
  },
  {
   "cell_type": "code",
   "execution_count": null,
   "metadata": {},
   "outputs": [],
   "source": [
    "df_6dB=pd.read_csv(f'C:/Users/regis/OneDrive/Bureaublad/Codit-project-main/Librosa_features_valve_6dB.csv')"
   ]
  },
  {
   "cell_type": "markdown",
   "metadata": {},
   "source": [
    "## Valve merging of 6,0,-6"
   ]
  },
  {
   "cell_type": "code",
   "execution_count": 33,
   "metadata": {},
   "outputs": [],
   "source": [
    "def merge_pd(machine):\n",
    "    df_6dB=pd.read_csv(f'C:/Users/regis/OneDrive/Bureaublad/Codit-project-main/Librosa_features_{machine}_6dB.csv')\n",
    "    df_0dB=pd.read_csv(f'C:/Users/regis/OneDrive/Bureaublad/Codit-project-main/Librosa_features_{machine}_0dB.csv')\n",
    "    df_min6dB=pd.read_csv(f'C:/Users/regis/OneDrive/Bureaublad/Codit-project-main/Librosa_features_{machine}_-6dB.csv')\n",
    "    df_6dB.drop(columns = ['Unnamed: 0'], axis=1, inplace=True)\n",
    "    df_0dB.drop(columns = ['Unnamed: 0'], axis=1, inplace=True)\n",
    "    df_min6dB.drop(columns = ['Unnamed: 0'], axis=1, inplace=True)\n",
    "\n",
    "    df_6dB.columns = [str(col) + '_6dB' for col in df_6dB.columns]\n",
    "    df_0dB.columns = [str(col) + '_0dB' for col in df_0dB.columns]\n",
    "    df_min6dB.columns = [str(col) + '_-6dB' for col in df_min6dB.columns]\n",
    "    data_frames = [df_6dB, df_0dB, df_min6dB]\n",
    "    df_merged = reduce(lambda  left,right: pd.merge(left,right,left_index=True, right_index=True,how='outer'), data_frames)\n",
    "    return df_merged"
   ]
  },
  {
   "cell_type": "code",
   "execution_count": 34,
   "metadata": {},
   "outputs": [],
   "source": [
    "valve=merge_pd('valve')"
   ]
  },
  {
   "cell_type": "code",
   "execution_count": 35,
   "metadata": {},
   "outputs": [
    {
     "data": {
      "text/plain": [
       "Index(['melspectrogram_6dB', 'melspectrogram_min_6dB',\n",
       "       'melspectrogram_max_6dB', 'melspectrogram_sum_6dB',\n",
       "       'melspectrogram_corr_6dB', 'melspectrogram_std_6dB', 'mfcc_6dB',\n",
       "       'rms_6dB', 'spectral_centroid_6dB', 'spectral_bandwidth_6dB',\n",
       "       'spectral_contrast_6dB', 'spectral_flatness _6dB',\n",
       "       'spectral_rolloff_6dB', 'zero_crossing_rate_6dB', 'mean harm_6dB',\n",
       "       'mean perc_6dB', 'max harm_6dB', 'max perc_6dB', 'min harm_6dB',\n",
       "       'min perc_6dB', 'normal(0)/abnormal(1)_6dB', 'melspectrogram_0dB',\n",
       "       'melspectrogram_min_0dB', 'melspectrogram_max_0dB',\n",
       "       'melspectrogram_sum_0dB', 'melspectrogram_corr_0dB',\n",
       "       'melspectrogram_std_0dB', 'mfcc_0dB', 'rms_0dB',\n",
       "       'spectral_centroid_0dB', 'spectral_bandwidth_0dB',\n",
       "       'spectral_contrast_0dB', 'spectral_flatness _0dB',\n",
       "       'spectral_rolloff_0dB', 'zero_crossing_rate_0dB', 'mean harm_0dB',\n",
       "       'mean perc_0dB', 'max harm_0dB', 'max perc_0dB', 'min harm_0dB',\n",
       "       'min perc_0dB', 'normal(0)/abnormal(1)_0dB', 'melspectrogram_-6dB',\n",
       "       'melspectrogram_min_-6dB', 'melspectrogram_max_-6dB',\n",
       "       'melspectrogram_sum_-6dB', 'melspectrogram_corr_-6dB',\n",
       "       'melspectrogram_std_-6dB', 'mfcc_-6dB', 'rms_-6dB',\n",
       "       'spectral_centroid_-6dB', 'spectral_bandwidth_-6dB',\n",
       "       'spectral_contrast_-6dB', 'spectral_flatness _-6dB',\n",
       "       'spectral_rolloff_-6dB', 'zero_crossing_rate_-6dB', 'mean harm_-6dB',\n",
       "       'mean perc_-6dB', 'max harm_-6dB', 'max perc_-6dB', 'min harm_-6dB',\n",
       "       'min perc_-6dB', 'normal(0)/abnormal(1)_-6dB'],\n",
       "      dtype='object')"
      ]
     },
     "execution_count": 35,
     "metadata": {},
     "output_type": "execute_result"
    }
   ],
   "source": [
    "valve.columns"
   ]
  },
  {
   "cell_type": "code",
   "execution_count": 36,
   "metadata": {},
   "outputs": [],
   "source": [
    "valve.drop(columns=['normal(0)/abnormal(1)_6dB','normal(0)/abnormal(1)_0dB'],axis=1,inplace=True)"
   ]
  },
  {
   "cell_type": "code",
   "execution_count": 37,
   "metadata": {},
   "outputs": [
    {
     "data": {
      "text/html": [
       "<div>\n",
       "<style scoped>\n",
       "    .dataframe tbody tr th:only-of-type {\n",
       "        vertical-align: middle;\n",
       "    }\n",
       "\n",
       "    .dataframe tbody tr th {\n",
       "        vertical-align: top;\n",
       "    }\n",
       "\n",
       "    .dataframe thead th {\n",
       "        text-align: right;\n",
       "    }\n",
       "</style>\n",
       "<table border=\"1\" class=\"dataframe\">\n",
       "  <thead>\n",
       "    <tr style=\"text-align: right;\">\n",
       "      <th></th>\n",
       "      <th>melspectrogram_6dB</th>\n",
       "      <th>melspectrogram_min_6dB</th>\n",
       "      <th>melspectrogram_max_6dB</th>\n",
       "      <th>melspectrogram_sum_6dB</th>\n",
       "      <th>melspectrogram_corr_6dB</th>\n",
       "      <th>melspectrogram_std_6dB</th>\n",
       "      <th>mfcc_6dB</th>\n",
       "      <th>rms_6dB</th>\n",
       "      <th>spectral_centroid_6dB</th>\n",
       "      <th>spectral_bandwidth_6dB</th>\n",
       "      <th>...</th>\n",
       "      <th>spectral_flatness _-6dB</th>\n",
       "      <th>spectral_rolloff_-6dB</th>\n",
       "      <th>zero_crossing_rate_-6dB</th>\n",
       "      <th>mean harm_-6dB</th>\n",
       "      <th>mean perc_-6dB</th>\n",
       "      <th>max harm_-6dB</th>\n",
       "      <th>max perc_-6dB</th>\n",
       "      <th>min harm_-6dB</th>\n",
       "      <th>min perc_-6dB</th>\n",
       "      <th>normal(0)/abnormal(1)_-6dB</th>\n",
       "    </tr>\n",
       "  </thead>\n",
       "  <tbody>\n",
       "    <tr>\n",
       "      <td>0</td>\n",
       "      <td>0.006300</td>\n",
       "      <td>6.218734e-10</td>\n",
       "      <td>0.090277</td>\n",
       "      <td>347.580261</td>\n",
       "      <td>0.523183</td>\n",
       "      <td>0.010437</td>\n",
       "      <td>-15.342528</td>\n",
       "      <td>0.002967</td>\n",
       "      <td>1399.372425</td>\n",
       "      <td>1635.526256</td>\n",
       "      <td>...</td>\n",
       "      <td>0.000629</td>\n",
       "      <td>3566.218188</td>\n",
       "      <td>0.098873</td>\n",
       "      <td>-2.914727e-07</td>\n",
       "      <td>-1.149451e-06</td>\n",
       "      <td>0.024765</td>\n",
       "      <td>0.104119</td>\n",
       "      <td>-0.025627</td>\n",
       "      <td>-0.085298</td>\n",
       "      <td>0</td>\n",
       "    </tr>\n",
       "    <tr>\n",
       "      <td>1</td>\n",
       "      <td>0.007236</td>\n",
       "      <td>7.803309e-10</td>\n",
       "      <td>0.087623</td>\n",
       "      <td>399.178070</td>\n",
       "      <td>0.461858</td>\n",
       "      <td>0.009354</td>\n",
       "      <td>-14.877153</td>\n",
       "      <td>0.002920</td>\n",
       "      <td>1765.622412</td>\n",
       "      <td>1767.165689</td>\n",
       "      <td>...</td>\n",
       "      <td>0.000419</td>\n",
       "      <td>2937.083941</td>\n",
       "      <td>0.053674</td>\n",
       "      <td>1.012487e-06</td>\n",
       "      <td>2.031724e-06</td>\n",
       "      <td>0.030395</td>\n",
       "      <td>0.076841</td>\n",
       "      <td>-0.030091</td>\n",
       "      <td>-0.060521</td>\n",
       "      <td>0</td>\n",
       "    </tr>\n",
       "    <tr>\n",
       "      <td>2</td>\n",
       "      <td>0.006186</td>\n",
       "      <td>6.056689e-10</td>\n",
       "      <td>0.092516</td>\n",
       "      <td>341.284851</td>\n",
       "      <td>0.494020</td>\n",
       "      <td>0.008715</td>\n",
       "      <td>-16.809891</td>\n",
       "      <td>0.002680</td>\n",
       "      <td>1716.821280</td>\n",
       "      <td>1784.159467</td>\n",
       "      <td>...</td>\n",
       "      <td>0.000424</td>\n",
       "      <td>3644.831866</td>\n",
       "      <td>0.084243</td>\n",
       "      <td>-7.028235e-08</td>\n",
       "      <td>-1.127828e-06</td>\n",
       "      <td>0.028087</td>\n",
       "      <td>0.073661</td>\n",
       "      <td>-0.029678</td>\n",
       "      <td>-0.070317</td>\n",
       "      <td>0</td>\n",
       "    </tr>\n",
       "    <tr>\n",
       "      <td>3</td>\n",
       "      <td>0.006994</td>\n",
       "      <td>6.636679e-10</td>\n",
       "      <td>0.097133</td>\n",
       "      <td>385.858826</td>\n",
       "      <td>0.489502</td>\n",
       "      <td>0.009895</td>\n",
       "      <td>-15.353941</td>\n",
       "      <td>0.002953</td>\n",
       "      <td>1466.548926</td>\n",
       "      <td>1585.731245</td>\n",
       "      <td>...</td>\n",
       "      <td>0.000294</td>\n",
       "      <td>2854.123654</td>\n",
       "      <td>0.057706</td>\n",
       "      <td>9.979737e-08</td>\n",
       "      <td>7.113005e-07</td>\n",
       "      <td>0.023710</td>\n",
       "      <td>0.068743</td>\n",
       "      <td>-0.026346</td>\n",
       "      <td>-0.062864</td>\n",
       "      <td>0</td>\n",
       "    </tr>\n",
       "    <tr>\n",
       "      <td>4</td>\n",
       "      <td>0.005965</td>\n",
       "      <td>5.532336e-10</td>\n",
       "      <td>0.119931</td>\n",
       "      <td>329.072296</td>\n",
       "      <td>0.520290</td>\n",
       "      <td>0.010416</td>\n",
       "      <td>-15.100811</td>\n",
       "      <td>0.002925</td>\n",
       "      <td>1267.393978</td>\n",
       "      <td>1510.835471</td>\n",
       "      <td>...</td>\n",
       "      <td>0.000318</td>\n",
       "      <td>3178.745434</td>\n",
       "      <td>0.074161</td>\n",
       "      <td>-1.004464e-06</td>\n",
       "      <td>-1.443682e-06</td>\n",
       "      <td>0.029470</td>\n",
       "      <td>0.086958</td>\n",
       "      <td>-0.028582</td>\n",
       "      <td>-0.074641</td>\n",
       "      <td>0</td>\n",
       "    </tr>\n",
       "  </tbody>\n",
       "</table>\n",
       "<p>5 rows × 61 columns</p>\n",
       "</div>"
      ],
      "text/plain": [
       "   melspectrogram_6dB  melspectrogram_min_6dB  melspectrogram_max_6dB  \\\n",
       "0            0.006300            6.218734e-10                0.090277   \n",
       "1            0.007236            7.803309e-10                0.087623   \n",
       "2            0.006186            6.056689e-10                0.092516   \n",
       "3            0.006994            6.636679e-10                0.097133   \n",
       "4            0.005965            5.532336e-10                0.119931   \n",
       "\n",
       "   melspectrogram_sum_6dB  melspectrogram_corr_6dB  melspectrogram_std_6dB  \\\n",
       "0              347.580261                 0.523183                0.010437   \n",
       "1              399.178070                 0.461858                0.009354   \n",
       "2              341.284851                 0.494020                0.008715   \n",
       "3              385.858826                 0.489502                0.009895   \n",
       "4              329.072296                 0.520290                0.010416   \n",
       "\n",
       "    mfcc_6dB   rms_6dB  spectral_centroid_6dB  spectral_bandwidth_6dB  ...  \\\n",
       "0 -15.342528  0.002967            1399.372425             1635.526256  ...   \n",
       "1 -14.877153  0.002920            1765.622412             1767.165689  ...   \n",
       "2 -16.809891  0.002680            1716.821280             1784.159467  ...   \n",
       "3 -15.353941  0.002953            1466.548926             1585.731245  ...   \n",
       "4 -15.100811  0.002925            1267.393978             1510.835471  ...   \n",
       "\n",
       "   spectral_flatness _-6dB  spectral_rolloff_-6dB  zero_crossing_rate_-6dB  \\\n",
       "0                 0.000629            3566.218188                 0.098873   \n",
       "1                 0.000419            2937.083941                 0.053674   \n",
       "2                 0.000424            3644.831866                 0.084243   \n",
       "3                 0.000294            2854.123654                 0.057706   \n",
       "4                 0.000318            3178.745434                 0.074161   \n",
       "\n",
       "   mean harm_-6dB  mean perc_-6dB  max harm_-6dB  max perc_-6dB  \\\n",
       "0   -2.914727e-07   -1.149451e-06       0.024765       0.104119   \n",
       "1    1.012487e-06    2.031724e-06       0.030395       0.076841   \n",
       "2   -7.028235e-08   -1.127828e-06       0.028087       0.073661   \n",
       "3    9.979737e-08    7.113005e-07       0.023710       0.068743   \n",
       "4   -1.004464e-06   -1.443682e-06       0.029470       0.086958   \n",
       "\n",
       "   min harm_-6dB  min perc_-6dB  normal(0)/abnormal(1)_-6dB  \n",
       "0      -0.025627      -0.085298                           0  \n",
       "1      -0.030091      -0.060521                           0  \n",
       "2      -0.029678      -0.070317                           0  \n",
       "3      -0.026346      -0.062864                           0  \n",
       "4      -0.028582      -0.074641                           0  \n",
       "\n",
       "[5 rows x 61 columns]"
      ]
     },
     "execution_count": 37,
     "metadata": {},
     "output_type": "execute_result"
    }
   ],
   "source": [
    "valve.head()"
   ]
  },
  {
   "cell_type": "code",
   "execution_count": 39,
   "metadata": {},
   "outputs": [],
   "source": [
    "valve.rename(columns={'normal(0)/abnormal(1)_-6dB': 'normal(0)/abnormal(1)'}, inplace=True)"
   ]
  },
  {
   "cell_type": "code",
   "execution_count": 40,
   "metadata": {},
   "outputs": [
    {
     "data": {
      "text/plain": [
       "Index(['melspectrogram_6dB', 'melspectrogram_min_6dB',\n",
       "       'melspectrogram_max_6dB', 'melspectrogram_sum_6dB',\n",
       "       'melspectrogram_corr_6dB', 'melspectrogram_std_6dB', 'mfcc_6dB',\n",
       "       'rms_6dB', 'spectral_centroid_6dB', 'spectral_bandwidth_6dB',\n",
       "       'spectral_contrast_6dB', 'spectral_flatness _6dB',\n",
       "       'spectral_rolloff_6dB', 'zero_crossing_rate_6dB', 'mean harm_6dB',\n",
       "       'mean perc_6dB', 'max harm_6dB', 'max perc_6dB', 'min harm_6dB',\n",
       "       'min perc_6dB', 'melspectrogram_0dB', 'melspectrogram_min_0dB',\n",
       "       'melspectrogram_max_0dB', 'melspectrogram_sum_0dB',\n",
       "       'melspectrogram_corr_0dB', 'melspectrogram_std_0dB', 'mfcc_0dB',\n",
       "       'rms_0dB', 'spectral_centroid_0dB', 'spectral_bandwidth_0dB',\n",
       "       'spectral_contrast_0dB', 'spectral_flatness _0dB',\n",
       "       'spectral_rolloff_0dB', 'zero_crossing_rate_0dB', 'mean harm_0dB',\n",
       "       'mean perc_0dB', 'max harm_0dB', 'max perc_0dB', 'min harm_0dB',\n",
       "       'min perc_0dB', 'melspectrogram_-6dB', 'melspectrogram_min_-6dB',\n",
       "       'melspectrogram_max_-6dB', 'melspectrogram_sum_-6dB',\n",
       "       'melspectrogram_corr_-6dB', 'melspectrogram_std_-6dB', 'mfcc_-6dB',\n",
       "       'rms_-6dB', 'spectral_centroid_-6dB', 'spectral_bandwidth_-6dB',\n",
       "       'spectral_contrast_-6dB', 'spectral_flatness _-6dB',\n",
       "       'spectral_rolloff_-6dB', 'zero_crossing_rate_-6dB', 'mean harm_-6dB',\n",
       "       'mean perc_-6dB', 'max harm_-6dB', 'max perc_-6dB', 'min harm_-6dB',\n",
       "       'min perc_-6dB', 'normal(0)/abnormal(1)'],\n",
       "      dtype='object')"
      ]
     },
     "execution_count": 40,
     "metadata": {},
     "output_type": "execute_result"
    }
   ],
   "source": [
    "valve.columns"
   ]
  },
  {
   "cell_type": "code",
   "execution_count": 59,
   "metadata": {},
   "outputs": [],
   "source": [
    "y=valve['normal(0)/abnormal(1)'].values\n",
    "x=valve.drop(columns=['normal(0)/abnormal(1)'], axis=1)"
   ]
  },
  {
   "cell_type": "code",
   "execution_count": 60,
   "metadata": {},
   "outputs": [
    {
     "name": "stdout",
     "output_type": "stream",
     "text": [
      "Fold:1, Train set: 3336, Test set:834\n",
      "Fold:2, Train set: 3336, Test set:834\n",
      "Fold:3, Train set: 3336, Test set:834\n",
      "Fold:4, Train set: 3336, Test set:834\n",
      "Fold:5, Train set: 3336, Test set:834\n"
     ]
    }
   ],
   "source": [
    "# We will use this 'kf'(KFold splitting stratergy) object as input to cross_val_score() method\n",
    "kf =KFold(n_splits=5, shuffle=True, random_state=42)\n",
    "\n",
    "cnt = 1\n",
    "# split()  method generate indices to split data into training and test set.\n",
    "for train_index, test_index in kf.split(x, y):\n",
    "    print(f'Fold:{cnt}, Train set: {len(train_index)}, Test set:{len(test_index)}')\n",
    "    cnt += 1"
   ]
  },
  {
   "cell_type": "code",
   "execution_count": 61,
   "metadata": {},
   "outputs": [
    {
     "name": "stderr",
     "output_type": "stream",
     "text": [
      "C:\\Users\\regis\\Anaconda3\\lib\\site-packages\\sklearn\\ensemble\\forest.py:245: FutureWarning: The default value of n_estimators will change from 10 in version 0.20 to 100 in 0.22.\n",
      "  \"10 in version 0.20 to 100 in 0.22.\", FutureWarning)\n",
      "C:\\Users\\regis\\Anaconda3\\lib\\site-packages\\sklearn\\ensemble\\forest.py:245: FutureWarning: The default value of n_estimators will change from 10 in version 0.20 to 100 in 0.22.\n",
      "  \"10 in version 0.20 to 100 in 0.22.\", FutureWarning)\n",
      "C:\\Users\\regis\\Anaconda3\\lib\\site-packages\\sklearn\\ensemble\\forest.py:245: FutureWarning: The default value of n_estimators will change from 10 in version 0.20 to 100 in 0.22.\n",
      "  \"10 in version 0.20 to 100 in 0.22.\", FutureWarning)\n",
      "C:\\Users\\regis\\Anaconda3\\lib\\site-packages\\sklearn\\ensemble\\forest.py:245: FutureWarning: The default value of n_estimators will change from 10 in version 0.20 to 100 in 0.22.\n",
      "  \"10 in version 0.20 to 100 in 0.22.\", FutureWarning)\n",
      "C:\\Users\\regis\\Anaconda3\\lib\\site-packages\\sklearn\\ensemble\\forest.py:245: FutureWarning: The default value of n_estimators will change from 10 in version 0.20 to 100 in 0.22.\n",
      "  \"10 in version 0.20 to 100 in 0.22.\", FutureWarning)\n"
     ]
    },
    {
     "name": "stdout",
     "output_type": "stream",
     "text": [
      "Scores for each fold are: [0.95083933 0.94364508 0.95323741 0.9616307  0.94484412]\n",
      "Average score: 0.95\n"
     ]
    }
   ],
   "source": [
    "score = cross_val_score(ensemble.RandomForestClassifier(random_state= 42), x, y, cv= kf, scoring=\"accuracy\")\n",
    "print(f'Scores for each fold are: {score}')\n",
    "print(f'Average score: {\"{:.2f}\".format(score.mean())}')"
   ]
  },
  {
   "cell_type": "code",
   "execution_count": 62,
   "metadata": {},
   "outputs": [],
   "source": [
    "y_pred = classifier.predict(xTest)"
   ]
  },
  {
   "cell_type": "code",
   "execution_count": 63,
   "metadata": {},
   "outputs": [
    {
     "name": "stdout",
     "output_type": "stream",
     "text": [
      "confusion matrix\n",
      "[[742   3]\n",
      " [ 35  54]]\n",
      "classification report\n",
      "              precision    recall  f1-score   support\n",
      "\n",
      "           0       0.95      1.00      0.98       745\n",
      "           1       0.95      0.61      0.74        89\n",
      "\n",
      "    accuracy                           0.95       834\n",
      "   macro avg       0.95      0.80      0.86       834\n",
      "weighted avg       0.95      0.95      0.95       834\n",
      "\n",
      "accuracy score\n",
      "0.9544364508393285\n"
     ]
    }
   ],
   "source": [
    "from sklearn.metrics import classification_report, confusion_matrix, accuracy_score\n",
    "print('confusion matrix')\n",
    "print(confusion_matrix(yTest, y_pred))\n",
    "print('classification report')\n",
    "print(classification_report(yTest, y_pred))\n",
    "print('accuracy score')\n",
    "print(accuracy_score(yTest, y_pred))"
   ]
  },
  {
   "cell_type": "code",
   "execution_count": 66,
   "metadata": {},
   "outputs": [
    {
     "name": "stdout",
     "output_type": "stream",
     "text": [
      "Feature: 2,\t Name: melspectrogram_max_6dB, \t Score: 4.97833\n",
      "Feature: 4,\t Name: melspectrogram_corr_6dB, \t Score: 4.55280\n",
      "Feature: 5,\t Name: melspectrogram_std_6dB, \t Score: 2.18550\n",
      "Feature: 7,\t Name: rms_6dB, \t Score: 2.06653\n",
      "Feature: 17,\t Name: max perc_6dB, \t Score: 12.66975\n",
      "Feature: 19,\t Name: min perc_6dB, \t Score: 6.14789\n",
      "Feature: 24,\t Name: melspectrogram_corr_0dB, \t Score: 3.73448\n",
      "Feature: 37,\t Name: max perc_0dB, \t Score: 10.73631\n",
      "Feature: 39,\t Name: min perc_0dB, \t Score: 6.31211\n",
      "Feature: 44,\t Name: melspectrogram_corr_-6dB, \t Score: 3.14127\n",
      "Feature: 57,\t Name: max perc_-6dB, \t Score: 6.61771\n",
      "Feature: 59,\t Name: min perc_-6dB, \t Score: 4.57862\n"
     ]
    },
    {
     "data": {
      "image/png": "[encoded data removed]",
      "text/plain": [
       "<Figure size 432x288 with 1 Axes>"
      ]
     },
     "metadata": {
      "needs_background": "light"
     },
     "output_type": "display_data"
    }
   ],
   "source": [
    "# get importance\n",
    "unimportant_columns =[]\n",
    "\n",
    "importance = classifier.feature_importances_\n",
    "# summarize feature importance\n",
    "for i,v in enumerate(importance):\n",
    "    if v*100 > 2:\n",
    "        print(f'Feature: %0d,\\t Name: {x_columns[i]}, \\t Score: %.5f' % (i,v*100))\n",
    "    if v*100 <= 2:\n",
    "        unimportant_columns.append(x_columns[i])\n",
    "# plot feature importance\n",
    "plt.bar([x for x in range(len(importance))], importance)\n",
    "plt.show()\n",
    "y=valve['normal(0)/abnormal(1)'].values\n",
    "x=valve.drop(columns=unimportant_columns, axis=1)"
   ]
  },
  {
   "cell_type": "code",
   "execution_count": 71,
   "metadata": {},
   "outputs": [
    {
     "data": {
      "text/plain": [
       "Index(['melspectrogram_max_6dB', 'melspectrogram_corr_6dB',\n",
       "       'melspectrogram_std_6dB', 'rms_6dB', 'max perc_6dB', 'min perc_6dB',\n",
       "       'melspectrogram_corr_0dB', 'max perc_0dB', 'min perc_0dB',\n",
       "       'melspectrogram_corr_-6dB', 'max perc_-6dB', 'min perc_-6dB',\n",
       "       'normal(0)/abnormal(1)'],\n",
       "      dtype='object')"
      ]
     },
     "execution_count": 71,
     "metadata": {},
     "output_type": "execute_result"
    }
   ],
   "source": [
    "x.columns"
   ]
  },
  {
   "cell_type": "code",
   "execution_count": 67,
   "metadata": {},
   "outputs": [
    {
     "name": "stdout",
     "output_type": "stream",
     "text": [
      "Fold:1, Train set: 3336, Test set:834\n",
      "Fold:2, Train set: 3336, Test set:834\n",
      "Fold:3, Train set: 3336, Test set:834\n",
      "Fold:4, Train set: 3336, Test set:834\n",
      "Fold:5, Train set: 3336, Test set:834\n"
     ]
    }
   ],
   "source": [
    "# We will use this 'kf'(KFold splitting stratergy) object as input to cross_val_score() method\n",
    "kf =KFold(n_splits=5, shuffle=True, random_state=42)\n",
    "\n",
    "cnt = 1\n",
    "# split()  method generate indices to split data into training and test set.\n",
    "for train_index, test_index in kf.split(x, y):\n",
    "    print(f'Fold:{cnt}, Train set: {len(train_index)}, Test set:{len(test_index)}')\n",
    "    cnt += 1"
   ]
  },
  {
   "cell_type": "code",
   "execution_count": 68,
   "metadata": {},
   "outputs": [
    {
     "name": "stderr",
     "output_type": "stream",
     "text": [
      "C:\\Users\\regis\\Anaconda3\\lib\\site-packages\\sklearn\\ensemble\\forest.py:245: FutureWarning: The default value of n_estimators will change from 10 in version 0.20 to 100 in 0.22.\n",
      "  \"10 in version 0.20 to 100 in 0.22.\", FutureWarning)\n",
      "C:\\Users\\regis\\Anaconda3\\lib\\site-packages\\sklearn\\ensemble\\forest.py:245: FutureWarning: The default value of n_estimators will change from 10 in version 0.20 to 100 in 0.22.\n",
      "  \"10 in version 0.20 to 100 in 0.22.\", FutureWarning)\n",
      "C:\\Users\\regis\\Anaconda3\\lib\\site-packages\\sklearn\\ensemble\\forest.py:245: FutureWarning: The default value of n_estimators will change from 10 in version 0.20 to 100 in 0.22.\n",
      "  \"10 in version 0.20 to 100 in 0.22.\", FutureWarning)\n",
      "C:\\Users\\regis\\Anaconda3\\lib\\site-packages\\sklearn\\ensemble\\forest.py:245: FutureWarning: The default value of n_estimators will change from 10 in version 0.20 to 100 in 0.22.\n",
      "  \"10 in version 0.20 to 100 in 0.22.\", FutureWarning)\n",
      "C:\\Users\\regis\\Anaconda3\\lib\\site-packages\\sklearn\\ensemble\\forest.py:245: FutureWarning: The default value of n_estimators will change from 10 in version 0.20 to 100 in 0.22.\n",
      "  \"10 in version 0.20 to 100 in 0.22.\", FutureWarning)\n"
     ]
    },
    {
     "name": "stdout",
     "output_type": "stream",
     "text": [
      "Scores for each fold are: [1. 1. 1. 1. 1.]\n",
      "Average score: 1.00\n"
     ]
    }
   ],
   "source": [
    "score = cross_val_score(ensemble.RandomForestClassifier(random_state= 42), x, y, cv= kf, scoring=\"accuracy\")\n",
    "print(f'Scores for each fold are: {score}')\n",
    "print(f'Average score: {\"{:.2f}\".format(score.mean())}')"
   ]
  },
  {
   "cell_type": "code",
   "execution_count": 69,
   "metadata": {},
   "outputs": [],
   "source": [
    "y_pred = classifier.predict(xTest)"
   ]
  },
  {
   "cell_type": "code",
   "execution_count": 70,
   "metadata": {},
   "outputs": [
    {
     "name": "stdout",
     "output_type": "stream",
     "text": [
      "confusion matrix\n",
      "[[742   3]\n",
      " [ 35  54]]\n",
      "classification report\n",
      "              precision    recall  f1-score   support\n",
      "\n",
      "           0       0.95      1.00      0.98       745\n",
      "           1       0.95      0.61      0.74        89\n",
      "\n",
      "    accuracy                           0.95       834\n",
      "   macro avg       0.95      0.80      0.86       834\n",
      "weighted avg       0.95      0.95      0.95       834\n",
      "\n",
      "accuracy score\n",
      "0.9544364508393285\n"
     ]
    }
   ],
   "source": [
    "from sklearn.metrics import classification_report, confusion_matrix, accuracy_score\n",
    "print('confusion matrix')\n",
    "print(confusion_matrix(yTest, y_pred))\n",
    "print('classification report')\n",
    "print(classification_report(yTest, y_pred))\n",
    "print('accuracy score')\n",
    "print(accuracy_score(yTest, y_pred))"
   ]
  },
  {
   "cell_type": "code",
   "execution_count": null,
   "metadata": {},
   "outputs": [],
   "source": []
  },
  {
   "cell_type": "code",
   "execution_count": null,
   "metadata": {},
   "outputs": [],
   "source": []
  },
  {
   "cell_type": "code",
   "execution_count": null,
   "metadata": {},
   "outputs": [],
   "source": []
  },
  {
   "cell_type": "code",
   "execution_count": null,
   "metadata": {},
   "outputs": [],
   "source": []
  },
  {
   "cell_type": "code",
   "execution_count": 42,
   "metadata": {},
   "outputs": [],
   "source": [
    "#Choosing 80% as training data.\n",
    "xTrain, xTest, yTrain, yTest = train_test_split(x, y, test_size = 0.2, random_state = 42)"
   ]
  },
  {
   "cell_type": "code",
   "execution_count": 43,
   "metadata": {},
   "outputs": [],
   "source": [
    "from sklearn.ensemble import RandomForestClassifier\n",
    "classifier = RandomForestClassifier(n_estimators = 100, random_state = 0)\n",
    "classifier.fit(xTrain, yTrain)\n",
    "y_pred = classifier.predict(xTest)"
   ]
  },
  {
   "attachments": {
    "image.png": {
     "image/png": "[encoded data removed]"
    }
   },
   "cell_type": "markdown",
   "metadata": {},
   "source": [
    "![image.png](attachment:image.png)"
   ]
  },
  {
   "cell_type": "markdown",
   "metadata": {},
   "source": [
    "Positive = normal\n",
    "Negative = abnormal\n",
    "- TN / True Negative: the case was negative and predicted negative\n",
    "- TP / True Positive: the case was positive and predicted positive\n",
    "- FN / False Negative: the case was positive but predicted negative\n",
    "- FP / False Positive: the case was negative but predicted positive\n",
    "### Precision — What percent of your predictions were correct?\n",
    "Precision is the ability of a classifier not to label an instance positive that is actually negative. For each class, it is defined as the ratio of true positives to the sum of a true positive and false positive.\n",
    "Precision:- Accuracy of positive predictions.\n",
    "Precision = TP/(TP + FP)\n",
    "### Recall — What percent of the positive cases did you catch?\n",
    "Recall is the ability of a classifier to find all positive instances. For each class it is defined as the ratio of true positives to the sum of true positives and false negatives.\n",
    "Recall:- Fraction of positives that were correctly identified.\n",
    "Recall = TP/(TP+FN)\n",
    "### F1 score — What percent of positive predictions were correct?\n",
    "The F1 score is a weighted harmonic mean of precision and recall such that the best score is 1.0 and the worst is 0.0. F1 scores are lower than accuracy measures as they embed precision and recall into their computation. As a rule of thumb, the weighted average of F1 should be used to compare classifier models, not global accuracy.\n",
    "F1 Score = 2*(Recall * Precision) / (Recall + Precision)\n",
    "### Support\n",
    "Support is the number of actual occurrences of the class in the specified dataset. Imbalanced support in the training data may indicate structural weaknesses in the reported scores of the classifier and could indicate the need for stratified sampling or rebalancing. Support doesn’t change between models but instead diagnoses the evaluation process.\n"
   ]
  },
  {
   "cell_type": "markdown",
   "metadata": {},
   "source": [
    "### Overfitting\n",
    "Overfitting is a modeling error that introduces bias to the model because it is too closely related to the data set.\n",
    "Overfitting makes the model relevant to its data set only, and irrelevant to any other data sets.\n",
    "Some of the methods used to prevent overfitting include ensembling, data augmentation, data simplification, and cross-validation.\n",
    "\n",
    "The performance can be measured using the percentage of accuracy observed in both data sets to conclude on the presence of overfitting. If the model performs better on the training set than on the test set, it means that the model is likely overfitting."
   ]
  },
  {
   "cell_type": "code",
   "execution_count": 49,
   "metadata": {},
   "outputs": [
    {
     "name": "stdout",
     "output_type": "stream",
     "text": [
      "confusion matrix\n",
      "[[742   3]\n",
      " [ 35  54]]\n",
      "classification report\n",
      "              precision    recall  f1-score   support\n",
      "\n",
      "           0       0.95      1.00      0.98       745\n",
      "           1       0.95      0.61      0.74        89\n",
      "\n",
      "    accuracy                           0.95       834\n",
      "   macro avg       0.95      0.80      0.86       834\n",
      "weighted avg       0.95      0.95      0.95       834\n",
      "\n",
      "accuracy score\n",
      "0.9544364508393285\n"
     ]
    }
   ],
   "source": [
    "from sklearn.metrics import classification_report, confusion_matrix, accuracy_score\n",
    "print('confusion matrix')\n",
    "print(confusion_matrix(yTest, y_pred))\n",
    "print('classification report')\n",
    "print(classification_report(yTest, y_pred))\n",
    "print('accuracy score')\n",
    "print(accuracy_score(yTest, y_pred))"
   ]
  },
  {
   "cell_type": "code",
   "execution_count": 46,
   "metadata": {},
   "outputs": [],
   "source": [
    "x_columns=list(x.columns)"
   ]
  },
  {
   "cell_type": "code",
   "execution_count": 48,
   "metadata": {},
   "outputs": [
    {
     "name": "stdout",
     "output_type": "stream",
     "text": [
      "Feature: 2,\t Name: melspectrogram_max_6dB, \t Score: 4.97833\n",
      "Feature: 4,\t Name: melspectrogram_corr_6dB, \t Score: 4.55280\n",
      "Feature: 5,\t Name: melspectrogram_std_6dB, \t Score: 2.18550\n",
      "Feature: 7,\t Name: rms_6dB, \t Score: 2.06653\n",
      "Feature: 17,\t Name: max perc_6dB, \t Score: 12.66975\n",
      "Feature: 19,\t Name: min perc_6dB, \t Score: 6.14789\n",
      "Feature: 24,\t Name: melspectrogram_corr_0dB, \t Score: 3.73448\n",
      "Feature: 37,\t Name: max perc_0dB, \t Score: 10.73631\n",
      "Feature: 39,\t Name: min perc_0dB, \t Score: 6.31211\n",
      "Feature: 44,\t Name: melspectrogram_corr_-6dB, \t Score: 3.14127\n",
      "Feature: 57,\t Name: max perc_-6dB, \t Score: 6.61771\n",
      "Feature: 59,\t Name: min perc_-6dB, \t Score: 4.57862\n"
     ]
    },
    {
     "data": {
      "image/png": "[encoded data removed]",
      "text/plain": [
       "<Figure size 432x288 with 1 Axes>"
      ]
     },
     "metadata": {
      "needs_background": "light"
     },
     "output_type": "display_data"
    }
   ],
   "source": [
    "# get importance\n",
    "importance = classifier.feature_importances_\n",
    "# summarize feature importance\n",
    "for i,v in enumerate(importance):\n",
    "    if v*100 > 2:\n",
    "        print(f'Feature: %0d,\\t Name: {x_columns[i]}, \\t Score: %.5f' % (i,v*100))\n",
    "# plot feature importance\n",
    "plt.bar([x for x in range(len(importance))], importance)\n",
    "plt.show()"
   ]
  },
  {
   "cell_type": "markdown",
   "metadata": {},
   "source": [
    "correlation matrix"
   ]
  },
  {
   "cell_type": "code",
   "execution_count": null,
   "metadata": {},
   "outputs": [],
   "source": []
  },
  {
   "cell_type": "code",
   "execution_count": null,
   "metadata": {},
   "outputs": [],
   "source": []
  },
  {
   "cell_type": "code",
   "execution_count": null,
   "metadata": {},
   "outputs": [],
   "source": []
  },
  {
   "cell_type": "code",
   "execution_count": null,
   "metadata": {},
   "outputs": [],
   "source": []
  },
  {
   "cell_type": "markdown",
   "metadata": {},
   "source": [
    "# Crossvalidation K-fold"
   ]
  },
  {
   "cell_type": "code",
   "execution_count": null,
   "metadata": {},
   "outputs": [],
   "source": [
    "import numpy as np\n",
    "from sklearn.model_selection import KFold\n",
    "kf = KFold(n_splits=2)\n",
    "kf.get_n_splits(x)"
   ]
  },
  {
   "cell_type": "code",
   "execution_count": null,
   "metadata": {},
   "outputs": [],
   "source": [
    "for train_index, test_index in kf.split(X):\n",
    "    print(\"TRAIN:\", train_index, \"TEST:\", test_index)\n",
    "    X_train, X_test = X[train_index], X[test_index]\n",
    "    y_train, y_test = y[train_index], y[test_index]"
   ]
  },
  {
   "cell_type": "code",
   "execution_count": null,
   "metadata": {},
   "outputs": [],
   "source": []
  },
  {
   "cell_type": "code",
   "execution_count": null,
   "metadata": {},
   "outputs": [],
   "source": []
  },
  {
   "cell_type": "code",
   "execution_count": null,
   "metadata": {},
   "outputs": [],
   "source": []
  },
  {
   "cell_type": "markdown",
   "metadata": {},
   "source": [
    "## To reuse"
   ]
  },
  {
   "cell_type": "code",
   "execution_count": null,
   "metadata": {},
   "outputs": [],
   "source": [
    "def extract_features(file):\n",
    "\n",
    "    # check if normal or abnormal\n",
    "    if 'abnormal' in file:\n",
    "        operation=1\n",
    "    else:\n",
    "        operation=0\n",
    "    # loading the file, getting y and sr (sample rate)\n",
    "\n",
    "    y, sr = librosa.load(file)\n",
    "\n",
    "    # Getting S and phase\n",
    "\n",
    "    S, phase = librosa.magphase(librosa.stft(y=y))\n",
    "\n",
    "    # Features for the DataFrame\n",
    "# chroma features have pitch which is probably not usefull\n",
    "    chroma_stft = np.mean(librosa.feature.chroma_stft(y=y, sr=sr))\n",
    "\n",
    "    chroma_cqt = np.mean(librosa.feature.chroma_cqt(y=y, sr=sr))\n",
    "\n",
    "    chroma_cens = np.mean(librosa.feature.chroma_cens(y=y, sr=sr))\n",
    "# to do\n",
    "    melspectrogram = np.mean(librosa.feature.melspectrogram(y=y, sr=sr, S=S))\n",
    "    melspectrogram_min = np.min(librosa.feature.melspectrogram(y=y, sr=sr, S=S))\n",
    "    melspectrogram_max = np.max(librosa.feature.melspectrogram(y=y, sr=sr, S=S))\n",
    "    melspectrogram_sum = librosa.feature.melspectrogram(y=y, sr=sr, S=S).sum()\n",
    "    melspectrogram_corr= np.mean(np.corrcoef(librosa.feature.melspectrogram(y=y, sr=sr, S=S)))\n",
    "    melspectrogram_std= np.std(librosa.feature.melspectrogram(y=y, sr=sr, S=S))\n",
    "# to check This feature is one of the most important method to extract a feature of an audio signal and is \n",
    "#used majorly whenever working on audio signals. The mel frequency cepstral coefficients (MFCCs) of a signal \n",
    "#are a small set of features (usually about 10–20) which concisely describe the overall shape of a spectral \n",
    "#envelope.\n",
    "    \n",
    "    mfcc = np.mean(librosa.feature.mfcc(y=y, sr=sr))\n",
    "#rms when plotted similarities with melspectorgram\n",
    "#normal rms mean higher than abnormal?\n",
    "    rms = np.mean(librosa.feature.rms(y=y, S=S))\n",
    "#spectral centroid computes weighted mean of the frequencies in the sound\n",
    "#plot is line on melspectogram\n",
    "    spectral_centroid = np.mean(librosa.feature.spectral_centroid(y=y, sr=sr, S=S))\n",
    "#Bandwidth(blue zone) is the difference between the upper and lower frequencies in a continuous band of frequencies\n",
    "    spectral_bandwidth = np.mean(librosa.feature.spectral_bandwidth(y=y, sr=sr, S=S))\n",
    "#needs further investigation, but makes continous data discrete in bins\n",
    "    spectral_contrast = np.mean(librosa.feature.spectral_contrast(y=y, sr=sr, S=S))\n",
    "#Spectral flatness (or tonality coefficient) is a measure to quantify how much noise-like a sound is, as opposed to\n",
    "#being tone-like 1. A high spectral flatness (closer to 1.0) indicates the spectrum is similar to white noise. \n",
    "#It is often converted to decibel.\n",
    "    spectral_flatness = np.mean(librosa.feature.spectral_flatness(y=y, S=S))\n",
    "#The roll-off frequency is defined for each frame as the center frequency for a spectrogram bin such that at \n",
    "#least roll_percent (0.85 by default) of the energy of the spectrum in this frame is contained in this bin and \n",
    "#he bins below. This can be used to, e.g., approximate the maximum (or minimum) frequency by setting roll_percent \n",
    "#to a value close to 1 (or 0).\n",
    "#rolloff with rolloff coefficient 0.01 seems to be the same for (ab)normal\n",
    "    spectral_rolloff = np.mean(librosa.feature.spectral_rolloff(y=y, sr=sr, S=S))\n",
    "#Get coefficients of fitting an nth-order polynomial to the columns of a spectrogram\n",
    "    poly_features = np.mean(librosa.feature.poly_features(y=y, sr=sr, S=S))\n",
    "#probably chroma\n",
    "    tonnetz = np.mean(librosa.feature.tonnetz(y=y, sr=sr))\n",
    "#normal has higher zero crossing rate?\n",
    "    zero_crossing_rate = np.mean(librosa.feature.zero_crossing_rate(y=y))\n",
    "#divide in frequency bands could give more information bout difference normal and abnormal (BPM)\n",
    "    #tempo = librosa.beat.tempo(onset_envelope=oenv, sr=sr,\n",
    "                       #    hop_length=hop_length)[0]\n",
    "    # putting them into a dataframe\n",
    "    y_harmonic, y_percussive = librosa.effects.hpss(y)\n",
    "    return pd.DataFrame({ 'melspectrogram' : [melspectrogram],'melspectrogram_min':[melspectrogram_min],\n",
    "                             'melspectrogram_max':[melspectrogram_max], 'melspectrogram_sum':[melspectrogram_sum],\n",
    "                             'melspectrogram_corr':[melspectrogram_corr] ,'melspectrogram_std':[melspectrogram_std] ,\n",
    "                             'mfcc' : [mfcc], 'rms' : [rms],\n",
    "                            'spectral_centroid' : [spectral_centroid], 'spectral_bandwidth' : [spectral_bandwidth],\n",
    "                            'spectral_contrast' : [spectral_contrast], 'spectral_flatness ' : [spectral_flatness],\n",
    "                            'spectral_rolloff' : [spectral_rolloff], \n",
    "                            'zero_crossing_rate' : [zero_crossing_rate],\"mean harm\": np.mean(y_harmonic),\n",
    "                            \"mean perc\": [np.mean(y_percussive)],\"max harm\":[np.max(y_harmonic)],\"max perc\": [np.max(y_percussive)],\n",
    "                             \"min harm\":[np.min(y_harmonic)], \"min perc\":[np.min(y_percussive)], 'normal(0)/abnormal(1)':[operation]})"
   ]
  },
  {
   "cell_type": "code",
   "execution_count": null,
   "metadata": {},
   "outputs": [],
   "source": [
    "def create_df(machine,dB_value):\n",
    "    # start measuring excecution time\n",
    "    start_time = time.time()\n",
    "    #create empty list that will be filled with pathnames\n",
    "    #find paths normal wav files\n",
    "    list_normal_6 = []\n",
    "    num=[0,2,4,6]\n",
    "    for i in num:\n",
    "        directory_normal_6 = f\"/home/regis/Desktop/Sound Project/files/{machine}/{dB_value}_dB_{machine}/{machine}/id_0{i}/normal/\"\n",
    "        for filename in os.listdir(directory_normal_6):\n",
    "            file = f\"{directory_normal_6}{filename}\"\n",
    "            list_normal_6.append(file)\n",
    "    list_normal_6.sort()\n",
    "    #find paths abnormal wav files\n",
    "    list_abnormal_6 = []\n",
    "    num=[0,2,4,6]\n",
    "    for i in num:\n",
    "        directory_abnormal_6 = f\"/home/regis/Desktop/Sound Project/files/{machine}/{dB_value}_dB_{machine}/{machine}/id_0{i}/abnormal/\"\n",
    "        for filename in os.listdir(directory_abnormal_6):\n",
    "            file = f\"{directory_abnormal_6}{filename}\"\n",
    "            list_abnormal_6.append(file)\n",
    "    list_abnormal_6.sort()\n",
    "    #add normal to df\n",
    "    for wav_file in list_normal_6:\n",
    "        df = extract_features(wav_file)\n",
    "        if wav_file == list_normal_6[0]:\n",
    "            df.to_csv(f'Librosa_features_{machine}_{dB_value}dB.csv')\n",
    "        else:\n",
    "            df.to_csv(f'Librosa_features_{machine}_{dB_value}dB.csv', mode='a', header=False)\n",
    "    #add abnormal to df\n",
    "    for wav_file in list_abnormal_6:\n",
    "        df = extract_features(wav_file)\n",
    "        df.to_csv(f'Librosa_features_{machine}_{dB_value}dB.csv', mode='a', header=False) \n",
    "    print(\"--- %s seconds ---\" % (time.time() - start_time)"
   ]
  }
 ],
 "metadata": {
  "kernelspec": {
   "display_name": "Python 3",
   "language": "python",
   "name": "python3"
  },
  "language_info": {
   "codemirror_mode": {
    "name": "ipython",
    "version": 3
   },
   "file_extension": ".py",
   "mimetype": "text/x-python",
   "name": "python",
   "nbconvert_exporter": "python",
   "pygments_lexer": "ipython3",
   "version": "3.7.4"
  }
 },
 "nbformat": 4,
 "nbformat_minor": 5
}
