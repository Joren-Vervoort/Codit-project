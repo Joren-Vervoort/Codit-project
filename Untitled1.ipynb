{
 "cells": [
  {
   "cell_type": "code",
   "execution_count": 63,
   "id": "closing-fraction",
   "metadata": {},
   "outputs": [],
   "source": [
    "import librosa\n",
    "from librosa import feature\n",
    "import numpy as np\n",
    "import pandas as pd\n",
    "import matplotlib.pyplot as plt\n",
    "from sklearn import tree\n",
    "#import graphviz \n",
    "from sklearn.ensemble import RandomForestClassifier\n",
    "from sklearn.model_selection import train_test_split\n",
    "import os\n",
    "import sys\n",
    "import time\n",
    "from functools import reduce\n",
    "from sklearn.model_selection import KFold, StratifiedKFold, cross_val_score\n",
    "from sklearn import linear_model, tree, ensemble"
   ]
  },
  {
   "cell_type": "markdown",
   "id": "tutorial-company",
   "metadata": {},
   "source": [
    "## Valve merging of 6,0,-6"
   ]
  },
  {
   "cell_type": "code",
   "execution_count": 64,
   "id": "fresh-charter",
   "metadata": {},
   "outputs": [],
   "source": [
    "valve=pd.read_csv(f'/home/regis/Desktop/machines/Codit-project/Librosa_features_valve_6dB.csv')"
   ]
  },
  {
   "cell_type": "code",
   "execution_count": 65,
   "id": "quick-selling",
   "metadata": {},
   "outputs": [
    {
     "data": {
      "text/plain": [
       "Index(['Unnamed: 0', 'melspectrogram', 'melspectrogram_min',\n",
       "       'melspectrogram_max', 'melspectrogram_sum', 'melspectrogram_corr',\n",
       "       'melspectrogram_std', 'mfcc', 'rms', 'spectral_centroid',\n",
       "       'spectral_bandwidth', 'spectral_contrast', 'spectral_flatness ',\n",
       "       'spectral_rolloff', 'zero_crossing_rate', 'mean harm', 'mean perc',\n",
       "       'max harm', 'max perc', 'min harm', 'min perc',\n",
       "       'normal(0)/abnormal(1)'],\n",
       "      dtype='object')"
      ]
     },
     "execution_count": 65,
     "metadata": {},
     "output_type": "execute_result"
    }
   ],
   "source": [
    "valve.columns"
   ]
  },
  {
   "cell_type": "code",
   "execution_count": 66,
   "id": "alien-happening",
   "metadata": {},
   "outputs": [
    {
     "data": {
      "text/html": [
       "<div>\n",
       "<style scoped>\n",
       "    .dataframe tbody tr th:only-of-type {\n",
       "        vertical-align: middle;\n",
       "    }\n",
       "\n",
       "    .dataframe tbody tr th {\n",
       "        vertical-align: top;\n",
       "    }\n",
       "\n",
       "    .dataframe thead th {\n",
       "        text-align: right;\n",
       "    }\n",
       "</style>\n",
       "<table border=\"1\" class=\"dataframe\">\n",
       "  <thead>\n",
       "    <tr style=\"text-align: right;\">\n",
       "      <th></th>\n",
       "      <th>Unnamed: 0</th>\n",
       "      <th>melspectrogram</th>\n",
       "      <th>melspectrogram_min</th>\n",
       "      <th>melspectrogram_max</th>\n",
       "      <th>melspectrogram_sum</th>\n",
       "      <th>melspectrogram_corr</th>\n",
       "      <th>melspectrogram_std</th>\n",
       "      <th>mfcc</th>\n",
       "      <th>rms</th>\n",
       "      <th>spectral_centroid</th>\n",
       "      <th>...</th>\n",
       "      <th>spectral_flatness</th>\n",
       "      <th>spectral_rolloff</th>\n",
       "      <th>zero_crossing_rate</th>\n",
       "      <th>mean harm</th>\n",
       "      <th>mean perc</th>\n",
       "      <th>max harm</th>\n",
       "      <th>max perc</th>\n",
       "      <th>min harm</th>\n",
       "      <th>min perc</th>\n",
       "      <th>normal(0)/abnormal(1)</th>\n",
       "    </tr>\n",
       "  </thead>\n",
       "  <tbody>\n",
       "    <tr>\n",
       "      <th>0</th>\n",
       "      <td>0</td>\n",
       "      <td>0.006300</td>\n",
       "      <td>6.218734e-10</td>\n",
       "      <td>0.090277</td>\n",
       "      <td>347.580261</td>\n",
       "      <td>0.523183</td>\n",
       "      <td>0.010437</td>\n",
       "      <td>-15.342528</td>\n",
       "      <td>0.002967</td>\n",
       "      <td>1399.372425</td>\n",
       "      <td>...</td>\n",
       "      <td>0.000852</td>\n",
       "      <td>2847.104130</td>\n",
       "      <td>0.060725</td>\n",
       "      <td>-3.781356e-07</td>\n",
       "      <td>4.012865e-07</td>\n",
       "      <td>0.006918</td>\n",
       "      <td>0.070441</td>\n",
       "      <td>-0.006861</td>\n",
       "      <td>-0.060939</td>\n",
       "      <td>0</td>\n",
       "    </tr>\n",
       "    <tr>\n",
       "      <th>1</th>\n",
       "      <td>0</td>\n",
       "      <td>0.007236</td>\n",
       "      <td>7.803309e-10</td>\n",
       "      <td>0.087623</td>\n",
       "      <td>399.178070</td>\n",
       "      <td>0.461858</td>\n",
       "      <td>0.009354</td>\n",
       "      <td>-14.877153</td>\n",
       "      <td>0.002920</td>\n",
       "      <td>1765.622412</td>\n",
       "      <td>...</td>\n",
       "      <td>0.001012</td>\n",
       "      <td>3777.878084</td>\n",
       "      <td>0.094482</td>\n",
       "      <td>-1.201143e-07</td>\n",
       "      <td>-3.884470e-07</td>\n",
       "      <td>0.006952</td>\n",
       "      <td>0.070928</td>\n",
       "      <td>-0.006763</td>\n",
       "      <td>-0.060128</td>\n",
       "      <td>0</td>\n",
       "    </tr>\n",
       "    <tr>\n",
       "      <th>2</th>\n",
       "      <td>0</td>\n",
       "      <td>0.006186</td>\n",
       "      <td>6.056689e-10</td>\n",
       "      <td>0.092516</td>\n",
       "      <td>341.284851</td>\n",
       "      <td>0.494020</td>\n",
       "      <td>0.008715</td>\n",
       "      <td>-16.809891</td>\n",
       "      <td>0.002680</td>\n",
       "      <td>1716.821280</td>\n",
       "      <td>...</td>\n",
       "      <td>0.000950</td>\n",
       "      <td>3394.926803</td>\n",
       "      <td>0.094802</td>\n",
       "      <td>-3.535212e-07</td>\n",
       "      <td>-4.008645e-07</td>\n",
       "      <td>0.007342</td>\n",
       "      <td>0.070832</td>\n",
       "      <td>-0.007282</td>\n",
       "      <td>-0.060499</td>\n",
       "      <td>0</td>\n",
       "    </tr>\n",
       "    <tr>\n",
       "      <th>3</th>\n",
       "      <td>0</td>\n",
       "      <td>0.006994</td>\n",
       "      <td>6.636679e-10</td>\n",
       "      <td>0.097133</td>\n",
       "      <td>385.858826</td>\n",
       "      <td>0.489502</td>\n",
       "      <td>0.009895</td>\n",
       "      <td>-15.353941</td>\n",
       "      <td>0.002953</td>\n",
       "      <td>1466.548926</td>\n",
       "      <td>...</td>\n",
       "      <td>0.000681</td>\n",
       "      <td>3035.257362</td>\n",
       "      <td>0.071383</td>\n",
       "      <td>-1.655043e-09</td>\n",
       "      <td>-1.397088e-07</td>\n",
       "      <td>0.006073</td>\n",
       "      <td>0.073961</td>\n",
       "      <td>-0.005455</td>\n",
       "      <td>-0.060447</td>\n",
       "      <td>0</td>\n",
       "    </tr>\n",
       "    <tr>\n",
       "      <th>4</th>\n",
       "      <td>0</td>\n",
       "      <td>0.005965</td>\n",
       "      <td>5.532336e-10</td>\n",
       "      <td>0.119931</td>\n",
       "      <td>329.072296</td>\n",
       "      <td>0.520290</td>\n",
       "      <td>0.010416</td>\n",
       "      <td>-15.100811</td>\n",
       "      <td>0.002925</td>\n",
       "      <td>1267.393978</td>\n",
       "      <td>...</td>\n",
       "      <td>0.000508</td>\n",
       "      <td>2481.789092</td>\n",
       "      <td>0.053385</td>\n",
       "      <td>-7.166033e-07</td>\n",
       "      <td>1.267004e-07</td>\n",
       "      <td>0.006912</td>\n",
       "      <td>0.070822</td>\n",
       "      <td>-0.006740</td>\n",
       "      <td>-0.063913</td>\n",
       "      <td>0</td>\n",
       "    </tr>\n",
       "  </tbody>\n",
       "</table>\n",
       "<p>5 rows × 22 columns</p>\n",
       "</div>"
      ],
      "text/plain": [
       "   Unnamed: 0  melspectrogram  melspectrogram_min  melspectrogram_max  \\\n",
       "0           0        0.006300        6.218734e-10            0.090277   \n",
       "1           0        0.007236        7.803309e-10            0.087623   \n",
       "2           0        0.006186        6.056689e-10            0.092516   \n",
       "3           0        0.006994        6.636679e-10            0.097133   \n",
       "4           0        0.005965        5.532336e-10            0.119931   \n",
       "\n",
       "   melspectrogram_sum  melspectrogram_corr  melspectrogram_std       mfcc  \\\n",
       "0          347.580261             0.523183            0.010437 -15.342528   \n",
       "1          399.178070             0.461858            0.009354 -14.877153   \n",
       "2          341.284851             0.494020            0.008715 -16.809891   \n",
       "3          385.858826             0.489502            0.009895 -15.353941   \n",
       "4          329.072296             0.520290            0.010416 -15.100811   \n",
       "\n",
       "        rms  spectral_centroid  ...  spectral_flatness   spectral_rolloff  \\\n",
       "0  0.002967        1399.372425  ...            0.000852       2847.104130   \n",
       "1  0.002920        1765.622412  ...            0.001012       3777.878084   \n",
       "2  0.002680        1716.821280  ...            0.000950       3394.926803   \n",
       "3  0.002953        1466.548926  ...            0.000681       3035.257362   \n",
       "4  0.002925        1267.393978  ...            0.000508       2481.789092   \n",
       "\n",
       "   zero_crossing_rate     mean harm     mean perc  max harm  max perc  \\\n",
       "0            0.060725 -3.781356e-07  4.012865e-07  0.006918  0.070441   \n",
       "1            0.094482 -1.201143e-07 -3.884470e-07  0.006952  0.070928   \n",
       "2            0.094802 -3.535212e-07 -4.008645e-07  0.007342  0.070832   \n",
       "3            0.071383 -1.655043e-09 -1.397088e-07  0.006073  0.073961   \n",
       "4            0.053385 -7.166033e-07  1.267004e-07  0.006912  0.070822   \n",
       "\n",
       "   min harm  min perc  normal(0)/abnormal(1)  \n",
       "0 -0.006861 -0.060939                      0  \n",
       "1 -0.006763 -0.060128                      0  \n",
       "2 -0.007282 -0.060499                      0  \n",
       "3 -0.005455 -0.060447                      0  \n",
       "4 -0.006740 -0.063913                      0  \n",
       "\n",
       "[5 rows x 22 columns]"
      ]
     },
     "execution_count": 66,
     "metadata": {},
     "output_type": "execute_result"
    }
   ],
   "source": [
    "valve.head()"
   ]
  },
  {
   "cell_type": "code",
   "execution_count": 67,
   "id": "radio-canyon",
   "metadata": {},
   "outputs": [
    {
     "data": {
      "text/plain": [
       "Index(['Unnamed: 0', 'melspectrogram', 'melspectrogram_min',\n",
       "       'melspectrogram_max', 'melspectrogram_sum', 'melspectrogram_corr',\n",
       "       'melspectrogram_std', 'mfcc', 'rms', 'spectral_centroid',\n",
       "       'spectral_bandwidth', 'spectral_contrast', 'spectral_flatness ',\n",
       "       'spectral_rolloff', 'zero_crossing_rate', 'mean harm', 'mean perc',\n",
       "       'max harm', 'max perc', 'min harm', 'min perc',\n",
       "       'normal(0)/abnormal(1)'],\n",
       "      dtype='object')"
      ]
     },
     "execution_count": 67,
     "metadata": {},
     "output_type": "execute_result"
    }
   ],
   "source": [
    "valve.columns"
   ]
  },
  {
   "cell_type": "code",
   "execution_count": 68,
   "id": "voluntary-treatment",
   "metadata": {},
   "outputs": [],
   "source": [
    "y=valve['normal(0)/abnormal(1)'].values\n",
    "X=valve.drop(columns=['normal(0)/abnormal(1)'], axis=1)"
   ]
  },
  {
   "cell_type": "code",
   "execution_count": 69,
   "id": "roman-dayton",
   "metadata": {},
   "outputs": [],
   "source": [
    "#Choosing 80% as training data.\n",
    "X_train, X_test, y_train, y_test = train_test_split(X, y, test_size = 0.2, random_state = 42)"
   ]
  },
  {
   "cell_type": "code",
   "execution_count": 70,
   "id": "informative-daniel",
   "metadata": {},
   "outputs": [],
   "source": [
    "from sklearn.ensemble import RandomForestClassifier\n",
    "classifier = RandomForestClassifier(n_estimators = 100, random_state = 42)\n",
    "classifier.fit(X_train, y_train)\n",
    "y_pred = classifier.predict(X_test)"
   ]
  },
  {
   "cell_type": "code",
   "execution_count": 71,
   "id": "exempt-copying",
   "metadata": {},
   "outputs": [
    {
     "name": "stdout",
     "output_type": "stream",
     "text": [
      "confusion matrix\n",
      "[[740   5]\n",
      " [ 33  56]]\n",
      "classification report\n",
      "              precision    recall  f1-score   support\n",
      "\n",
      "           0       0.96      0.99      0.97       745\n",
      "           1       0.92      0.63      0.75        89\n",
      "\n",
      "    accuracy                           0.95       834\n",
      "   macro avg       0.94      0.81      0.86       834\n",
      "weighted avg       0.95      0.95      0.95       834\n",
      "\n",
      "accuracy score\n",
      "0.9544364508393285\n"
     ]
    }
   ],
   "source": [
    "from sklearn.metrics import classification_report, confusion_matrix, accuracy_score\n",
    "print('confusion matrix')\n",
    "print(confusion_matrix(y_test, y_pred))\n",
    "print('classification report')\n",
    "print(classification_report(y_test, y_pred))\n",
    "print('accuracy score')\n",
    "print(accuracy_score(y_test, y_pred))"
   ]
  },
  {
   "cell_type": "code",
   "execution_count": 72,
   "id": "rubber-hebrew",
   "metadata": {},
   "outputs": [],
   "source": [
    "x_columns=list(X.columns)"
   ]
  },
  {
   "cell_type": "code",
   "execution_count": 73,
   "id": "multiple-floating",
   "metadata": {
    "scrolled": true
   },
   "outputs": [
    {
     "name": "stdout",
     "output_type": "stream",
     "text": [
      "Feature: 1,\t Name: melspectrogram, \t Score: 3.24146\n",
      "Feature: 3,\t Name: melspectrogram_max, \t Score: 8.99006\n",
      "Feature: 4,\t Name: melspectrogram_sum, \t Score: 3.47300\n",
      "Feature: 5,\t Name: melspectrogram_corr, \t Score: 11.41481\n",
      "Feature: 6,\t Name: melspectrogram_std, \t Score: 4.22745\n",
      "Feature: 8,\t Name: rms, \t Score: 3.99692\n",
      "Feature: 18,\t Name: max perc, \t Score: 25.44581\n",
      "Feature: 20,\t Name: min perc, \t Score: 15.74090\n"
     ]
    },
    {
     "data": {
      "image/png": "[encoded data removed]",
      "text/plain": [
       "<Figure size 432x288 with 1 Axes>"
      ]
     },
     "metadata": {
      "needs_background": "light"
     },
     "output_type": "display_data"
    }
   ],
   "source": [
    "# get importance\n",
    "unimportant_columns =[]\n",
    "\n",
    "importance = classifier.feature_importances_\n",
    "# summarize feature importance\n",
    "for i,v in enumerate(importance):\n",
    "    if v*100 > 3:\n",
    "        print(f'Feature: %0d,\\t Name: {x_columns[i]}, \\t Score: %.5f' % (i,v*100))\n",
    "# plot feature importance\n",
    "plt.bar([x for x in range(len(importance))], importance)\n",
    "plt.show()"
   ]
  },
  {
   "cell_type": "code",
   "execution_count": null,
   "id": "continuous-timing",
   "metadata": {},
   "outputs": [],
   "source": []
  }
 ],
 "metadata": {
  "kernelspec": {
   "display_name": "Python 3",
   "language": "python",
   "name": "python3"
  },
  "language_info": {
   "codemirror_mode": {
    "name": "ipython",
    "version": 3
   },
   "file_extension": ".py",
   "mimetype": "text/x-python",
   "name": "python",
   "nbconvert_exporter": "python",
   "pygments_lexer": "ipython3",
   "version": "3.7.7"
  }
 },
 "nbformat": 4,
 "nbformat_minor": 5
}
